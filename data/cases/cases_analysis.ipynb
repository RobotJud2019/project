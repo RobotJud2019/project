{
 "cells": [
  {
   "cell_type": "code",
   "execution_count": 1,
   "metadata": {},
   "outputs": [],
   "source": [
    "import pickle"
   ]
  },
  {
   "cell_type": "code",
   "execution_count": 9,
   "metadata": {},
   "outputs": [],
   "source": [
    "import numpy as np\n",
    "import pandas as pd\n",
    "import matplotlib.pyplot as plt"
   ]
  },
  {
   "cell_type": "code",
   "execution_count": 3,
   "metadata": {},
   "outputs": [],
   "source": [
    "from scipy.stats import ttest_ind    # ttest_ind tests the equality of means\n",
    "from scipy.stats import chisquare    # chisquare tests the independence of 2 distributions"
   ]
  },
  {
   "cell_type": "code",
   "execution_count": 4,
   "metadata": {},
   "outputs": [],
   "source": [
    "df = pickle.load(open(\"/home/xhta/Robot/proj/pj_df_full.20190629_095112.pkl\", \"rb\"))"
   ]
  },
  {
   "cell_type": "code",
   "execution_count": 5,
   "metadata": {},
   "outputs": [
    {
     "data": {
      "text/plain": [
       "5762"
      ]
     },
     "execution_count": 5,
     "metadata": {},
     "output_type": "execute_result"
    }
   ],
   "source": [
    "len(df)"
   ]
  },
  {
   "cell_type": "code",
   "execution_count": 6,
   "metadata": {},
   "outputs": [
    {
     "data": {
      "text/html": [
       "<div>\n",
       "<style scoped>\n",
       "    .dataframe tbody tr th:only-of-type {\n",
       "        vertical-align: middle;\n",
       "    }\n",
       "\n",
       "    .dataframe tbody tr th {\n",
       "        vertical-align: top;\n",
       "    }\n",
       "\n",
       "    .dataframe thead th {\n",
       "        text-align: right;\n",
       "    }\n",
       "</style>\n",
       "<table border=\"1\" class=\"dataframe\">\n",
       "  <thead>\n",
       "    <tr style=\"text-align: right;\">\n",
       "      <th></th>\n",
       "      <th>case_reversed</th>\n",
       "      <th>judge_id</th>\n",
       "      <th>year</th>\n",
       "      <th>log_cites</th>\n",
       "      <th>LastName</th>\n",
       "      <th>FirstName</th>\n",
       "      <th>Gender</th>\n",
       "      <th>Pres</th>\n",
       "      <th>Party</th>\n",
       "      <th>nlets</th>\n",
       "      <th>...</th>\n",
       "      <th>antpresent</th>\n",
       "      <th>antfuture</th>\n",
       "      <th>nfpast</th>\n",
       "      <th>nfpresent</th>\n",
       "      <th>nffuture</th>\n",
       "      <th>antfpast</th>\n",
       "      <th>antfpresent</th>\n",
       "      <th>antffuture</th>\n",
       "      <th>ldeont</th>\n",
       "      <th>lmodal</th>\n",
       "    </tr>\n",
       "    <tr>\n",
       "      <th>caseid</th>\n",
       "      <th></th>\n",
       "      <th></th>\n",
       "      <th></th>\n",
       "      <th></th>\n",
       "      <th></th>\n",
       "      <th></th>\n",
       "      <th></th>\n",
       "      <th></th>\n",
       "      <th></th>\n",
       "      <th></th>\n",
       "      <th></th>\n",
       "      <th></th>\n",
       "      <th></th>\n",
       "      <th></th>\n",
       "      <th></th>\n",
       "      <th></th>\n",
       "      <th></th>\n",
       "      <th></th>\n",
       "      <th></th>\n",
       "      <th></th>\n",
       "      <th></th>\n",
       "    </tr>\n",
       "  </thead>\n",
       "  <tbody>\n",
       "    <tr>\n",
       "      <th>X3JGGO</th>\n",
       "      <td>0</td>\n",
       "      <td>1653</td>\n",
       "      <td>1925</td>\n",
       "      <td>1.098612</td>\n",
       "      <td>Miller</td>\n",
       "      <td>Wilbur</td>\n",
       "      <td>1</td>\n",
       "      <td>Harry S Truman</td>\n",
       "      <td>Democratic</td>\n",
       "      <td>46558.0</td>\n",
       "      <td>...</td>\n",
       "      <td>0.363874</td>\n",
       "      <td>0.172775</td>\n",
       "      <td>280.0</td>\n",
       "      <td>308.0</td>\n",
       "      <td>101.0</td>\n",
       "      <td>0.406386</td>\n",
       "      <td>0.447025</td>\n",
       "      <td>0.146589</td>\n",
       "      <td>18.0</td>\n",
       "      <td>7.0</td>\n",
       "    </tr>\n",
       "    <tr>\n",
       "      <th>X3OH3J</th>\n",
       "      <td>0</td>\n",
       "      <td>1034</td>\n",
       "      <td>1924</td>\n",
       "      <td>1.609438</td>\n",
       "      <td>Hickenlooper</td>\n",
       "      <td>Smith</td>\n",
       "      <td>1</td>\n",
       "      <td>Warren G. Harding</td>\n",
       "      <td>Republican</td>\n",
       "      <td>16689.0</td>\n",
       "      <td>...</td>\n",
       "      <td>0.335025</td>\n",
       "      <td>0.005076</td>\n",
       "      <td>123.0</td>\n",
       "      <td>94.0</td>\n",
       "      <td>12.0</td>\n",
       "      <td>0.537118</td>\n",
       "      <td>0.410480</td>\n",
       "      <td>0.052402</td>\n",
       "      <td>0.0</td>\n",
       "      <td>8.0</td>\n",
       "    </tr>\n",
       "    <tr>\n",
       "      <th>X3U0KO</th>\n",
       "      <td>0</td>\n",
       "      <td>2303</td>\n",
       "      <td>1925</td>\n",
       "      <td>1.791759</td>\n",
       "      <td>Story</td>\n",
       "      <td>William</td>\n",
       "      <td>1</td>\n",
       "      <td>Ulysses Grant</td>\n",
       "      <td>Republican</td>\n",
       "      <td>5044.0</td>\n",
       "      <td>...</td>\n",
       "      <td>0.527273</td>\n",
       "      <td>0.036364</td>\n",
       "      <td>31.0</td>\n",
       "      <td>39.0</td>\n",
       "      <td>8.0</td>\n",
       "      <td>0.397436</td>\n",
       "      <td>0.500000</td>\n",
       "      <td>0.102564</td>\n",
       "      <td>0.0</td>\n",
       "      <td>3.0</td>\n",
       "    </tr>\n",
       "    <tr>\n",
       "      <th>X53HAD</th>\n",
       "      <td>0</td>\n",
       "      <td>1764</td>\n",
       "      <td>1924</td>\n",
       "      <td>0.000000</td>\n",
       "      <td>Nielsen</td>\n",
       "      <td>Leland</td>\n",
       "      <td>1</td>\n",
       "      <td>Richard M. Nixon</td>\n",
       "      <td>Republican</td>\n",
       "      <td>32994.0</td>\n",
       "      <td>...</td>\n",
       "      <td>0.524927</td>\n",
       "      <td>0.052786</td>\n",
       "      <td>152.0</td>\n",
       "      <td>331.0</td>\n",
       "      <td>49.0</td>\n",
       "      <td>0.285714</td>\n",
       "      <td>0.622180</td>\n",
       "      <td>0.092105</td>\n",
       "      <td>9.0</td>\n",
       "      <td>8.0</td>\n",
       "    </tr>\n",
       "    <tr>\n",
       "      <th>X9VC5V</th>\n",
       "      <td>0</td>\n",
       "      <td>493</td>\n",
       "      <td>1925</td>\n",
       "      <td>0.000000</td>\n",
       "      <td>Connally</td>\n",
       "      <td>Ben</td>\n",
       "      <td>1</td>\n",
       "      <td>Harry S Truman</td>\n",
       "      <td>Democratic</td>\n",
       "      <td>1276.0</td>\n",
       "      <td>...</td>\n",
       "      <td>0.181818</td>\n",
       "      <td>0.000000</td>\n",
       "      <td>15.0</td>\n",
       "      <td>7.0</td>\n",
       "      <td>0.0</td>\n",
       "      <td>0.681818</td>\n",
       "      <td>0.318182</td>\n",
       "      <td>0.000000</td>\n",
       "      <td>0.0</td>\n",
       "      <td>1.0</td>\n",
       "    </tr>\n",
       "  </tbody>\n",
       "</table>\n",
       "<p>5 rows × 29 columns</p>\n",
       "</div>"
      ],
      "text/plain": [
       "        case_reversed  judge_id  year  log_cites      LastName FirstName  \\\n",
       "caseid                                                                     \n",
       "X3JGGO              0      1653  1925   1.098612        Miller    Wilbur   \n",
       "X3OH3J              0      1034  1924   1.609438  Hickenlooper     Smith   \n",
       "X3U0KO              0      2303  1925   1.791759         Story   William   \n",
       "X53HAD              0      1764  1924   0.000000       Nielsen    Leland   \n",
       "X9VC5V              0       493  1925   0.000000      Connally       Ben   \n",
       "\n",
       "        Gender               Pres       Party    nlets  ...  antpresent  \\\n",
       "caseid                                                  ...               \n",
       "X3JGGO       1     Harry S Truman  Democratic  46558.0  ...    0.363874   \n",
       "X3OH3J       1  Warren G. Harding  Republican  16689.0  ...    0.335025   \n",
       "X3U0KO       1      Ulysses Grant  Republican   5044.0  ...    0.527273   \n",
       "X53HAD       1   Richard M. Nixon  Republican  32994.0  ...    0.524927   \n",
       "X9VC5V       1     Harry S Truman  Democratic   1276.0  ...    0.181818   \n",
       "\n",
       "        antfuture nfpast  nfpresent  nffuture  antfpast  antfpresent  \\\n",
       "caseid                                                                 \n",
       "X3JGGO   0.172775  280.0      308.0     101.0  0.406386     0.447025   \n",
       "X3OH3J   0.005076  123.0       94.0      12.0  0.537118     0.410480   \n",
       "X3U0KO   0.036364   31.0       39.0       8.0  0.397436     0.500000   \n",
       "X53HAD   0.052786  152.0      331.0      49.0  0.285714     0.622180   \n",
       "X9VC5V   0.000000   15.0        7.0       0.0  0.681818     0.318182   \n",
       "\n",
       "        antffuture  ldeont  lmodal  \n",
       "caseid                              \n",
       "X3JGGO    0.146589    18.0     7.0  \n",
       "X3OH3J    0.052402     0.0     8.0  \n",
       "X3U0KO    0.102564     0.0     3.0  \n",
       "X53HAD    0.092105     9.0     8.0  \n",
       "X9VC5V    0.000000     0.0     1.0  \n",
       "\n",
       "[5 rows x 29 columns]"
      ]
     },
     "execution_count": 6,
     "metadata": {},
     "output_type": "execute_result"
    }
   ],
   "source": [
    "df.head()"
   ]
  },
  {
   "cell_type": "code",
   "execution_count": 10,
   "metadata": {},
   "outputs": [
    {
     "data": {
      "image/png": "[encoded data removed]",
      "text/plain": [
       "<Figure size 432x288 with 1 Axes>"
      ]
     },
     "metadata": {
      "needs_background": "light"
     },
     "output_type": "display_data"
    }
   ],
   "source": [
    "# make a plot showing the proportions of past, present and future tenses averaged across the entire corpus\n",
    "sAvepast = df[\"antpast\"].mean()\t\t\t# spacy \n",
    "sAvepresent = df[\"antpresent\"].mean()\n",
    "sAvezfuture = df[\"antfuture\"].mean()\n",
    "\n",
    "lAvepast = df[\"antfpast\"].mean()\t\t# LIWC         \n",
    "lAvepresent = df[\"antfpresent\"].mean()\n",
    "lAvezfuture = df[\"antffuture\"].mean()\n",
    "\n",
    "modfplot = pd.DataFrame({'Avepast' : [lAvepast, sAvepast], 'Avepresent': [lAvepresent, sAvepresent], 'Avezfuture': [lAvezfuture, sAvezfuture]}, index =\n",
    " ['LIWC', 'Spacy'] )\n",
    "modfplot.plot.bar(rot=0)\n",
    "plt.legend(loc='best')\n",
    "plt.show()"
   ]
  },
  {
   "cell_type": "code",
   "execution_count": 11,
   "metadata": {},
   "outputs": [],
   "source": [
    "# POS tagging  antpast, antpresent, antfuture"
   ]
  },
  {
   "cell_type": "code",
   "execution_count": 13,
   "metadata": {},
   "outputs": [
    {
     "data": {
      "text/plain": [
       "Ttest_indResult(statistic=3.9810333139896397, pvalue=6.903741440270563e-05)"
      ]
     },
     "execution_count": 13,
     "metadata": {},
     "output_type": "execute_result"
    }
   ],
   "source": [
    "ttest_ind(df[\"antpast\"], df[\"antpresent\"])"
   ]
  },
  {
   "cell_type": "code",
   "execution_count": 14,
   "metadata": {},
   "outputs": [],
   "source": [
    "# LIWC  antfpast, antfpresent, antffuture   vs  POS tagging antpast, antpresent, antfuture"
   ]
  },
  {
   "cell_type": "code",
   "execution_count": 15,
   "metadata": {},
   "outputs": [
    {
     "data": {
      "text/plain": [
       "Ttest_indResult(statistic=-28.8494721330526, pvalue=9.031728047365847e-177)"
      ]
     },
     "execution_count": 15,
     "metadata": {},
     "output_type": "execute_result"
    }
   ],
   "source": [
    "ttest_ind(df[\"antfpast\"], df[\"antpast\"])"
   ]
  },
  {
   "cell_type": "code",
   "execution_count": 16,
   "metadata": {},
   "outputs": [
    {
     "data": {
      "text/plain": [
       "Ttest_indResult(statistic=16.251280671509075, pvalue=9.823219810691702e-59)"
      ]
     },
     "execution_count": 16,
     "metadata": {},
     "output_type": "execute_result"
    }
   ],
   "source": [
    "ttest_ind(df[\"antfpresent\"], df[\"antpresent\"])"
   ]
  },
  {
   "cell_type": "code",
   "execution_count": 17,
   "metadata": {},
   "outputs": [
    {
     "data": {
      "text/plain": [
       "Ttest_indResult(statistic=57.424724422704024, pvalue=0.0)"
      ]
     },
     "execution_count": 17,
     "metadata": {},
     "output_type": "execute_result"
    }
   ],
   "source": [
    "ttest_ind(df[\"antffuture\"], df[\"antfuture\"])"
   ]
  },
  {
   "cell_type": "code",
   "execution_count": 18,
   "metadata": {},
   "outputs": [],
   "source": [
    "# POS tagging    past, present, future over the years"
   ]
  },
  {
   "cell_type": "code",
   "execution_count": 23,
   "metadata": {},
   "outputs": [
    {
     "data": {
      "image/png": "[encoded data removed]",
      "text/plain": [
       "<Figure size 432x288 with 1 Axes>"
      ]
     },
     "metadata": {
      "needs_background": "light"
     },
     "output_type": "display_data"
    }
   ],
   "source": [
    "import matplotlib.pyplot as plt\n",
    "axpast = df[df[\"year\"] != 0 ].groupby('year')['antpast'].mean().plot(color='red', label='past tense')\n",
    "axpresent = df[df[\"year\"] != 0].groupby('year')['antpresent'].mean().plot(color='green', label='present tense')\n",
    "axfuture = df[df[\"year\"] !=0].groupby('year')['antfuture'].mean().plot(color='blue', label='future tense')\n",
    "plt.legend(loc='best')\n",
    "plt.show()\t"
   ]
  },
  {
   "cell_type": "code",
   "execution_count": 25,
   "metadata": {},
   "outputs": [],
   "source": [
    "pasttense_before1970 = df [df[\"year\"] < 1970][\"antpast\"]\n",
    "pasttense_after1970 = df [df[\"year\"] >= 1970][\"antpast\"]"
   ]
  },
  {
   "cell_type": "code",
   "execution_count": 26,
   "metadata": {},
   "outputs": [
    {
     "data": {
      "text/plain": [
       "Ttest_indResult(statistic=9.648791508483363, pvalue=7.27435956407142e-22)"
      ]
     },
     "execution_count": 26,
     "metadata": {},
     "output_type": "execute_result"
    }
   ],
   "source": [
    "# indicates means before 1970 statististically significantly differs from after 1970\n",
    "ttest_ind(pasttense_before1970, pasttense_after1970)"
   ]
  },
  {
   "cell_type": "code",
   "execution_count": 27,
   "metadata": {},
   "outputs": [],
   "source": [
    "#  LIWC    past, present, future over the years"
   ]
  },
  {
   "cell_type": "code",
   "execution_count": 28,
   "metadata": {},
   "outputs": [
    {
     "data": {
      "image/png": "[encoded data removed]",
      "text/plain": [
       "<Figure size 432x288 with 1 Axes>"
      ]
     },
     "metadata": {
      "needs_background": "light"
     },
     "output_type": "display_data"
    }
   ],
   "source": [
    "import matplotlib.pyplot as plt\n",
    "axpast = df[df[\"year\"] != 0 ].groupby('year')['antfpast'].mean().plot(color='red', label='past focus')\n",
    "axpresent = df[df[\"year\"] != 0].groupby('year')['antfpresent'].mean().plot(color='green', label='present focus')\n",
    "axfuture = df[df[\"year\"] !=0].groupby('year')['antffuture'].mean().plot(color='blue', label='future focus')\n",
    "plt.legend(loc='best')\n",
    "plt.show()\t"
   ]
  },
  {
   "cell_type": "code",
   "execution_count": 29,
   "metadata": {},
   "outputs": [],
   "source": [
    "pastfocus_before1970 = df [df[\"year\"] < 1970][\"antfpast\"]\n",
    "pastfocus_after1970 = df [df[\"year\"] >= 1970][\"antfpast\"]"
   ]
  },
  {
   "cell_type": "code",
   "execution_count": 30,
   "metadata": {},
   "outputs": [
    {
     "data": {
      "text/plain": [
       "Ttest_indResult(statistic=10.291460917234133, pvalue=1.256953354749462e-24)"
      ]
     },
     "execution_count": 30,
     "metadata": {},
     "output_type": "execute_result"
    }
   ],
   "source": [
    "# indicates means before 1970 statististically significantly differs from after 1970\n",
    "ttest_ind(pastfocus_before1970, pastfocus_after1970)"
   ]
  },
  {
   "cell_type": "code",
   "execution_count": 32,
   "metadata": {},
   "outputs": [],
   "source": [
    "df_republican = df[ df[\"Party\"] == \"Republican\"]\n",
    "df_democratic = df[ df[\"Party\"] == \"Democratic\"]"
   ]
  },
  {
   "cell_type": "code",
   "execution_count": 34,
   "metadata": {},
   "outputs": [
    {
     "data": {
      "text/plain": [
       "Ttest_indResult(statistic=1.4863221647624705, pvalue=0.13726194142666256)"
      ]
     },
     "execution_count": 34,
     "metadata": {},
     "output_type": "execute_result"
    }
   ],
   "source": [
    "# POS tagging  past tense    rep vs dem\n",
    "ttest_ind(df_republican[\"antpast\"], df_democratic[\"antpast\"])"
   ]
  },
  {
   "cell_type": "code",
   "execution_count": 35,
   "metadata": {},
   "outputs": [
    {
     "data": {
      "text/plain": [
       "Ttest_indResult(statistic=-1.5542463287572683, pvalue=0.12019394412787038)"
      ]
     },
     "execution_count": 35,
     "metadata": {},
     "output_type": "execute_result"
    }
   ],
   "source": [
    "# POS tagging  present tense  rep vs dem\n",
    "ttest_ind(df_republican[\"antpresent\"], df_democratic[\"antpresent\"])"
   ]
  },
  {
   "cell_type": "code",
   "execution_count": 37,
   "metadata": {},
   "outputs": [
    {
     "data": {
      "text/plain": [
       "Ttest_indResult(statistic=0.8914861232937964, pvalue=0.3727147081497669)"
      ]
     },
     "execution_count": 37,
     "metadata": {},
     "output_type": "execute_result"
    }
   ],
   "source": [
    "# POS tagging  future tense  rep vs dem\n",
    "ttest_ind(df_republican[\"antfuture\"], df_democratic[\"antfuture\"])"
   ]
  },
  {
   "cell_type": "code",
   "execution_count": 38,
   "metadata": {},
   "outputs": [
    {
     "data": {
      "text/plain": [
       "Ttest_indResult(statistic=1.1871225805247378, pvalue=0.23524010971524925)"
      ]
     },
     "execution_count": 38,
     "metadata": {},
     "output_type": "execute_result"
    }
   ],
   "source": [
    "# LIWC  past focus   rep vs dem\n",
    "ttest_ind(df_republican[\"antfpast\"], df_democratic[\"antfpast\"])"
   ]
  },
  {
   "cell_type": "code",
   "execution_count": 39,
   "metadata": {},
   "outputs": [
    {
     "data": {
      "text/plain": [
       "Ttest_indResult(statistic=-1.8136488402454323, pvalue=0.06979644819482464)"
      ]
     },
     "execution_count": 39,
     "metadata": {},
     "output_type": "execute_result"
    }
   ],
   "source": [
    "# LIWC  present focus  rep vs dem\n",
    "ttest_ind(df_republican[\"antfpresent\"], df_democratic[\"antfpresent\"])"
   ]
  },
  {
   "cell_type": "code",
   "execution_count": 40,
   "metadata": {},
   "outputs": [
    {
     "data": {
      "text/plain": [
       "Ttest_indResult(statistic=1.5543266654359942, pvalue=0.12017478973887423)"
      ]
     },
     "execution_count": 40,
     "metadata": {},
     "output_type": "execute_result"
    }
   ],
   "source": [
    "# LIWC  future focus  rep vs dem\n",
    "ttest_ind(df_republican[\"antffuture\"], df_democratic[\"antffuture\"])"
   ]
  },
  {
   "cell_type": "code",
   "execution_count": 41,
   "metadata": {},
   "outputs": [
    {
     "data": {
      "image/png": "[encoded data removed]",
      "text/plain": [
       "<Figure size 432x288 with 1 Axes>"
      ]
     },
     "metadata": {
      "needs_background": "light"
     },
     "output_type": "display_data"
    }
   ],
   "source": [
    "# POS tagging    past tense, present tense, future tense    rep vs dem\n",
    "rAvepast = df_republican['antpast'].mean()\n",
    "rAvepresent = df_republican['antpresent'].mean()\n",
    "rAvefuture = df_republican ['antfuture'].mean()\n",
    "\n",
    "dAvepast = df_democratic['antpast'].mean()\n",
    "dAvepresent = df_democratic['antpresent'].mean()\n",
    "dAvefuture = df_democratic['antfuture'].mean()\n",
    "\n",
    "modfplot = pd.DataFrame({'Ave1past' : [rAvepast, dAvepast], 'Ave2present': [rAvepresent, dAvepresent], 'Avef3future': [rAvefuture, dAvefuture]}, index = ['rep', 'dem'] )\n",
    "modfplot.plot.bar(rot=0)\n",
    "plt.show()"
   ]
  },
  {
   "cell_type": "code",
   "execution_count": 43,
   "metadata": {},
   "outputs": [
    {
     "data": {
      "text/plain": [
       "Power_divergenceResult(statistic=45.695829225398555, pvalue=1.1947492338847863e-10)"
      ]
     },
     "execution_count": 43,
     "metadata": {},
     "output_type": "execute_result"
    }
   ],
   "source": [
    "# chisquared test      observed data vs expected (=uniformly distributed) data    rep     POS tagging\n",
    "chisquare([100*rAvepast, 100*rAvepresent, 100*rAvefuture], [33, 33, 34])"
   ]
  },
  {
   "cell_type": "code",
   "execution_count": 44,
   "metadata": {},
   "outputs": [
    {
     "data": {
      "text/plain": [
       "Power_divergenceResult(statistic=45.78033523521931, pvalue=1.1453191277111074e-10)"
      ]
     },
     "execution_count": 44,
     "metadata": {},
     "output_type": "execute_result"
    }
   ],
   "source": [
    "# chisquared test      observed data vs expected (=uniformly distributed) data    dem     POS tagging\n",
    "chisquare([100*dAvepast, 100*dAvepresent, 100*dAvefuture], [33, 33, 34])"
   ]
  },
  {
   "cell_type": "code",
   "execution_count": 42,
   "metadata": {},
   "outputs": [
    {
     "data": {
      "image/png": "[encoded data removed]",
      "text/plain": [
       "<Figure size 432x288 with 1 Axes>"
      ]
     },
     "metadata": {
      "needs_background": "light"
     },
     "output_type": "display_data"
    }
   ],
   "source": [
    "# LIWC   past focus, present focus, future focus    rep vs dem\n",
    "rAvefpast = df_republican['antfpast'].mean()\n",
    "rAvefpresent = df_republican['antfpresent'].mean()\n",
    "rAveffuture = df_republican ['antffuture'].mean()\n",
    "\n",
    "dAvefpast = df_democratic['antfpast'].mean()\n",
    "dAvefpresent = df_democratic['antfpresent'].mean()\n",
    "dAveffuture = df_democratic['antffuture'].mean()\n",
    "\n",
    "modfplot = pd.DataFrame({'Avef1past' : [rAvefpast, dAvefpast], 'Avef2present': [rAvefpresent, dAvefpresent], 'Avef3future': [rAveffuture, dAveffuture]}, index = ['rep', 'dem'] )\n",
    "modfplot.plot.bar(rot=0)\n",
    "plt.show()"
   ]
  },
  {
   "cell_type": "code",
   "execution_count": 46,
   "metadata": {},
   "outputs": [
    {
     "data": {
      "text/plain": [
       "Power_divergenceResult(statistic=34.162478536705706, pvalue=3.8169110719455536e-08)"
      ]
     },
     "execution_count": 46,
     "metadata": {},
     "output_type": "execute_result"
    }
   ],
   "source": [
    "# chisquared test      observed data vs expected (=uniformly distributed) data    rep     LIWC\n",
    "chisquare([100*rAvefpast, 100*rAvefpresent, 100*rAveffuture], [33, 33, 34])"
   ]
  },
  {
   "cell_type": "code",
   "execution_count": 47,
   "metadata": {},
   "outputs": [
    {
     "data": {
      "text/plain": [
       "Power_divergenceResult(statistic=34.91204688265461, pvalue=2.6238883027468144e-08)"
      ]
     },
     "execution_count": 47,
     "metadata": {},
     "output_type": "execute_result"
    }
   ],
   "source": [
    "# chisquared test      observed data vs expected (=uniformly distributed) data    dem     LIWC\n",
    "chisquare([100*dAvefpast, 100*dAvefpresent, 100*dAveffuture], [33, 33, 34])"
   ]
  },
  {
   "cell_type": "code",
   "execution_count": null,
   "metadata": {},
   "outputs": [],
   "source": []
  }
 ],
 "metadata": {
  "kernelspec": {
   "display_name": "Python 3",
   "language": "python",
   "name": "python3"
  },
  "language_info": {
   "codemirror_mode": {
    "name": "ipython",
    "version": 3
   },
   "file_extension": ".py",
   "mimetype": "text/x-python",
   "name": "python",
   "nbconvert_exporter": "python",
   "pygments_lexer": "ipython3",
   "version": "3.5.5"
  }
 },
 "nbformat": 4,
 "nbformat_minor": 2
}
