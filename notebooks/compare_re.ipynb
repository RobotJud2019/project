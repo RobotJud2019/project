{
 "cells": [
  {
   "cell_type": "markdown",
   "metadata": {},
   "source": [
    "### Comparing the cases corpus to the political speeches dataset, the reuters dataset and the twitter dataset"
   ]
  },
  {
   "cell_type": "code",
   "execution_count": 121,
   "metadata": {},
   "outputs": [],
   "source": [
    "import numpy as np\n",
    "import pandas as pd\n",
    "import matplotlib.pyplot as plt\n",
    "import pickle"
   ]
  },
  {
   "cell_type": "code",
   "execution_count": 124,
   "metadata": {},
   "outputs": [],
   "source": [
    "df = pickle.load (open(\"pj_df_full.20190629_095112.pkl\", \"rb\"))      # cases corpus\n",
    "dfmo = pickle.load (open(\"pj_demo_dfmo_full.20190629_163240.pkl\", \"rb\"))   # political speeches dataset\n",
    "dfre = pickle.load(open(\"pj_dfre_full.20190629_115819.pkl\", \"rb\"))   # reuters dataset\n",
    "dftw = pickle.load(open(\"pj_dftw_full.20190630_005652.pkl\", \"rb\"))   # twitter dataset"
   ]
  },
  {
   "cell_type": "code",
   "execution_count": 125,
   "metadata": {},
   "outputs": [
    {
     "data": {
      "text/html": [
       "<div>\n",
       "<style scoped>\n",
       "    .dataframe tbody tr th:only-of-type {\n",
       "        vertical-align: middle;\n",
       "    }\n",
       "\n",
       "    .dataframe tbody tr th {\n",
       "        vertical-align: top;\n",
       "    }\n",
       "\n",
       "    .dataframe thead th {\n",
       "        text-align: right;\n",
       "    }\n",
       "</style>\n",
       "<table border=\"1\" class=\"dataframe\">\n",
       "  <thead>\n",
       "    <tr style=\"text-align: right;\">\n",
       "      <th></th>\n",
       "      <th>jahr</th>\n",
       "      <th>leng</th>\n",
       "      <th>datum</th>\n",
       "      <th>speaker</th>\n",
       "      <th>nwords</th>\n",
       "      <th>ntoks</th>\n",
       "      <th>nverbs</th>\n",
       "      <th>npast</th>\n",
       "      <th>npresent</th>\n",
       "      <th>nfuture</th>\n",
       "      <th>...</th>\n",
       "      <th>nffuture</th>\n",
       "      <th>doc</th>\n",
       "      <th>antpast</th>\n",
       "      <th>antpresent</th>\n",
       "      <th>antfuture</th>\n",
       "      <th>antfpast</th>\n",
       "      <th>antfpresent</th>\n",
       "      <th>antffuture</th>\n",
       "      <th>ldeont</th>\n",
       "      <th>lmodal</th>\n",
       "    </tr>\n",
       "  </thead>\n",
       "  <tbody>\n",
       "    <tr>\n",
       "      <th>M0001</th>\n",
       "      <td>0</td>\n",
       "      <td>13646</td>\n",
       "      <td>April 25, 2007</td>\n",
       "      <td>McCain</td>\n",
       "      <td>2441</td>\n",
       "      <td>385</td>\n",
       "      <td>422</td>\n",
       "      <td>25</td>\n",
       "      <td>155</td>\n",
       "      <td>26</td>\n",
       "      <td>...</td>\n",
       "      <td>22</td>\n",
       "      <td>\"Today, I announce my candidacy for President ...</td>\n",
       "      <td>0.121359</td>\n",
       "      <td>0.752427</td>\n",
       "      <td>0.126214</td>\n",
       "      <td>0.185185</td>\n",
       "      <td>0.733333</td>\n",
       "      <td>0.081481</td>\n",
       "      <td>0.0</td>\n",
       "      <td>1.0</td>\n",
       "    </tr>\n",
       "    <tr>\n",
       "      <th>M0002</th>\n",
       "      <td>0</td>\n",
       "      <td>18408</td>\n",
       "      <td>May 1, 2007</td>\n",
       "      <td>McCain</td>\n",
       "      <td>3095</td>\n",
       "      <td>561</td>\n",
       "      <td>468</td>\n",
       "      <td>42</td>\n",
       "      <td>195</td>\n",
       "      <td>6</td>\n",
       "      <td>...</td>\n",
       "      <td>28</td>\n",
       "      <td>\"Since the dawn of our republic, Americans hav...</td>\n",
       "      <td>0.172840</td>\n",
       "      <td>0.802469</td>\n",
       "      <td>0.024691</td>\n",
       "      <td>0.191558</td>\n",
       "      <td>0.717532</td>\n",
       "      <td>0.090909</td>\n",
       "      <td>0.0</td>\n",
       "      <td>17.0</td>\n",
       "    </tr>\n",
       "    <tr>\n",
       "      <th>M0003</th>\n",
       "      <td>0</td>\n",
       "      <td>17136</td>\n",
       "      <td>May 21, 2007</td>\n",
       "      <td>McCain</td>\n",
       "      <td>2880</td>\n",
       "      <td>460</td>\n",
       "      <td>505</td>\n",
       "      <td>41</td>\n",
       "      <td>152</td>\n",
       "      <td>32</td>\n",
       "      <td>...</td>\n",
       "      <td>38</td>\n",
       "      <td>\"When our founding fathers signed the document...</td>\n",
       "      <td>0.182222</td>\n",
       "      <td>0.675556</td>\n",
       "      <td>0.142222</td>\n",
       "      <td>0.136808</td>\n",
       "      <td>0.739414</td>\n",
       "      <td>0.123779</td>\n",
       "      <td>0.0</td>\n",
       "      <td>2.0</td>\n",
       "    </tr>\n",
       "    <tr>\n",
       "      <th>M0004</th>\n",
       "      <td>0</td>\n",
       "      <td>13463</td>\n",
       "      <td>June 18, 2007</td>\n",
       "      <td>McCain</td>\n",
       "      <td>2428</td>\n",
       "      <td>417</td>\n",
       "      <td>427</td>\n",
       "      <td>160</td>\n",
       "      <td>83</td>\n",
       "      <td>11</td>\n",
       "      <td>...</td>\n",
       "      <td>28</td>\n",
       "      <td>\"Thank you, Admiral Stewart, Secretary Peters,...</td>\n",
       "      <td>0.629921</td>\n",
       "      <td>0.326772</td>\n",
       "      <td>0.043307</td>\n",
       "      <td>0.496575</td>\n",
       "      <td>0.407534</td>\n",
       "      <td>0.095890</td>\n",
       "      <td>0.0</td>\n",
       "      <td>27.0</td>\n",
       "    </tr>\n",
       "    <tr>\n",
       "      <th>M0005</th>\n",
       "      <td>0</td>\n",
       "      <td>17063</td>\n",
       "      <td>June 20, 2007</td>\n",
       "      <td>McCain</td>\n",
       "      <td>2766</td>\n",
       "      <td>451</td>\n",
       "      <td>429</td>\n",
       "      <td>31</td>\n",
       "      <td>174</td>\n",
       "      <td>17</td>\n",
       "      <td>...</td>\n",
       "      <td>38</td>\n",
       "      <td>\"It is pretty difficult for a politician to re...</td>\n",
       "      <td>0.139640</td>\n",
       "      <td>0.783784</td>\n",
       "      <td>0.076577</td>\n",
       "      <td>0.163701</td>\n",
       "      <td>0.701068</td>\n",
       "      <td>0.135231</td>\n",
       "      <td>0.0</td>\n",
       "      <td>13.0</td>\n",
       "    </tr>\n",
       "  </tbody>\n",
       "</table>\n",
       "<p>5 rows × 22 columns</p>\n",
       "</div>"
      ],
      "text/plain": [
       "       jahr   leng           datum speaker  nwords  ntoks  nverbs  npast  \\\n",
       "M0001     0  13646  April 25, 2007  McCain    2441    385     422     25   \n",
       "M0002     0  18408     May 1, 2007  McCain    3095    561     468     42   \n",
       "M0003     0  17136    May 21, 2007  McCain    2880    460     505     41   \n",
       "M0004     0  13463   June 18, 2007  McCain    2428    417     427    160   \n",
       "M0005     0  17063   June 20, 2007  McCain    2766    451     429     31   \n",
       "\n",
       "       npresent  nfuture  ...  nffuture  \\\n",
       "M0001       155       26  ...        22   \n",
       "M0002       195        6  ...        28   \n",
       "M0003       152       32  ...        38   \n",
       "M0004        83       11  ...        28   \n",
       "M0005       174       17  ...        38   \n",
       "\n",
       "                                                     doc   antpast antpresent  \\\n",
       "M0001  \"Today, I announce my candidacy for President ...  0.121359   0.752427   \n",
       "M0002  \"Since the dawn of our republic, Americans hav...  0.172840   0.802469   \n",
       "M0003  \"When our founding fathers signed the document...  0.182222   0.675556   \n",
       "M0004  \"Thank you, Admiral Stewart, Secretary Peters,...  0.629921   0.326772   \n",
       "M0005  \"It is pretty difficult for a politician to re...  0.139640   0.783784   \n",
       "\n",
       "       antfuture  antfpast  antfpresent  antffuture  ldeont  lmodal  \n",
       "M0001   0.126214  0.185185     0.733333    0.081481     0.0     1.0  \n",
       "M0002   0.024691  0.191558     0.717532    0.090909     0.0    17.0  \n",
       "M0003   0.142222  0.136808     0.739414    0.123779     0.0     2.0  \n",
       "M0004   0.043307  0.496575     0.407534    0.095890     0.0    27.0  \n",
       "M0005   0.076577  0.163701     0.701068    0.135231     0.0    13.0  \n",
       "\n",
       "[5 rows x 22 columns]"
      ]
     },
     "execution_count": 125,
     "metadata": {},
     "output_type": "execute_result"
    }
   ],
   "source": [
    "dfmo.head()"
   ]
  },
  {
   "cell_type": "code",
   "execution_count": 126,
   "metadata": {},
   "outputs": [
    {
     "name": "stdout",
     "output_type": "stream",
     "text": [
      "size of cases corpus: 5762   political speeches dataset: 251   reuters dataset: 10788    twitter dataset: 20000\n"
     ]
    }
   ],
   "source": [
    "print(\"size of cases corpus:\", len(df), \"  political speeches dataset:\", len(dfmo), \"  reuters dataset:\", len(dfre), \\\n",
    "      \"   twitter dataset:\", len(dftw))"
   ]
  },
  {
   "cell_type": "code",
   "execution_count": 127,
   "metadata": {},
   "outputs": [
    {
     "data": {
      "text/plain": [
       "Index(['case_reversed', 'judge_id', 'year', 'log_cites', 'LastName',\n",
       "       'FirstName', 'Gender', 'Pres', 'Party', 'nlets', 'nsents', 'nwords',\n",
       "       'doc', 'ntoks', 'nverbs', 'npast', 'npresent', 'nfuture', 'antpast',\n",
       "       'antpresent', 'antfuture', 'nfpast', 'nfpresent', 'nffuture',\n",
       "       'antfpast', 'antfpresent', 'antffuture', 'ldeont', 'lmodal'],\n",
       "      dtype='object')"
      ]
     },
     "execution_count": 127,
     "metadata": {},
     "output_type": "execute_result"
    }
   ],
   "source": [
    "df.columns\n",
    "# npast, npresent, nfuture : absolute numbers of past, present, future tenses from POS tagging\n",
    "# nfpast, nfpresent, nffuture : absolute number of focus past, focus present, focus future from LIWC\n",
    "# antpast, antpresent, antfuture : fractions of past, present, future\n",
    "# antfpast, antfpresent, antffutre : fractions of focus past, focus present, focus future"
   ]
  },
  {
   "cell_type": "markdown",
   "metadata": {},
   "source": [
    "### histograms showing different distribution of past tenses in the different document types"
   ]
  },
  {
   "cell_type": "code",
   "execution_count": 128,
   "metadata": {},
   "outputs": [
    {
     "data": {
      "image/png": "[encoded data removed]",
      "text/plain": [
       "<Figure size 432x288 with 1 Axes>"
      ]
     },
     "metadata": {
      "needs_background": "light"
     },
     "output_type": "display_data"
    }
   ],
   "source": [
    "plt.hist(df[\"antpast\"], bins = 50, alpha = 0.5, label = \"cases \", color = 'g', density = 1)\n",
    "plt.hist(dfmo[\"antpast\"], bins = 50, alpha = 0.5, label = \"pol speeches \", color = 'b',  density = 1)\n",
    "plt.hist(dfre[\"antpast\"], bins = 50, alpha = 0.5, label = \"reuters \", color = 'r', density = 1)\n",
    "plt.hist(dftw[\"antpast\"], bins = 50, alpha = 0.5, label = \"twitter \", color = 'violet', density = 1)\n",
    "plt.title(\"POS tagging, fraction of verbs in past tense \")\n",
    "plt.legend(loc='upper right')\n",
    "plt.show()"
   ]
  },
  {
   "cell_type": "markdown",
   "metadata": {},
   "source": [
    "###### narrowing range to (0.01,  0.9) to keep out the spikes at 0 and 1"
   ]
  },
  {
   "cell_type": "code",
   "execution_count": 129,
   "metadata": {},
   "outputs": [
    {
     "data": {
      "image/png": "[encoded data removed]",
      "text/plain": [
       "<Figure size 432x288 with 1 Axes>"
      ]
     },
     "metadata": {
      "needs_background": "light"
     },
     "output_type": "display_data"
    }
   ],
   "source": [
    "plt.hist(df[\"antpast\"], bins = 50, alpha = 0.5, label = \"cases \", range = (0.01,0.9), color = 'g', density = 1)\n",
    "plt.hist(dfmo[\"antpast\"], bins = 50, alpha = 0.5, label = \"pol speeches \", range = (0.01,0.9), color = 'b', density = 1)\n",
    "plt.hist(dfre[\"antpast\"], bins = 50, alpha = 0.5, label = \"reuters \", range = (0.01,0.9), color = 'r', density = 1)\n",
    "plt.hist(dftw[\"antpast\"], bins = 50, alpha = 0.5, label = \"twitter \", range = (0.01,0.9), color = 'violet', density = 1)\n",
    "plt.title(\"POS tagging, fraction of verbs in past tense \")\n",
    "plt.legend(loc='upper right')\n",
    "plt.show()"
   ]
  },
  {
   "cell_type": "markdown",
   "metadata": {},
   "source": [
    "### now present tense"
   ]
  },
  {
   "cell_type": "code",
   "execution_count": 130,
   "metadata": {},
   "outputs": [
    {
     "data": {
      "image/png": "[encoded data removed]",
      "text/plain": [
       "<Figure size 432x288 with 1 Axes>"
      ]
     },
     "metadata": {
      "needs_background": "light"
     },
     "output_type": "display_data"
    }
   ],
   "source": [
    "plt.hist(df[\"antpresent\"], bins = 50, alpha = 0.5, label = \"cases \", range = (0.01,0.9), color = 'g', density = 1)\n",
    "plt.hist(dfmo[\"antpresent\"], bins = 50, alpha = 0.5, label = \"pol speeches \", range = (0.01,0.9), color = 'b', density = 1)\n",
    "plt.hist(dfre[\"antpresent\"], bins = 50, alpha = 0.5, label = \"reuters \", range = (0.01,0.9), color = 'r', density = 1)\n",
    "plt.hist(dftw[\"antpresent\"], bins = 50, alpha = 0.5, label = \"twitter \", range = (0.01,0.9), color = 'violet', density = 1)\n",
    "plt.title(\"POS tagging, fraction of verbs in present tense \")\n",
    "plt.legend(loc='upper right')\n",
    "plt.show()"
   ]
  },
  {
   "cell_type": "markdown",
   "metadata": {},
   "source": [
    "### future tense"
   ]
  },
  {
   "cell_type": "code",
   "execution_count": 131,
   "metadata": {},
   "outputs": [
    {
     "data": {
      "image/png": "[encoded data removed]",
      "text/plain": [
       "<Figure size 432x288 with 1 Axes>"
      ]
     },
     "metadata": {
      "needs_background": "light"
     },
     "output_type": "display_data"
    }
   ],
   "source": [
    "plt.hist(df[\"antfuture\"], bins = 50, alpha = 0.5, label = \"cases \", range = (0.01,0.9), color = 'g', density = 1)\n",
    "plt.hist(dfmo[\"antfuture\"], bins = 50, alpha = 0.5, label = \"pol speeches \", range = (0.01,0.9), color = 'b', density = 1)\n",
    "plt.hist(dfre[\"antfuture\"], bins = 50, alpha = 0.5, label = \"reuters \", range = (0.01,0.9), color = 'r', density = 1)\n",
    "plt.hist(dftw[\"antfuture\"], bins = 50, alpha = 0.5, label = \"twitter \", range = (0.01,0.9), color = 'violet', density = 1)\n",
    "plt.title(\"POS tagging, fraction of verbs in future tense \")\n",
    "plt.legend(loc='upper right')\n",
    "plt.show()"
   ]
  },
  {
   "cell_type": "markdown",
   "metadata": {},
   "source": [
    "### LIWC  focus past, focus present, focus future all cases in the cases corpus"
   ]
  },
  {
   "cell_type": "code",
   "execution_count": 162,
   "metadata": {},
   "outputs": [
    {
     "data": {
      "image/png": "[encoded data removed]",
      "text/plain": [
       "<Figure size 432x288 with 1 Axes>"
      ]
     },
     "metadata": {
      "needs_background": "light"
     },
     "output_type": "display_data"
    }
   ],
   "source": [
    "plt.hist(df[\"antfpast\"], bins = 50, alpha = 0.5, label = \"cases \", range = (0.01,0.9), color = 'g', density = 1)\n",
    "plt.hist(dfmo[\"antfpast\"], bins = 50, alpha = 0.5, label = \"pol speeches \", range = (0.01,0.9), color = 'b', density = 1)\n",
    "plt.hist(dfre[\"antfpast\"], bins = 50, alpha = 0.5, label = \"reuters \", range = (0.01,0.9), color = 'r', density = 1)\n",
    "plt.hist(dftw[\"antfpast\"], bins = 50, alpha = 0.5, label = \"twitter \", range = (0.01,0.9), color = 'violet', density = 1)\n",
    "plt.title(\"LIWC, fraction of focus past\")\n",
    "plt.legend(loc='upper right')\n",
    "plt.show()"
   ]
  },
  {
   "cell_type": "code",
   "execution_count": 163,
   "metadata": {},
   "outputs": [
    {
     "data": {
      "image/png": "[encoded data removed]",
      "text/plain": [
       "<Figure size 432x288 with 1 Axes>"
      ]
     },
     "metadata": {
      "needs_background": "light"
     },
     "output_type": "display_data"
    }
   ],
   "source": [
    "plt.hist(df[\"antfpresent\"], bins = 50, alpha = 0.5, label = \"cases \", range = (0.01,0.9), color = 'g', density = 1)\n",
    "plt.hist(dfmo[\"antfpresent\"], bins = 50, alpha = 0.5, label = \"pol speeches \", range = (0.01,0.9), color = 'b', density = 1)\n",
    "plt.hist(dfre[\"antfpresent\"], bins = 50, alpha = 0.5, label = \"reuters \", range = (0.01,0.9), color = 'r', density = 1)\n",
    "plt.hist(dftw[\"antfpresent\"], bins = 50, alpha = 0.5, label = \"twitter \", range = (0.01,0.9), color = 'violet', density = 1)\n",
    "plt.title(\"LIWC, fraction of focus present\")\n",
    "plt.legend(loc='upper right')\n",
    "plt.show()"
   ]
  },
  {
   "cell_type": "code",
   "execution_count": 164,
   "metadata": {},
   "outputs": [
    {
     "data": {
      "image/png": "[encoded data removed]",
      "text/plain": [
       "<Figure size 432x288 with 1 Axes>"
      ]
     },
     "metadata": {
      "needs_background": "light"
     },
     "output_type": "display_data"
    }
   ],
   "source": [
    "plt.hist(df[\"antffuture\"], bins = 50, alpha = 0.5, label = \"cases \", range = (0.01,0.9), color = 'g', density = 1)\n",
    "plt.hist(dfmo[\"antffuture\"], bins = 50, alpha = 0.5, label = \"pol speeches \", range = (0.01,0.9), color = 'b', density = 1)\n",
    "plt.hist(dfre[\"antffuture\"], bins = 50, alpha = 0.5, label = \"reuters \", range = (0.01,0.9), color = 'r', density = 1)\n",
    "plt.hist(dftw[\"antffuture\"], bins = 50, alpha = 0.5, label = \"twitter \", range = (0.01,0.9), color = 'violet', density = 1)\n",
    "plt.title(\"LIWC, fraction of focus future\")\n",
    "plt.legend(loc='upper right')\n",
    "plt.show()"
   ]
  },
  {
   "cell_type": "markdown",
   "metadata": {},
   "source": [
    "### republican vs democratic, cases corpus"
   ]
  },
  {
   "cell_type": "code",
   "execution_count": 132,
   "metadata": {},
   "outputs": [],
   "source": [
    "df_republican = df.loc[ df[\"Party\"] == \"Republican\" ]\n",
    "df_democratic = df.loc[ df[\"Party\"] == \"Democratic\" ]"
   ]
  },
  {
   "cell_type": "code",
   "execution_count": 133,
   "metadata": {},
   "outputs": [
    {
     "data": {
      "image/png": "[encoded data removed]",
      "text/plain": [
       "<Figure size 432x288 with 1 Axes>"
      ]
     },
     "metadata": {
      "needs_background": "light"
     },
     "output_type": "display_data"
    }
   ],
   "source": [
    "plt.hist(df_republican[\"antpast\"], bins = 50, alpha = 0.5, label = \"rep \",  color = 'g', density = 1)\n",
    "plt.hist(df_democratic[\"antpast\"], bins = 50, alpha = 0.5, label = \"dem \",  color = 'r', density = 1)\n",
    "plt.title(\"POS tagging, fraction of verbs in past tense, cases corpus, rep vs dem \")\n",
    "plt.legend(loc='upper right')\n",
    "plt.show()"
   ]
  },
  {
   "cell_type": "code",
   "execution_count": 134,
   "metadata": {},
   "outputs": [
    {
     "data": {
      "image/png": "[encoded data removed]",
      "text/plain": [
       "<Figure size 432x288 with 1 Axes>"
      ]
     },
     "metadata": {
      "needs_background": "light"
     },
     "output_type": "display_data"
    }
   ],
   "source": [
    "plt.hist(df_republican[\"antpresent\"], bins = 50, alpha = 0.5, label = \"rep \",  color = 'g', density = 1)\n",
    "plt.hist(df_democratic[\"antpresent\"], bins = 50, alpha = 0.5, label = \"dem \",  color = 'r', density = 1)\n",
    "plt.title(\"POS tagging, fraction of verbs in present tense, cases corpus, rep vs dem \")\n",
    "plt.legend(loc='upper right')\n",
    "plt.show()"
   ]
  },
  {
   "cell_type": "code",
   "execution_count": 135,
   "metadata": {},
   "outputs": [
    {
     "data": {
      "image/png": "[encoded data removed]",
      "text/plain": [
       "<Figure size 432x288 with 1 Axes>"
      ]
     },
     "metadata": {
      "needs_background": "light"
     },
     "output_type": "display_data"
    }
   ],
   "source": [
    "plt.hist(df_republican[\"antfuture\"], bins = 50, alpha = 0.5, label = \"rep \",  color = 'g', density = 1)\n",
    "plt.hist(df_democratic[\"antfuture\"], bins = 50, alpha = 0.5, label = \"dem \",  color = 'r', density = 1)\n",
    "plt.title(\"POS tagging, fraction of verbs in future tense, cases corpus, rep vs dem \")\n",
    "plt.legend(loc='upper right')\n",
    "plt.show()"
   ]
  },
  {
   "cell_type": "markdown",
   "metadata": {},
   "source": [
    "### McCain vs Obama, political speeches, more rugged because corpus size smaller than in the cases corpus"
   ]
  },
  {
   "cell_type": "code",
   "execution_count": 136,
   "metadata": {},
   "outputs": [],
   "source": [
    "dfmo_McCain = dfmo.loc[ dfmo[\"speaker\"] == \"McCain\" ]\n",
    "dfmo_Obama = dfmo.loc[ dfmo[\"speaker\"] == \"Obama\" ]"
   ]
  },
  {
   "cell_type": "code",
   "execution_count": 137,
   "metadata": {},
   "outputs": [
    {
     "data": {
      "image/png": "[encoded data removed]",
      "text/plain": [
       "<Figure size 432x288 with 1 Axes>"
      ]
     },
     "metadata": {
      "needs_background": "light"
     },
     "output_type": "display_data"
    }
   ],
   "source": [
    "plt.hist(dfmo_McCain[\"antpast\"], bins = 50, alpha = 0.5, label = \"McCain \",  color = 'g', density = 1)\n",
    "plt.hist(dfmo_Obama[\"antpast\"], bins = 50, alpha = 0.5, label = \"Obama \",  color = 'r', density = 1)\n",
    "plt.title(\"POS tagging, fraction of verbs in past tense, political speeches, McCain vs Obama \")\n",
    "plt.legend(loc='upper right')\n",
    "plt.show()"
   ]
  },
  {
   "cell_type": "code",
   "execution_count": 138,
   "metadata": {},
   "outputs": [
    {
     "data": {
      "image/png": "[encoded data removed]",
      "text/plain": [
       "<Figure size 432x288 with 1 Axes>"
      ]
     },
     "metadata": {
      "needs_background": "light"
     },
     "output_type": "display_data"
    }
   ],
   "source": [
    "plt.hist(dfmo_McCain[\"antpresent\"], bins = 50, alpha = 0.5, label = \"McCain \",  color = 'g', density = 1)\n",
    "plt.hist(dfmo_Obama[\"antpresent\"], bins = 50, alpha = 0.5, label = \"Obama \",  color = 'r', density = 1)\n",
    "plt.title(\"POS tagging, fraction of verbs in present tense, political speeches, McCain vs Obama \")\n",
    "plt.legend(loc='upper right')\n",
    "plt.show()"
   ]
  },
  {
   "cell_type": "code",
   "execution_count": 139,
   "metadata": {},
   "outputs": [
    {
     "data": {
      "image/png": "[encoded data removed]",
      "text/plain": [
       "<Figure size 432x288 with 1 Axes>"
      ]
     },
     "metadata": {
      "needs_background": "light"
     },
     "output_type": "display_data"
    }
   ],
   "source": [
    "plt.hist(dfmo_McCain[\"antfuture\"], bins = 50, alpha = 0.5, label = \"McCain \",  color = 'g', density = 1)\n",
    "plt.hist(dfmo_Obama[\"antfuture\"], bins = 50, alpha = 0.5, label = \"Obama \",  color = 'r', density = 1)\n",
    "plt.title(\"POS tagging, fraction of verbs in future tense, political speeches, McCain vs Obama \")\n",
    "plt.legend(loc='upper right')\n",
    "plt.show()"
   ]
  },
  {
   "cell_type": "markdown",
   "metadata": {},
   "source": [
    "### modals "
   ]
  },
  {
   "cell_type": "code",
   "execution_count": 140,
   "metadata": {},
   "outputs": [
    {
     "data": {
      "image/png": "[encoded data removed]",
      "text/plain": [
       "<Figure size 432x288 with 1 Axes>"
      ]
     },
     "metadata": {
      "needs_background": "light"
     },
     "output_type": "display_data"
    }
   ],
   "source": [
    "plt.hist(df[\"lmodal\"], bins = 50, alpha = 0.5, label = \"cases \", range = (0,50), color = 'g', density = 1)\n",
    "plt.hist(dfmo[\"lmodal\"], bins = 50, alpha = 0.5, label = \"pol speeches \",  range = (0,50), color = 'b', density = 1)\n",
    "plt.hist(dfre[\"lmodal\"], bins = 50, alpha = 0.5, label = \"reuters \",  range = (0,50), color = 'r', density = 1)\n",
    "plt.hist(dftw[\"lmodal\"], bins = 50, alpha = 0.5, label = \"twitter \",  range = (0,50), color = 'violet', density = 1)\n",
    "plt.title(\"absolute numbers of modal verbs in 4 dataset \")\n",
    "plt.legend(loc='upper right')\n",
    "plt.show()"
   ]
  },
  {
   "cell_type": "code",
   "execution_count": 165,
   "metadata": {},
   "outputs": [
    {
     "data": {
      "image/png": "[encoded data removed]",
      "text/plain": [
       "<Figure size 432x288 with 1 Axes>"
      ]
     },
     "metadata": {
      "needs_background": "light"
     },
     "output_type": "display_data"
    }
   ],
   "source": [
    "plt.hist(df[\"lmodal\"], bins = 50, alpha = 0.5, label = \"cases \", range = (1,50), color = 'g', density = 1)\n",
    "plt.hist(dfmo[\"lmodal\"], bins = 50, alpha = 0.5, label = \"pol speeches \",  range = (1,50), color = 'b', density = 1)\n",
    "plt.hist(dfre[\"lmodal\"], bins = 50, alpha = 0.5, label = \"reuters \",  range = (1,50), color = 'r', density = 1)\n",
    "plt.hist(dftw[\"lmodal\"], bins = 50, alpha = 0.5, label = \"twitter \",  range = (1,50), color = 'violet', density = 1)\n",
    "plt.title(\"absolute numbers of modal verbs in 4 dataset , restricted to >= 1 modal \")\n",
    "plt.legend(loc='upper right')\n",
    "plt.show()"
   ]
  },
  {
   "cell_type": "markdown",
   "metadata": {},
   "source": [
    "### deontic future"
   ]
  },
  {
   "cell_type": "code",
   "execution_count": 161,
   "metadata": {},
   "outputs": [
    {
     "data": {
      "image/png": "[encoded data removed]",
      "text/plain": [
       "<Figure size 432x288 with 1 Axes>"
      ]
     },
     "metadata": {
      "needs_background": "light"
     },
     "output_type": "display_data"
    }
   ],
   "source": [
    "plt.hist(df[\"ldeont\"], bins = 100, alpha = 0.5, label = \"cases \", range = (0.5,20), color = 'g', density = 1)\n",
    "plt.hist(dfmo[\"ldeont\"], bins = 100, alpha = 0.5, label = \"pol speeches \",  range = (0.5,20), color = 'b', density = 1)\n",
    "plt.hist(dfre[\"ldeont\"], bins = 100, alpha = 0.5, label = \"reuters \",  range = (0.5,20), color = 'r', density = 1)\n",
    "plt.title(\"absolute numbers of deontic future in the cases corpus and political speeches and reuters data sets, all case with >=1 deontic futures\")\n",
    "plt.legend(loc='upper right')\n",
    "plt.show()"
   ]
  },
  {
   "cell_type": "markdown",
   "metadata": {},
   "source": [
    "###  statistical tests"
   ]
  },
  {
   "cell_type": "code",
   "execution_count": 142,
   "metadata": {},
   "outputs": [],
   "source": [
    "from scipy.stats import ttest_ind, chisquare"
   ]
  },
  {
   "cell_type": "markdown",
   "metadata": {},
   "source": [
    "##### excerpt from scipy.stats.ttest_ind :\n",
    "\n",
    "We can use this test, if we observe two independent samples from the same or different population .... \n",
    "The test measures wther the average (expected) value differs significantly across samples. \n",
    "If we observe a large p-value, for example larger than 0.05 or 0.1, then we cannot reject the null hypothesis of \n",
    "identical average. If the p-value is smaller than the threshold, e.g. 1% , r% or 10%, then we reject the null \n",
    "hypothesis of equal averages. The two samples does not need to have the same length.\n",
    "\n",
    "##### excerpt from scipy.chisquare1:\n",
    "Tests the null hypothesis that the categorical data has the given frequencies. (f_obs, f_exp, ddof = 0, axis = 0)\n",
    "The p-value is computed using a chi-squared distribution with k - 1- ddof degrees of freedom, where k = the number of observed frequencies."
   ]
  },
  {
   "cell_type": "markdown",
   "metadata": {},
   "source": [
    "#### t-test  on independent samples,  equality of means"
   ]
  },
  {
   "cell_type": "markdown",
   "metadata": {},
   "source": [
    "##### POS tagging"
   ]
  },
  {
   "cell_type": "code",
   "execution_count": 143,
   "metadata": {},
   "outputs": [
    {
     "data": {
      "text/plain": [
       "Ttest_indResult(statistic=41.80503468124304, pvalue=2.3401030350428614e-130)"
      ]
     },
     "execution_count": 143,
     "metadata": {},
     "output_type": "execute_result"
    }
   ],
   "source": [
    "ttest_ind ( df[\"antpast\"], dfmo[\"antpast\"], equal_var=False)\n",
    "# cases corpus vs political speeches dataset, past tense\n",
    "# large t-test statistics and small p value indicate  Null hypothsis of equal means can be rejected at 5 % confidence"
   ]
  },
  {
   "cell_type": "code",
   "execution_count": 144,
   "metadata": {},
   "outputs": [
    {
     "data": {
      "text/plain": [
       "Ttest_indResult(statistic=1.8267315674071143, pvalue=0.06775843209156282)"
      ]
     },
     "execution_count": 144,
     "metadata": {},
     "output_type": "execute_result"
    }
   ],
   "source": [
    "ttest_ind ( df[\"antpast\"], dfre[\"antpast\"], equal_var=False)\n",
    "# cases corpus vs reuters dataset, past tense\n",
    "# small t-test statistics and large p value indicate  Null hypothsis of equal means cannot be rejected at 5 % confidence"
   ]
  },
  {
   "cell_type": "code",
   "execution_count": 145,
   "metadata": {},
   "outputs": [
    {
     "data": {
      "text/plain": [
       "Ttest_indResult(statistic=91.92985432858158, pvalue=0.0)"
      ]
     },
     "execution_count": 145,
     "metadata": {},
     "output_type": "execute_result"
    }
   ],
   "source": [
    "ttest_ind ( df[\"antpast\"], dftw[\"antpast\"], equal_var=False)\n",
    "# cases corpus vs twitter dataset, past tense\n",
    "# large t-test statistics and small p value indicate  Null hypothsis of equal means can be rejected at 5 % confidence"
   ]
  },
  {
   "cell_type": "code",
   "execution_count": null,
   "metadata": {},
   "outputs": [],
   "source": []
  },
  {
   "cell_type": "code",
   "execution_count": 146,
   "metadata": {},
   "outputs": [
    {
     "data": {
      "text/plain": [
       "Ttest_indResult(statistic=-35.70922065118363, pvalue=1.1538825443172855e-115)"
      ]
     },
     "execution_count": 146,
     "metadata": {},
     "output_type": "execute_result"
    }
   ],
   "source": [
    "ttest_ind ( df[\"antpresent\"], dfmo[\"antpresent\"], equal_var=False)\n",
    "# cases corpus vs political speeches dataset, present tense\n",
    "# large t-test statistics and small p value indicate  Null hypothsis of equal means can be rejected at 5 % confidence"
   ]
  },
  {
   "cell_type": "code",
   "execution_count": 147,
   "metadata": {},
   "outputs": [
    {
     "data": {
      "text/plain": [
       "Ttest_indResult(statistic=46.464429707848154, pvalue=0.0)"
      ]
     },
     "execution_count": 147,
     "metadata": {},
     "output_type": "execute_result"
    }
   ],
   "source": [
    "ttest_ind ( df[\"antpresent\"], dfre[\"antpresent\"], equal_var=False)\n",
    "# cases corpus vs reuters dataset, present tense\n",
    "# large t-test statistics and small p value indicate  Null hypothsis of equal means can be rejected at 5 % confidence"
   ]
  },
  {
   "cell_type": "code",
   "execution_count": 148,
   "metadata": {},
   "outputs": [
    {
     "data": {
      "text/plain": [
       "Ttest_indResult(statistic=-28.6642409416456, pvalue=9.187887769004956e-178)"
      ]
     },
     "execution_count": 148,
     "metadata": {},
     "output_type": "execute_result"
    }
   ],
   "source": [
    "ttest_ind ( df[\"antpresent\"], dftw[\"antpresent\"], equal_var=False)\n",
    "# cases corpus vs twitter dataset, present tense\n",
    "# large t-test statistics and small p value indicate  Null hypothsis of equal means can be rejected at 5 % confidence"
   ]
  },
  {
   "cell_type": "code",
   "execution_count": null,
   "metadata": {},
   "outputs": [],
   "source": []
  },
  {
   "cell_type": "code",
   "execution_count": 149,
   "metadata": {},
   "outputs": [
    {
     "data": {
      "text/plain": [
       "Ttest_indResult(statistic=-24.835005758600865, pvalue=5.061667469702257e-71)"
      ]
     },
     "execution_count": 149,
     "metadata": {},
     "output_type": "execute_result"
    }
   ],
   "source": [
    "ttest_ind ( df[\"antfuture\"], dfmo[\"antfuture\"], equal_var=False)\n",
    "# cases corpus vs political speeches dataset, future tense\n",
    "# large t-test statistics and small p value indicate  Null hypothsis of equal means can be rejected at 5 % confidence"
   ]
  },
  {
   "cell_type": "code",
   "execution_count": 150,
   "metadata": {},
   "outputs": [
    {
     "data": {
      "text/plain": [
       "Ttest_indResult(statistic=-17.32524369785792, pvalue=1.1888475374197356e-66)"
      ]
     },
     "execution_count": 150,
     "metadata": {},
     "output_type": "execute_result"
    }
   ],
   "source": [
    "ttest_ind ( df[\"antfuture\"], dfre[\"antfuture\"], equal_var=False)\n",
    "# cases corpus vs reuters dataset, future tense\n",
    "# large t-test statistics and small p value indicate  Null hypothsis of equal means can be rejected at 5 % confidence"
   ]
  },
  {
   "cell_type": "code",
   "execution_count": 151,
   "metadata": {},
   "outputs": [
    {
     "data": {
      "text/plain": [
       "Ttest_indResult(statistic=-31.87666973063684, pvalue=1.6819616626660936e-218)"
      ]
     },
     "execution_count": 151,
     "metadata": {},
     "output_type": "execute_result"
    }
   ],
   "source": [
    "ttest_ind ( df[\"antfuture\"], dftw[\"antfuture\"], equal_var=False)\n",
    "# cases corpus vs twitter dataset, future tense\n",
    "# large t-test statistics and small p value indicate  Null hypothsis of equal means can be rejected at 5 % confidence"
   ]
  },
  {
   "cell_type": "markdown",
   "metadata": {},
   "source": [
    "##### LIWC"
   ]
  },
  {
   "cell_type": "code",
   "execution_count": 152,
   "metadata": {},
   "outputs": [
    {
     "data": {
      "text/plain": [
       "Ttest_indResult(statistic=37.79223619705672, pvalue=9.2923379440385e-121)"
      ]
     },
     "execution_count": 152,
     "metadata": {},
     "output_type": "execute_result"
    }
   ],
   "source": [
    "ttest_ind ( df[\"antfpast\"], dfmo[\"antfpast\"], equal_var=False)\n",
    "# LIWC past focus, cases corpus vs political speeches dataset\n",
    "# Null hypothesis of equal means rejected"
   ]
  },
  {
   "cell_type": "code",
   "execution_count": 153,
   "metadata": {},
   "outputs": [
    {
     "data": {
      "text/plain": [
       "Ttest_indResult(statistic=-5.271916883937974, pvalue=1.3676315676507457e-07)"
      ]
     },
     "execution_count": 153,
     "metadata": {},
     "output_type": "execute_result"
    }
   ],
   "source": [
    "ttest_ind ( df[\"antfpast\"], dfre[\"antfpast\"], equal_var=False)\n",
    "# LIWC past focus, cases corpus vs reuters dataset\n",
    "# Null hypothesis of equal means rejected"
   ]
  },
  {
   "cell_type": "code",
   "execution_count": 154,
   "metadata": {},
   "outputs": [
    {
     "data": {
      "text/plain": [
       "Ttest_indResult(statistic=57.21681586041814, pvalue=0.0)"
      ]
     },
     "execution_count": 154,
     "metadata": {},
     "output_type": "execute_result"
    }
   ],
   "source": [
    "ttest_ind ( df[\"antfpast\"], dftw[\"antfpast\"])\n",
    "# LIWC past focus, cases corpus vs twitter dataset\n",
    "# Null hypothesis of equal means rejected"
   ]
  },
  {
   "cell_type": "code",
   "execution_count": null,
   "metadata": {},
   "outputs": [],
   "source": []
  },
  {
   "cell_type": "code",
   "execution_count": 155,
   "metadata": {},
   "outputs": [
    {
     "data": {
      "text/plain": [
       "Ttest_indResult(statistic=-32.98153587517679, pvalue=2.243510965900292e-108)"
      ]
     },
     "execution_count": 155,
     "metadata": {},
     "output_type": "execute_result"
    }
   ],
   "source": [
    "ttest_ind ( df[\"antfpresent\"], dfmo[\"antfpresent\"], equal_var=False)\n",
    "# LIWC present focus, cases corpus vs political speeches dataset\n",
    "# Null hypothesis of equal means rejected"
   ]
  },
  {
   "cell_type": "code",
   "execution_count": 156,
   "metadata": {},
   "outputs": [
    {
     "data": {
      "text/plain": [
       "Ttest_indResult(statistic=59.892085814353926, pvalue=0.0)"
      ]
     },
     "execution_count": 156,
     "metadata": {},
     "output_type": "execute_result"
    }
   ],
   "source": [
    "ttest_ind ( df[\"antfpresent\"], dfre[\"antfpresent\"], equal_var=False)\n",
    "# LIWC present focus, cases corpus vs reuters dataset\n",
    "# Null hypothesis of equal means rejected"
   ]
  },
  {
   "cell_type": "code",
   "execution_count": 157,
   "metadata": {},
   "outputs": [
    {
     "data": {
      "text/plain": [
       "Ttest_indResult(statistic=-7.357555442287563, pvalue=1.9298114589046785e-13)"
      ]
     },
     "execution_count": 157,
     "metadata": {},
     "output_type": "execute_result"
    }
   ],
   "source": [
    "ttest_ind ( df[\"antfpresent\"], dftw[\"antfpresent\"], equal_var=False)\n",
    "# LIWC present focus, cases corpus vs twitter dataset\n",
    "# Null hypothesis of equal means rejected"
   ]
  },
  {
   "cell_type": "code",
   "execution_count": null,
   "metadata": {},
   "outputs": [],
   "source": []
  }
 ],
 "metadata": {
  "kernelspec": {
   "display_name": "Python 3",
   "language": "python",
   "name": "python3"
  },
  "language_info": {
   "codemirror_mode": {
    "name": "ipython",
    "version": 3
   },
   "file_extension": ".py",
   "mimetype": "text/x-python",
   "name": "python",
   "nbconvert_exporter": "python",
   "pygments_lexer": "ipython3",
   "version": "3.5.5"
  }
 },
 "nbformat": 4,
 "nbformat_minor": 2
}
