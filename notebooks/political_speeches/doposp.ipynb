{
 "cells": [
  {
   "cell_type": "markdown",
   "metadata": {},
   "source": [
    "# this script processes the political speeches. "
   ]
  },
  {
   "cell_type": "code",
   "execution_count": 82,
   "metadata": {},
   "outputs": [],
   "source": [
    "from datetime import datetime\n",
    "from datetime import timedelta\n",
    "\n",
    "td = timedelta (days = 0, hours = 0, minutes = 51)  \n",
    "Anfang = datetime.now()\n",
    "Start = Anfang + td"
   ]
  },
  {
   "cell_type": "code",
   "execution_count": 83,
   "metadata": {},
   "outputs": [],
   "source": [
    "import csv\n",
    "import pandas as pd\n",
    "import os\n",
    "from os import listdir\n",
    "from os.path import isfile, join\n",
    "\n",
    "import shelve\n",
    "import numpy as np\n",
    "from datetime import datetime\n",
    "import matplotlib.pyplot as plt"
   ]
  },
  {
   "cell_type": "code",
   "execution_count": 84,
   "metadata": {},
   "outputs": [],
   "source": [
    "import liwc\n",
    "import re\n",
    "from collections import Counter\n",
    "\n",
    "LIWC_dictionary= '/home/xhta/Robot/liwc/timeori.dic'\n",
    "POSP_METADATA = '/home/xhta/Robot/proj/posp/posp_metadata.csv'\n",
    "POSP_CLEANDATA = '/home/xhta/Robot/proj/posp/clean'\n",
    "\n",
    "parse, cat_names = liwc.load_token_parser(LIWC_dictionary)\n",
    "\n",
    "def tokenize(text):\n",
    "    for match in re.finditer(r'\\w+', text, re.UNICODE):\n",
    "        yield match.group(0)"
   ]
  },
  {
   "cell_type": "code",
   "execution_count": 85,
   "metadata": {},
   "outputs": [],
   "source": [
    "from string import punctuation\n",
    "translator = str.maketrans(' ', ' ', punctuation)\n",
    "from nltk.corpus import stopwords\n",
    "stoplist = set(stopwords.words('english'))\n",
    "from nltk.stem import SnowballStemmer\n",
    "stemmer = SnowballStemmer('english')"
   ]
  },
  {
   "cell_type": "code",
   "execution_count": 86,
   "metadata": {},
   "outputs": [],
   "source": [
    "import spacy\n",
    "from spacy.lang.en import English\n",
    "nlp = English()\n",
    "nlp.add_pipe(nlp.create_pipe('sentencizer'))\n",
    "\n",
    "from spacy.matcher import Matcher\n",
    "nlp2 = spacy.load('en_core_web_sm')\n",
    "\n",
    "from tp_utils import *\n",
    "\n",
    "def normalize_text(doc):\n",
    "    tokens = []\n",
    "    for sent in doc.sents:\n",
    "        sent = str(sent)\n",
    "        sent = sent.replace('\\r', ' ').replace('\\n', ' ')\n",
    "        lower = sent.lower()\n",
    "        nopunc = lower.translate(translator)\n",
    "        words = nopunc.split()\n",
    "        nostop = [w for w in words if w not in stoplist]\n",
    "        no_numbers = [w if not w.isdigit() else '#' for w in nostop]\n",
    "        stemmed = [stemmer.stem(w) for w in no_numbers]\n",
    "        tokens += stemmed\n",
    "    return tokens"
   ]
  },
  {
   "cell_type": "markdown",
   "metadata": {},
   "source": [
    "# read in metadata"
   ]
  },
  {
   "cell_type": "code",
   "execution_count": 87,
   "metadata": {},
   "outputs": [],
   "source": [
    "dfmo = pd.DataFrame(index = range(0,0), columns=['jahr', 'leng', 'datum', 'speaker', 'nwords', 'ntoks', 'nverbs', 'npast', 'npresent', 'nfuture', 'nfpast', 'nfpresent', 'nffuture', 'doc'], dtype = int)\n",
    "dfmo['datum'] = dfmo['datum'].astype('object')\n",
    "\n",
    "with open (POSP_METADATA) as fcmo:\n",
    "    readCSV = csv.reader(fcmo, delimiter = ';')\n",
    "    next(readCSV, None)   # skip 1 line\n",
    "    for Zei in readCSV:\n",
    "        dfmo.loc[Zei[0]] = [0, 0, Zei[2], Zei[1], 0, 0, 0, 0, 0, 0, 0, 0, 0, 0]\n",
    "\n",
    "dfmo['doc'] = dfmo['doc'].astype('object')"
   ]
  },
  {
   "cell_type": "code",
   "execution_count": 88,
   "metadata": {},
   "outputs": [],
   "source": [
    "fpath = POSP_CLEANDATA\n",
    "ldir = listdir(fpath)"
   ]
  },
  {
   "cell_type": "markdown",
   "metadata": {},
   "source": [
    "# fill the dataframe"
   ]
  },
  {
   "cell_type": "code",
   "execution_count": 89,
   "metadata": {},
   "outputs": [
    {
     "name": "stdout",
     "output_type": "stream",
     "text": [
      "jetzt:2019-06-29 18:46:52.747367  i:0 ... interim checkpointing to pj_demo_dfmo_full.20190629_184652.pkl\n",
      "jetzt:2019-06-29 18:50:55.597254  i:19 ... interim checkpointing to pj_demo_dfmo_full.20190629_185055.pkl\n",
      "jetzt:2019-06-29 18:55:13.292553  i:38 ... interim checkpointing to pj_demo_dfmo_full.20190629_185513.pkl\n",
      "jetzt:2019-06-29 18:58:44.257277  i:57 ... interim checkpointing to pj_demo_dfmo_full.20190629_185844.pkl\n",
      "jetzt:2019-06-29 19:03:15.306470  i:76 ... interim checkpointing to pj_demo_dfmo_full.20190629_190315.pkl\n",
      "jetzt:2019-06-29 19:09:11.046718  i:95 ... interim checkpointing to pj_demo_dfmo_full.20190629_190911.pkl\n",
      "jetzt:2019-06-29 19:13:43.198628  i:114 ... interim checkpointing to pj_demo_dfmo_full.20190629_191343.pkl\n",
      "jetzt:2019-06-29 19:17:52.398105  i:133 ... interim checkpointing to pj_demo_dfmo_full.20190629_191752.pkl\n",
      "jetzt:2019-06-29 19:21:49.452239  i:152 ... interim checkpointing to pj_demo_dfmo_full.20190629_192149.pkl\n",
      "jetzt:2019-06-29 19:26:29.102424  i:171 ... interim checkpointing to pj_demo_dfmo_full.20190629_192629.pkl\n",
      "jetzt:2019-06-29 19:30:45.984248  i:190 ... interim checkpointing to pj_demo_dfmo_full.20190629_193045.pkl\n",
      "jetzt:2019-06-29 19:35:43.750022  i:209 ... interim checkpointing to pj_demo_dfmo_full.20190629_193543.pkl\n",
      "jetzt:2019-06-29 19:39:41.838950  i:228 ... interim checkpointing to pj_demo_dfmo_full.20190629_193941.pkl\n",
      "jetzt:2019-06-29 19:42:15.590324  i:247 ... interim checkpointing to pj_demo_dfmo_full.20190629_194215.pkl\n"
     ]
    }
   ],
   "source": [
    "i = 0\n",
    "for fname in ldir:\n",
    "    lae = len(fname)\n",
    "    cname = fname[0:(lae-4)]\n",
    "    rawtext = open(os.path.join(fpath, fname), \"r\").read()\n",
    "    rawtext = rawtext.replace(\"\\n\", '')\n",
    "    doc = nlp2(rawtext)\n",
    "#\n",
    "    dfmo.at[cname, 'nwords'] = len([token for token in doc if not token.is_punct])\n",
    "    dfmo.at[cname, 'nverbs'] = len([w for w in list(doc) if w.tag_.startswith('V')])\n",
    "#\n",
    "    cltoks = normalize_text(doc)\n",
    "    ntoks = [str(token).lower() for token in list(doc) if (not token.is_punct) & (not token.is_space) & (not token.is_stop) & (str(token) in cltoks)]\n",
    "    dfmo.at[cname, 'ntoks'] = len(ntoks)\n",
    "    #print(\"ntoks:\", df.at[cnqame, 'ntoks'])\n",
    "#\n",
    "    laeng =  len(rawtext)\n",
    "    dfmo.at[cname, 'leng'] = laeng\n",
    "#\n",
    "    tokens = tokenize(rawtext)\n",
    "#\n",
    "    dfmo.at[cname, 'doc'] =  rawtext\n",
    "    npast, npresent, nfuture, antpast, antpresent, antfuture = spacy_parse(doc) #\n",
    "    dfmo.loc[cname, 'npast'] = npast\n",
    "    dfmo.loc[cname, 'npresent'] = npresent\n",
    "    dfmo.loc[cname, 'nfuture'] = nfuture\n",
    "\n",
    "    dfmo.loc[cname, 'antpast'] = antpast\n",
    "    dfmo.loc[cname, 'antpresent'] = antpresent\n",
    "    dfmo.loc[cname, 'antfuture'] = antfuture\n",
    "\n",
    "    nfpast, nfpresent, nffuture, antfpast, antfpresent, antffuture = liwc_parse(rawtext)\n",
    "#\n",
    "    dfmo.loc[cname, 'nfpast'] = nfpast\n",
    "    dfmo.loc[cname, 'nfpresent'] = nfpresent\n",
    "    dfmo.loc[cname, 'nffuture'] = nffuture\n",
    "\n",
    "    dfmo.loc[cname, 'antfpast'] = antfpast\n",
    "    dfmo.loc[cname, 'antfpresent'] = antfpresent\n",
    "    dfmo.loc[cname, 'antffuture'] = antffuture\n",
    "\n",
    "    lse = nltk.sent_tokenize(rawtext)\n",
    "    ldeont = 0\n",
    "    lmodal = 0\n",
    "    for j in range(len(lse)):\n",
    "        ldeont += deont_parse(lse[j])\n",
    "        lmodal += modal_parse(lse[j])\n",
    "    dfmo.at[cname, \"ldeont\"] = ldeont\n",
    "    dfmo.at[cname, \"lmodal\"] = lmodal\n",
    "#\n",
    "    if (i %19 == 0):\n",
    "        je = datetime.now() + td\n",
    "        pkl_fname = 'pj_demo_dfmo_full.' + je.strftime('%Y%m%d_%H%M%S' + \".pkl\")\n",
    "        print (\"jetzt:{0}  i:{1} ... interim checkpointing to {2}\".format(je, i, pkl_fname))\n",
    "        dfmo.to_pickle(pkl_fname)\n",
    "    i = i + 1"
   ]
  },
  {
   "cell_type": "code",
   "execution_count": 11,
   "metadata": {},
   "outputs": [
    {
     "name": "stdout",
     "output_type": "stream",
     "text": [
      "jetzt:2019-06-29 09:50:00.519322  i:251 ... final checkpointing to pj_demo_dfmo_full.20190629_095000.pkl\n"
     ]
    }
   ],
   "source": [
    "je = datetime.now() + td\n",
    "pkl_fname = 'pj_demo_dfmo_full.' + je.strftime('%Y%m%d_%H%M%S' + \".pkl\") \n",
    "print (\"jetzt:{0}  i:{1} ... final checkpointing to {2}\".format(je, i, pkl_fname))\n",
    "dfmo.to_pickle(pkl_fname)"
   ]
  },
  {
   "cell_type": "code",
   "execution_count": 12,
   "metadata": {},
   "outputs": [
    {
     "data": {
      "text/html": [
       "<div>\n",
       "<style scoped>\n",
       "    .dataframe tbody tr th:only-of-type {\n",
       "        vertical-align: middle;\n",
       "    }\n",
       "\n",
       "    .dataframe tbody tr th {\n",
       "        vertical-align: top;\n",
       "    }\n",
       "\n",
       "    .dataframe thead th {\n",
       "        text-align: right;\n",
       "    }\n",
       "</style>\n",
       "<table border=\"1\" class=\"dataframe\">\n",
       "  <thead>\n",
       "    <tr style=\"text-align: right;\">\n",
       "      <th></th>\n",
       "      <th>jahr</th>\n",
       "      <th>leng</th>\n",
       "      <th>datum</th>\n",
       "      <th>speaker</th>\n",
       "      <th>nwords</th>\n",
       "      <th>ntoks</th>\n",
       "      <th>nverbs</th>\n",
       "      <th>npast</th>\n",
       "      <th>npresent</th>\n",
       "      <th>nfuture</th>\n",
       "      <th>...</th>\n",
       "      <th>nffuture</th>\n",
       "      <th>doc</th>\n",
       "      <th>antpast</th>\n",
       "      <th>antpresent</th>\n",
       "      <th>antfuture</th>\n",
       "      <th>antfpast</th>\n",
       "      <th>antfpresent</th>\n",
       "      <th>antffuture</th>\n",
       "      <th>ldeont</th>\n",
       "      <th>lmodal</th>\n",
       "    </tr>\n",
       "  </thead>\n",
       "  <tbody>\n",
       "    <tr>\n",
       "      <th>M0001</th>\n",
       "      <td>0</td>\n",
       "      <td>13750</td>\n",
       "      <td>April 25, 2007</td>\n",
       "      <td>McCain</td>\n",
       "      <td>2487</td>\n",
       "      <td>388</td>\n",
       "      <td>426</td>\n",
       "      <td>25</td>\n",
       "      <td>157</td>\n",
       "      <td>26</td>\n",
       "      <td>...</td>\n",
       "      <td>22</td>\n",
       "      <td>\\n\\n\"Today, I announce my candidacy for Presid...</td>\n",
       "      <td>0.120192</td>\n",
       "      <td>0.754808</td>\n",
       "      <td>0.125000</td>\n",
       "      <td>0.185185</td>\n",
       "      <td>0.733333</td>\n",
       "      <td>0.081481</td>\n",
       "      <td>0.0</td>\n",
       "      <td>1.0</td>\n",
       "    </tr>\n",
       "    <tr>\n",
       "      <th>M0002</th>\n",
       "      <td>0</td>\n",
       "      <td>18462</td>\n",
       "      <td>May 1, 2007</td>\n",
       "      <td>McCain</td>\n",
       "      <td>3128</td>\n",
       "      <td>568</td>\n",
       "      <td>469</td>\n",
       "      <td>41</td>\n",
       "      <td>196</td>\n",
       "      <td>6</td>\n",
       "      <td>...</td>\n",
       "      <td>28</td>\n",
       "      <td>\\n\"Since the dawn of our republic, Americans h...</td>\n",
       "      <td>0.168724</td>\n",
       "      <td>0.806584</td>\n",
       "      <td>0.024691</td>\n",
       "      <td>0.191558</td>\n",
       "      <td>0.717532</td>\n",
       "      <td>0.090909</td>\n",
       "      <td>0.0</td>\n",
       "      <td>17.0</td>\n",
       "    </tr>\n",
       "    <tr>\n",
       "      <th>M0003</th>\n",
       "      <td>0</td>\n",
       "      <td>17203</td>\n",
       "      <td>May 21, 2007</td>\n",
       "      <td>McCain</td>\n",
       "      <td>2919</td>\n",
       "      <td>463</td>\n",
       "      <td>505</td>\n",
       "      <td>39</td>\n",
       "      <td>154</td>\n",
       "      <td>32</td>\n",
       "      <td>...</td>\n",
       "      <td>38</td>\n",
       "      <td>\\n\\n\"When our founding fathers signed the docu...</td>\n",
       "      <td>0.173333</td>\n",
       "      <td>0.684444</td>\n",
       "      <td>0.142222</td>\n",
       "      <td>0.136808</td>\n",
       "      <td>0.739414</td>\n",
       "      <td>0.123779</td>\n",
       "      <td>0.0</td>\n",
       "      <td>2.0</td>\n",
       "    </tr>\n",
       "    <tr>\n",
       "      <th>M0004</th>\n",
       "      <td>0</td>\n",
       "      <td>13528</td>\n",
       "      <td>June 18, 2007</td>\n",
       "      <td>McCain</td>\n",
       "      <td>2461</td>\n",
       "      <td>417</td>\n",
       "      <td>427</td>\n",
       "      <td>159</td>\n",
       "      <td>82</td>\n",
       "      <td>11</td>\n",
       "      <td>...</td>\n",
       "      <td>28</td>\n",
       "      <td>\\n\"Thank you, Admiral Stewart, Secretary Peter...</td>\n",
       "      <td>0.630952</td>\n",
       "      <td>0.325397</td>\n",
       "      <td>0.043651</td>\n",
       "      <td>0.496575</td>\n",
       "      <td>0.407534</td>\n",
       "      <td>0.095890</td>\n",
       "      <td>0.0</td>\n",
       "      <td>27.0</td>\n",
       "    </tr>\n",
       "    <tr>\n",
       "      <th>M0005</th>\n",
       "      <td>0</td>\n",
       "      <td>17127</td>\n",
       "      <td>June 20, 2007</td>\n",
       "      <td>McCain</td>\n",
       "      <td>2820</td>\n",
       "      <td>457</td>\n",
       "      <td>432</td>\n",
       "      <td>30</td>\n",
       "      <td>188</td>\n",
       "      <td>17</td>\n",
       "      <td>...</td>\n",
       "      <td>38</td>\n",
       "      <td>\\n\\n\"It is pretty difficult for a politician t...</td>\n",
       "      <td>0.127660</td>\n",
       "      <td>0.800000</td>\n",
       "      <td>0.072340</td>\n",
       "      <td>0.163701</td>\n",
       "      <td>0.701068</td>\n",
       "      <td>0.135231</td>\n",
       "      <td>0.0</td>\n",
       "      <td>13.0</td>\n",
       "    </tr>\n",
       "  </tbody>\n",
       "</table>\n",
       "<p>5 rows × 22 columns</p>\n",
       "</div>"
      ],
      "text/plain": [
       "       jahr   leng           datum speaker  nwords  ntoks  nverbs  npast  \\\n",
       "M0001     0  13750  April 25, 2007  McCain    2487    388     426     25   \n",
       "M0002     0  18462     May 1, 2007  McCain    3128    568     469     41   \n",
       "M0003     0  17203    May 21, 2007  McCain    2919    463     505     39   \n",
       "M0004     0  13528   June 18, 2007  McCain    2461    417     427    159   \n",
       "M0005     0  17127   June 20, 2007  McCain    2820    457     432     30   \n",
       "\n",
       "       npresent  nfuture  ...  nffuture  \\\n",
       "M0001       157       26  ...        22   \n",
       "M0002       196        6  ...        28   \n",
       "M0003       154       32  ...        38   \n",
       "M0004        82       11  ...        28   \n",
       "M0005       188       17  ...        38   \n",
       "\n",
       "                                                     doc   antpast antpresent  \\\n",
       "M0001  \\n\\n\"Today, I announce my candidacy for Presid...  0.120192   0.754808   \n",
       "M0002  \\n\"Since the dawn of our republic, Americans h...  0.168724   0.806584   \n",
       "M0003  \\n\\n\"When our founding fathers signed the docu...  0.173333   0.684444   \n",
       "M0004  \\n\"Thank you, Admiral Stewart, Secretary Peter...  0.630952   0.325397   \n",
       "M0005  \\n\\n\"It is pretty difficult for a politician t...  0.127660   0.800000   \n",
       "\n",
       "       antfuture  antfpast  antfpresent  antffuture  ldeont  lmodal  \n",
       "M0001   0.125000  0.185185     0.733333    0.081481     0.0     1.0  \n",
       "M0002   0.024691  0.191558     0.717532    0.090909     0.0    17.0  \n",
       "M0003   0.142222  0.136808     0.739414    0.123779     0.0     2.0  \n",
       "M0004   0.043651  0.496575     0.407534    0.095890     0.0    27.0  \n",
       "M0005   0.072340  0.163701     0.701068    0.135231     0.0    13.0  \n",
       "\n",
       "[5 rows x 22 columns]"
      ]
     },
     "execution_count": 12,
     "metadata": {},
     "output_type": "execute_result"
    }
   ],
   "source": [
    "dfmo.head()"
   ]
  },
  {
   "cell_type": "code",
   "execution_count": 90,
   "metadata": {},
   "outputs": [
    {
     "data": {
      "text/plain": [
       "count       251\n",
       "unique        2\n",
       "top       Obama\n",
       "freq        155\n",
       "Name: speaker, dtype: object"
      ]
     },
     "execution_count": 90,
     "metadata": {},
     "output_type": "execute_result"
    }
   ],
   "source": [
    "dfmo[\"speaker\"].describe()"
   ]
  },
  {
   "cell_type": "code",
   "execution_count": 91,
   "metadata": {},
   "outputs": [
    {
     "data": {
      "text/html": [
       "<div>\n",
       "<style scoped>\n",
       "    .dataframe tbody tr th:only-of-type {\n",
       "        vertical-align: middle;\n",
       "    }\n",
       "\n",
       "    .dataframe tbody tr th {\n",
       "        vertical-align: top;\n",
       "    }\n",
       "\n",
       "    .dataframe thead th {\n",
       "        text-align: right;\n",
       "    }\n",
       "</style>\n",
       "<table border=\"1\" class=\"dataframe\">\n",
       "  <thead>\n",
       "    <tr style=\"text-align: right;\">\n",
       "      <th></th>\n",
       "      <th>jahr</th>\n",
       "      <th>leng</th>\n",
       "      <th>datum</th>\n",
       "      <th>nwords</th>\n",
       "      <th>ntoks</th>\n",
       "      <th>nverbs</th>\n",
       "      <th>npast</th>\n",
       "      <th>npresent</th>\n",
       "      <th>nfuture</th>\n",
       "      <th>nfpast</th>\n",
       "      <th>...</th>\n",
       "      <th>nffuture</th>\n",
       "      <th>doc</th>\n",
       "      <th>antpast</th>\n",
       "      <th>antpresent</th>\n",
       "      <th>antfuture</th>\n",
       "      <th>antfpast</th>\n",
       "      <th>antfpresent</th>\n",
       "      <th>antffuture</th>\n",
       "      <th>ldeont</th>\n",
       "      <th>lmodal</th>\n",
       "    </tr>\n",
       "    <tr>\n",
       "      <th>speaker</th>\n",
       "      <th></th>\n",
       "      <th></th>\n",
       "      <th></th>\n",
       "      <th></th>\n",
       "      <th></th>\n",
       "      <th></th>\n",
       "      <th></th>\n",
       "      <th></th>\n",
       "      <th></th>\n",
       "      <th></th>\n",
       "      <th></th>\n",
       "      <th></th>\n",
       "      <th></th>\n",
       "      <th></th>\n",
       "      <th></th>\n",
       "      <th></th>\n",
       "      <th></th>\n",
       "      <th></th>\n",
       "      <th></th>\n",
       "      <th></th>\n",
       "      <th></th>\n",
       "    </tr>\n",
       "  </thead>\n",
       "  <tbody>\n",
       "    <tr>\n",
       "      <th>McCain</th>\n",
       "      <td>96</td>\n",
       "      <td>96</td>\n",
       "      <td>96</td>\n",
       "      <td>96</td>\n",
       "      <td>96</td>\n",
       "      <td>96</td>\n",
       "      <td>96</td>\n",
       "      <td>96</td>\n",
       "      <td>96</td>\n",
       "      <td>96</td>\n",
       "      <td>...</td>\n",
       "      <td>96</td>\n",
       "      <td>96</td>\n",
       "      <td>96</td>\n",
       "      <td>96</td>\n",
       "      <td>96</td>\n",
       "      <td>96</td>\n",
       "      <td>96</td>\n",
       "      <td>96</td>\n",
       "      <td>96</td>\n",
       "      <td>96</td>\n",
       "    </tr>\n",
       "    <tr>\n",
       "      <th>Obama</th>\n",
       "      <td>155</td>\n",
       "      <td>155</td>\n",
       "      <td>155</td>\n",
       "      <td>155</td>\n",
       "      <td>155</td>\n",
       "      <td>155</td>\n",
       "      <td>155</td>\n",
       "      <td>155</td>\n",
       "      <td>155</td>\n",
       "      <td>155</td>\n",
       "      <td>...</td>\n",
       "      <td>155</td>\n",
       "      <td>155</td>\n",
       "      <td>155</td>\n",
       "      <td>155</td>\n",
       "      <td>155</td>\n",
       "      <td>155</td>\n",
       "      <td>155</td>\n",
       "      <td>155</td>\n",
       "      <td>155</td>\n",
       "      <td>155</td>\n",
       "    </tr>\n",
       "  </tbody>\n",
       "</table>\n",
       "<p>2 rows × 21 columns</p>\n",
       "</div>"
      ],
      "text/plain": [
       "         jahr  leng  datum  nwords  ntoks  nverbs  npast  npresent  nfuture  \\\n",
       "speaker                                                                       \n",
       "McCain     96    96     96      96     96      96     96        96       96   \n",
       "Obama     155   155    155     155    155     155    155       155      155   \n",
       "\n",
       "         nfpast  ...  nffuture  doc  antpast  antpresent  antfuture  antfpast  \\\n",
       "speaker          ...                                                            \n",
       "McCain       96  ...        96   96       96          96         96        96   \n",
       "Obama       155  ...       155  155      155         155        155       155   \n",
       "\n",
       "         antfpresent  antffuture  ldeont  lmodal  \n",
       "speaker                                           \n",
       "McCain            96          96      96      96  \n",
       "Obama            155         155     155     155  \n",
       "\n",
       "[2 rows x 21 columns]"
      ]
     },
     "execution_count": 91,
     "metadata": {},
     "output_type": "execute_result"
    }
   ],
   "source": [
    "dfmo.groupby(\"speaker\").count()"
   ]
  },
  {
   "cell_type": "code",
   "execution_count": 92,
   "metadata": {},
   "outputs": [
    {
     "data": {
      "text/plain": [
       "count    251.000000\n",
       "mean       7.326693\n",
       "std        6.467522\n",
       "min        0.000000\n",
       "25%        3.000000\n",
       "50%        6.000000\n",
       "75%       10.000000\n",
       "max       48.000000\n",
       "Name: lmodal, dtype: float64"
      ]
     },
     "execution_count": 92,
     "metadata": {},
     "output_type": "execute_result"
    }
   ],
   "source": [
    "dfmo[\"lmodal\"].describe()"
   ]
  },
  {
   "cell_type": "code",
   "execution_count": 93,
   "metadata": {},
   "outputs": [
    {
     "data": {
      "text/plain": [
       "speaker\n",
       "McCain    7.947917\n",
       "Obama     6.941935\n",
       "Name: lmodal, dtype: float64"
      ]
     },
     "execution_count": 93,
     "metadata": {},
     "output_type": "execute_result"
    }
   ],
   "source": [
    "dfmo['lmodal'].groupby(dfmo[\"speaker\"]).mean()"
   ]
  },
  {
   "cell_type": "code",
   "execution_count": 94,
   "metadata": {},
   "outputs": [],
   "source": [
    "from scipy.stats import ttest_ind, chisquare"
   ]
  },
  {
   "cell_type": "code",
   "execution_count": 95,
   "metadata": {},
   "outputs": [
    {
     "data": {
      "text/plain": [
       "Index(['jahr', 'leng', 'datum', 'speaker', 'nwords', 'ntoks', 'nverbs',\n",
       "       'npast', 'npresent', 'nfuture', 'nfpast', 'nfpresent', 'nffuture',\n",
       "       'doc', 'antpast', 'antpresent', 'antfuture', 'antfpast', 'antfpresent',\n",
       "       'antffuture', 'ldeont', 'lmodal'],\n",
       "      dtype='object')"
      ]
     },
     "execution_count": 95,
     "metadata": {},
     "output_type": "execute_result"
    }
   ],
   "source": [
    "dfmo.columns"
   ]
  },
  {
   "cell_type": "code",
   "execution_count": 96,
   "metadata": {},
   "outputs": [],
   "source": [
    "dfmo['modal_ratio'] = dfmo['lmodal'] / dfmo['nwords']"
   ]
  },
  {
   "cell_type": "code",
   "execution_count": 97,
   "metadata": {},
   "outputs": [],
   "source": [
    "dfmo_Obama = dfmo[ dfmo[\"speaker\"] == 'Obama' ]"
   ]
  },
  {
   "cell_type": "code",
   "execution_count": 98,
   "metadata": {},
   "outputs": [],
   "source": [
    "dfmo_McCain = dfmo[ dfmo[\"speaker\"] == 'McCain' ]"
   ]
  },
  {
   "cell_type": "code",
   "execution_count": 99,
   "metadata": {},
   "outputs": [
    {
     "data": {
      "text/plain": [
       "(155, 96)"
      ]
     },
     "execution_count": 99,
     "metadata": {},
     "output_type": "execute_result"
    }
   ],
   "source": [
    "len(dfmo_Obama), len(dfmo_McCain)"
   ]
  },
  {
   "cell_type": "code",
   "execution_count": 100,
   "metadata": {},
   "outputs": [
    {
     "data": {
      "text/plain": [
       "Ttest_indResult(statistic=-4.247398773921505, pvalue=3.0569451817810756e-05)"
      ]
     },
     "execution_count": 100,
     "metadata": {},
     "output_type": "execute_result"
    }
   ],
   "source": [
    "# Obama vs McCain  usage of modal (would , could, might)\n",
    "ttest_ind(dfmo_Obama['modal_ratio'], dfmo_McCain['modal_ratio'])"
   ]
  },
  {
   "cell_type": "code",
   "execution_count": 101,
   "metadata": {},
   "outputs": [
    {
     "data": {
      "text/plain": [
       "Ttest_indResult(statistic=0.5773462807578523, pvalue=0.5642272079428642)"
      ]
     },
     "execution_count": 101,
     "metadata": {},
     "output_type": "execute_result"
    }
   ],
   "source": [
    "# past tense   Obama vs McCain\n",
    "ttest_ind(dfmo_Obama['antpast'], dfmo_McCain['antpast'])"
   ]
  },
  {
   "cell_type": "code",
   "execution_count": 102,
   "metadata": {},
   "outputs": [
    {
     "data": {
      "text/plain": [
       "Ttest_indResult(statistic=0.35528327634983004, pvalue=0.72267814920901)"
      ]
     },
     "execution_count": 102,
     "metadata": {},
     "output_type": "execute_result"
    }
   ],
   "source": [
    "# present tense   Obama vs McCain\n",
    "ttest_ind(dfmo_Obama['antpresent'], dfmo_McCain['antpresent'])"
   ]
  },
  {
   "cell_type": "code",
   "execution_count": 103,
   "metadata": {},
   "outputs": [
    {
     "data": {
      "text/plain": [
       "Ttest_indResult(statistic=-1.6188090516772249, pvalue=0.10675425396364378)"
      ]
     },
     "execution_count": 103,
     "metadata": {},
     "output_type": "execute_result"
    }
   ],
   "source": [
    "# future tense   Obama vs McCain\n",
    "ttest_ind(dfmo_Obama['antfuture'], dfmo_McCain['antfuture'])"
   ]
  },
  {
   "cell_type": "code",
   "execution_count": 104,
   "metadata": {},
   "outputs": [
    {
     "data": {
      "text/html": [
       "<div>\n",
       "<style scoped>\n",
       "    .dataframe tbody tr th:only-of-type {\n",
       "        vertical-align: middle;\n",
       "    }\n",
       "\n",
       "    .dataframe tbody tr th {\n",
       "        vertical-align: top;\n",
       "    }\n",
       "\n",
       "    .dataframe thead th {\n",
       "        text-align: right;\n",
       "    }\n",
       "</style>\n",
       "<table border=\"1\" class=\"dataframe\">\n",
       "  <thead>\n",
       "    <tr style=\"text-align: right;\">\n",
       "      <th></th>\n",
       "      <th>jahr</th>\n",
       "      <th>leng</th>\n",
       "      <th>nwords</th>\n",
       "      <th>ntoks</th>\n",
       "      <th>nverbs</th>\n",
       "      <th>npast</th>\n",
       "      <th>npresent</th>\n",
       "      <th>nfuture</th>\n",
       "      <th>nfpast</th>\n",
       "      <th>nfpresent</th>\n",
       "      <th>nffuture</th>\n",
       "      <th>antpast</th>\n",
       "      <th>antpresent</th>\n",
       "      <th>antfuture</th>\n",
       "      <th>antfpast</th>\n",
       "      <th>antfpresent</th>\n",
       "      <th>antffuture</th>\n",
       "      <th>ldeont</th>\n",
       "      <th>lmodal</th>\n",
       "      <th>modal_ratio</th>\n",
       "    </tr>\n",
       "    <tr>\n",
       "      <th>speaker</th>\n",
       "      <th></th>\n",
       "      <th></th>\n",
       "      <th></th>\n",
       "      <th></th>\n",
       "      <th></th>\n",
       "      <th></th>\n",
       "      <th></th>\n",
       "      <th></th>\n",
       "      <th></th>\n",
       "      <th></th>\n",
       "      <th></th>\n",
       "      <th></th>\n",
       "      <th></th>\n",
       "      <th></th>\n",
       "      <th></th>\n",
       "      <th></th>\n",
       "      <th></th>\n",
       "      <th></th>\n",
       "      <th></th>\n",
       "      <th></th>\n",
       "    </tr>\n",
       "  </thead>\n",
       "  <tbody>\n",
       "    <tr>\n",
       "      <th>McCain</th>\n",
       "      <td>0.0</td>\n",
       "      <td>12600.781250</td>\n",
       "      <td>2215.093750</td>\n",
       "      <td>368.416667</td>\n",
       "      <td>379.791667</td>\n",
       "      <td>43.635417</td>\n",
       "      <td>133.31250</td>\n",
       "      <td>21.645833</td>\n",
       "      <td>53.562500</td>\n",
       "      <td>174.739583</td>\n",
       "      <td>35.208333</td>\n",
       "      <td>0.209524</td>\n",
       "      <td>0.677362</td>\n",
       "      <td>0.113114</td>\n",
       "      <td>0.199057</td>\n",
       "      <td>0.665530</td>\n",
       "      <td>0.135413</td>\n",
       "      <td>0.0</td>\n",
       "      <td>7.947917</td>\n",
       "      <td>0.003425</td>\n",
       "    </tr>\n",
       "    <tr>\n",
       "      <th>Obama</th>\n",
       "      <td>0.0</td>\n",
       "      <td>15236.522581</td>\n",
       "      <td>2807.477419</td>\n",
       "      <td>465.916129</td>\n",
       "      <td>518.703226</td>\n",
       "      <td>60.761290</td>\n",
       "      <td>191.43871</td>\n",
       "      <td>29.451613</td>\n",
       "      <td>74.154839</td>\n",
       "      <td>244.929032</td>\n",
       "      <td>42.548387</td>\n",
       "      <td>0.216861</td>\n",
       "      <td>0.681271</td>\n",
       "      <td>0.101868</td>\n",
       "      <td>0.207882</td>\n",
       "      <td>0.678454</td>\n",
       "      <td>0.113664</td>\n",
       "      <td>0.0</td>\n",
       "      <td>6.941935</td>\n",
       "      <td>0.002330</td>\n",
       "    </tr>\n",
       "  </tbody>\n",
       "</table>\n",
       "</div>"
      ],
      "text/plain": [
       "         jahr          leng       nwords       ntoks      nverbs      npast  \\\n",
       "speaker                                                                       \n",
       "McCain    0.0  12600.781250  2215.093750  368.416667  379.791667  43.635417   \n",
       "Obama     0.0  15236.522581  2807.477419  465.916129  518.703226  60.761290   \n",
       "\n",
       "          npresent    nfuture     nfpast   nfpresent   nffuture   antpast  \\\n",
       "speaker                                                                     \n",
       "McCain   133.31250  21.645833  53.562500  174.739583  35.208333  0.209524   \n",
       "Obama    191.43871  29.451613  74.154839  244.929032  42.548387  0.216861   \n",
       "\n",
       "         antpresent  antfuture  antfpast  antfpresent  antffuture  ldeont  \\\n",
       "speaker                                                                     \n",
       "McCain     0.677362   0.113114  0.199057     0.665530    0.135413     0.0   \n",
       "Obama      0.681271   0.101868  0.207882     0.678454    0.113664     0.0   \n",
       "\n",
       "           lmodal  modal_ratio  \n",
       "speaker                         \n",
       "McCain   7.947917     0.003425  \n",
       "Obama    6.941935     0.002330  "
      ]
     },
     "execution_count": 104,
     "metadata": {},
     "output_type": "execute_result"
    }
   ],
   "source": [
    "dfmo.groupby(\"speaker\").mean()"
   ]
  },
  {
   "cell_type": "code",
   "execution_count": 105,
   "metadata": {},
   "outputs": [
    {
     "data": {
      "text/plain": [
       "Power_divergenceResult(statistic=57.04367201426025, pvalue=4.103212493030197e-13)"
      ]
     },
     "execution_count": 105,
     "metadata": {},
     "output_type": "execute_result"
    }
   ],
   "source": [
    "# McCain, POS tagging, i.e. antpast, antpresent, antfuture,  chisquare : observed vs expected\n",
    "chisquare([21, 68, 11], [33, 33, 34])"
   ]
  },
  {
   "cell_type": "code",
   "execution_count": 106,
   "metadata": {},
   "outputs": [
    {
     "data": {
      "text/plain": [
       "Power_divergenceResult(statistic=21.36541889483066, pvalue=2.2938141908821448e-05)"
      ]
     },
     "execution_count": 106,
     "metadata": {},
     "output_type": "execute_result"
    }
   ],
   "source": [
    "# Obama, POS tagging, i.e. antpast, antpresent, antfuture,  chisquare : observed vs expected\n",
    "chisquare([22, 28, 10], [33, 33, 34])"
   ]
  },
  {
   "cell_type": "code",
   "execution_count": 107,
   "metadata": {},
   "outputs": [
    {
     "data": {
      "text/plain": [
       "Power_divergenceResult(statistic=53.12210338680927, pvalue=2.9152903563929526e-12)"
      ]
     },
     "execution_count": 107,
     "metadata": {},
     "output_type": "execute_result"
    }
   ],
   "source": [
    "# McCain, LIWC, i.e. antfpast,antfpresent, antffuture,  chisquare : observed vs expected\n",
    "chisquare([20, 67, 13], [33, 33, 34])"
   ]
  },
  {
   "cell_type": "code",
   "execution_count": 108,
   "metadata": {},
   "outputs": [
    {
     "data": {
      "text/plain": [
       "Power_divergenceResult(statistic=57.04367201426025, pvalue=4.103212493030197e-13)"
      ]
     },
     "execution_count": 108,
     "metadata": {},
     "output_type": "execute_result"
    }
   ],
   "source": [
    "# Obama, LIWC, i.e. antfpast,antfpresent, antffuture,  chisquare : observed vs expected\n",
    "chisquare([21, 68, 11], [33, 33, 34])"
   ]
  },
  {
   "cell_type": "code",
   "execution_count": 109,
   "metadata": {},
   "outputs": [
    {
     "data": {
      "text/plain": [
       "'\"Today, I announce my candidacy for President of the United States. I do so grateful for the privileges this country has already given me; mindful that I must seek this responsibility for reasons greater than my self-interest; and determined to use every lesson I\\'ve learned through hard experience and the history I\\'ve witnessed, every inspiration I\\'ve drawn from the patriots I\\'ve known and the faith that guides me to meet the challenges of our time, and strengthen this great and good nation upon whom all mankind depends.\"We\\'ve begun another campaign season earlier than many Americans prefer. So soon after our last contentious election, our differences are again sure to be sharpened and exaggerated. That\\'s the nature of free elections. But even in the heat of a campaign, we shouldn\\'t lose sight that much more defines us than our partisanship; much more unites us than divides us. We have common purposes and common challenges, and we live in momentous times. This election should be about big things, not small ones. Ours are not red state or blue state problems. They are national and global. Half measures and small minded politics are inadequate to the present occasion. We can\\'t muddle through the next four years, bickering among ourselves, and leave to others the work that is ours to do. Greatness is America\\'s destiny, but no nation complacent in its greatness can long sustain it. \"We are fighting a war in two countries, and we\\'re in a global struggle with violent extremists who despise us, our values and modernity itself. If we are to succeed, we must rethink and rebuild the structure and mission of our military; the capabilities of our intelligence and law enforcement agencies; the purposes of our alliances; the reach and scope of our diplomacy; the capacity of all branches of government to defend us. We need to marshal all elements of American power: our military, economy, investment, trade and technology. We need to strengthen our alliances and build support in other nations. We must preserve our moral credibility, and remember that our security and the global progress of our ideals are inextricably linked.\"We all know the war in Iraq has not gone well. We have made mistakes and we have paid grievously for them. We have changed the strategy that failed us, and we have begun to make a little progress. But in the many mistakes we have made in this war, a few lessons have become clear. America should never undertake a war unless we are prepared to do everything necessary to succeed, unless we have a realistic and comprehensive plan for success, and unless all relevant agencies of government are committed to that success. We did not meet this responsibility initially. And we must never repeat that mistake again. \"We must also prepare, far better than we have, to respond quickly and effectively to another terrorist attack or natural calamity. When Americans confront a catastrophe, natural or man-made, they have a right to expect basic competence from their government. They won\\'t accept that firemen and policemen are unable to communicate with each other in an emergency because they don\\'t have the same radio frequency. They won\\'t accept government\\'s failure to deliver bottled water to dehydrated babies or rescue the infirm from a hospital with no electricity. They won\\'t accept substandard care and indifference for wounded veterans. \"That\\'s not good enough for America. And when I\\'m President, it won\\'t be good enough for me. \"Government spends more money today than ever before. Wasteful spending on things that are not the business of government indebts us to other nations; deprives you of the fruits of your labor; fuels inflation; raises interest rates; and encourages irresponsibility. \"That\\'s not good enough for America. And when I\\'m President, it won\\'t be good enough for me. \"No government program is the object of more political posturing than Social Security and Medicare. Here\\'s the plain truth: there are too few workers supporting too many retirees, and if we don\\'t make some tough choices today, Social Security and Medicare will go bankrupt or we\\'ll have to raise taxes so drastically we\\'ll crush the prosperity of average Americans. Too many politicians want to ignore the problem, and run for re-election by threatening anyone who wants to fix it. \"That\\'s not good enough for America. And when I\\'m President, it won\\'t be good enough for me. \"Our tax code is used to game the system for some at the expense of the many instead of encouraging the thrift, investment, innovation and industry of all Americans. It\\'s complexity and waste costs Americans $140 billion in preparation and compliance costs each year. \"That\\'s not good enough for America. And when I\\'m President, it won\\'t be good enough for me.\"Our dependence on foreign sources of energy not only harms our environment and economy, it endangers our security. So much of the oil we import comes from countries in volatile regions of the world where our values aren\\'t shared and our interests aren\\'t a priority. \"That\\'s not good enough for America. And when I\\'m President, it won\\'t be good enough for me. \"We\\'re not a country that prefers nostalgia to optimism. We\\'re not a country that would rather go back than forward. We\\'re the world\\'s leader, and leaders don\\'t pine for the past and dread the future. We make the future better than the past. Opening new markets to American goods and services is indispensable to our future prosperity. Lowering trade barriers creates more and better jobs; keeps inflation under control; keeps interest rates low; and makes more goods affordable to more Americans. We won\\'t compete successfully by using old technology to produce old goods. We\\'ll succeed by knowing what to produce and inventing new technologies to produce it. \"But open markets don\\'t automatically translate into a better quality of life for every American. While most gain, some are forced to struggle with very difficult choices. Right now we have a half dozen programs to help displaced workers and another half dozen for people who aren\\'t working at all. We have an unemployment insurance program that\\'s right out of the 1950s, designed to assist workers through a few tough months during an economic downturn.\"That\\'s not good enough for America. And when I\\'m President, it won\\'t be good enough for me.\"These are some of the challenges that confront us. There are others just as urgent, and during this campaign I\\'ll travel across the country offering my ideas about how we should address them and listening to the concerns and advice of Americans. The American people aren\\'t interested in an election that offers platitudes instead of principles and insults instead of ideas; an election that results - no matter who wins - in four years of unkept promises and a divided government that is little more than a battleground for the next election. They\\'re tired of the old politics. Americans are acutely aware of our problems, and their patience is at an end for politicians who value incumbency over principle, and for partisanship that is less a contest of ideas than an uncivil brawl over the spoils of power. I want my presidency to be an opportunity - an opportunity to fix what we all know needs to be fixed: \"to strengthen our military, intelligence, diplomacy, and law enforcement and use the power of American ideals and commerce to win the war against violent extremists, and help the majority of Muslims who believe in progress and peace to win the struggle for the soul of Islam;\"to balance the federal budget not with smoke and mirrors but by encouraging economic growth and preventing government from spending your money on things it shouldn\\'t; to hold it accountable for the money it does spend on services that only government can provide in ways that don\\'t fail and embarrass you; \"to save Social Security and Medicare on our watch without the tricks, band-aid solutions, lies and posturing that have failed us for too long while the problem became harder and harder to solve;\"to make our tax code simpler, fairer, flatter, more pro-growth and pro-jobs;\"to reduce our dangerous dependence on foreign sources of oil with an energy policy that encourages American industry and technology to make our country safer, cleaner and more prosperous by leading the world in the use, development and discovery of alternative sources of energy;\"to open new markets to American goods and services, create more and better jobs for the American worker and overhaul unemployment insurance and our redundant and outmoded programs for assisting workers who have lost a job that\\'s not coming back to find a job that won\\'t go away;\"to help Americans without health insurance acquire it without bankrupting the country, and ruining the quality of American health care that is the envy of the world;\"to make our public schools more accountable to parents and better able to meet the critical responsibility they have to prepare our children for the challenges they\\'ll face in the world they\\'ll lead. \"When I\\'m President I\\'ll offer common sense, conservative and comprehensive solutions to these challenges. Congress will have other ideas, and I\\'ll listen to them. I\\'ll work with anyone who is serious and sincere about solving these problems. I expect us to argue over principle, but when a compromise consistent with our principles is within reach, I expect us to seize it. Americans expect us to disagree, but not just to win the next election. They want us to serve the same goal: to ensure that a country blessed with our matchless prosperity, ingenuity, and strength can meet any challenge we confront. \"I won\\'t judge myself by how many elections I\\'ve won, but by how well I keep my promises to you. To keep those promises, I can\\'t just win this election by a few votes in a few counties in a few states. I need a mandate from you big enough to convince Congress that Americans want this election to be different. You want to change the politics of selfishness, stalemate and delay; move this country forward and stake our claim on this century as we did in the last. Then I ask you for the opportunity to devote every day of my presidency to making this government work for you, and for a mandate big enough to get the job done. \"I\\'ll challenge myself and each member of Congress to wake up each morning and ask ourselves: will we remember today as the finest day of our public life; the day we worked just for you, not for us? And I\\'ll challenge the American people to reject phony soundbite solutions that have failed us in the past, and hold us accountable for the work you have given us. \"We face formidable challenges, but I\\'m not afraid of them. I\\'m prepared for them. I\\'m not the youngest candidate. But I am the most experienced. I know how the military works, what it can do, what it can do better, and what it should not do. I know how Congress works, and how to make it work for the country and not just the re-election of its members. I know how the world works. I know the good and the evil in it. I know how to work with leaders who share our dreams of a freer, safer and more prosperous world, and how to stand up to those who don\\'t. I know how to fight and how to make peace. I know who I am and what I want to do. \"I don\\'t seek the office out of a sense of entitlement. I owe America more than she has ever owed me. Thirty-four years ago, I came home from an extended absence abroad. While I was away, I fell in love with my country. I learned that what\\'s good for America, is good enough for me. I have been an imperfect servant of my country ever since, in uniform and in office, in war and peace. I have never lived a single day, in good times or in bad, that I haven\\'t thanked God for the privilege. \"You can\\'t sell me on hopelessness. You can\\'t convince me our problems are insurmountable. Our challenges are an opportunity to write another chapter of American greatness. We must seize it, and those of us privileged to lead America must remember the principles that made us great, have the faith to stand by them, the integrity to honor our public trust, and the courage to keep our promise to put the nation\\'s interests before our own. Don\\'t tell me what we can\\'t do. Don\\'t tell me we can\\'t make our country stronger, and the world safer. We can. We must. And when I\\'m President we will. \"I\\'m not running for President to be somebody, but to do something; to do the hard but necessary things not the easy and needless things. I\\'m running for President to protect our country from harm and defeat its enemies. I\\'m running for President to make the government do its job, not your job; to do it with less and to do it better. I\\'m not running to leave our biggest problems to an unluckier generation of leaders, but to fix them now, and fix them well. I\\'m running for President to make sure America maintains its place as the political and economic leader of the world; the country that doesn\\'t fear change, but makes change work for us; the country that doesn\\'t long for the good old days, but aspires to even better days. I\\'m running for President of the United States; not yesterday\\'s country; not a defeated country; not a bankrupt country; not a timid and frightened country; not a country fragmented into bickering interest groups with no sense of the national interest; not a country with a bloated, irresponsible and incompetent government. I\\'m running for President of the United States, a blessed country, a proud country, a hopeful country, the most powerful and prosperous country and the greatest force for good on earth. And when I\\'m President, I intend to keep it so.\"'"
      ]
     },
     "execution_count": 109,
     "metadata": {},
     "output_type": "execute_result"
    }
   ],
   "source": [
    "dfmo.loc[\"M0001\", \"doc\"]"
   ]
  },
  {
   "cell_type": "code",
   "execution_count": null,
   "metadata": {},
   "outputs": [],
   "source": []
  },
  {
   "cell_type": "code",
   "execution_count": null,
   "metadata": {},
   "outputs": [],
   "source": []
  }
 ],
 "metadata": {
  "kernelspec": {
   "display_name": "Python 3",
   "language": "python",
   "name": "python3"
  },
  "language_info": {
   "codemirror_mode": {
    "name": "ipython",
    "version": 3
   },
   "file_extension": ".py",
   "mimetype": "text/x-python",
   "name": "python",
   "nbconvert_exporter": "python",
   "pygments_lexer": "ipython3",
   "version": "3.5.5"
  }
 },
 "nbformat": 4,
 "nbformat_minor": 2
}
