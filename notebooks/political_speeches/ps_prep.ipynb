{
 "cells": [
  {
   "cell_type": "code",
   "execution_count": 1,
   "metadata": {},
   "outputs": [],
   "source": [
    "# This script prepares the metadata of the political speeches."
   ]
  },
  {
   "cell_type": "code",
   "execution_count": 2,
   "metadata": {},
   "outputs": [],
   "source": [
    "import pandas as pd\n",
    "import os\n",
    "import fileinput\n",
    "df = pd.DataFrame(index=range(0,0), columns = ['fname', 'title', 'location', 'date', 'comment'], dtype = object)"
   ]
  },
  {
   "cell_type": "code",
   "execution_count": 3,
   "metadata": {},
   "outputs": [],
   "source": [
    "fpath = '/home/xhta/Robot/proj/posp/speeches/'    # must be set before run \n",
    "from os import listdir\n",
    "ldir = listdir(fpath)\n",
    "a = 0\n",
    "b = 0\n",
    "fo = open(\"dummy.txt\", \"w\")"
   ]
  },
  {
   "cell_type": "code",
   "execution_count": 4,
   "metadata": {},
   "outputs": [
    {
     "name": "stdout",
     "output_type": "stream",
     "text": [
      "ObamaSpeeches0711.txt\n",
      "ObamaSpeeches0802.txt\n",
      "ObamaSpeeches0712.txt\n",
      "ObamaSpeeches0806.txt\n",
      "McCainSpeeches0801.txt\n",
      "McCainSpeeches0809.txt\n",
      "ObamaSpeeches0707.txt\n",
      "ObamaSpeeches0809.txt\n",
      "ObamaSpeeches0810.txt\n",
      "ObamaSpeeches0710.txt\n",
      "McCainSpeeches0811.txt\n",
      "McCainSpeeches0805.txt\n",
      "ObamaSpeeches0803.txt\n",
      "ObamaSpeeches0807.txt\n",
      "ObamaSpeeches0709.txt\n",
      "ObamaSpeeches0801.txt\n",
      "McCainSpeeches07.txt\n",
      "ObamaSpeeches0808.txt\n",
      "ObamaSpeeches0811.txt\n",
      "McCainSpeeches0807.txt\n",
      "McCainSpeeches0808.txt\n",
      "ObamaSpeeches0705.txt\n",
      "McCainSpeeches0804.txt\n",
      "McCainSpeeches0806.txt\n",
      "ObamaSpeeches0804.txt\n",
      "ObamaSpeeches0805.txt\n",
      "McCainSpeeches0803.txt\n",
      "McCainSpeeches0802.txt\n",
      "ObamaSpeeches070402.txt\n",
      "ObamaSpeeches0708.txt\n",
      "ObamaSpeeches0706.txt\n",
      "McCainSpeeches0810.txt\n"
     ]
    }
   ],
   "source": [
    "for fname in ldir:\n",
    "    print(fname)\n",
    "    for line in fileinput.input(os.path.join(fpath, fname), openhook=fileinput.hook_encoded(\"iso-8859-1\")):\n",
    "        if (line.find('<docid') >= 0):\n",
    "            curr = line[7:-2].replace(' ','').replace('id','')\n",
    "            df.loc[curr, 'fname'] = fname\n",
    "            if (fo.closed == False):\n",
    "                fo.close()\n",
    "            fo = open(curr + \".txt\", \"w\")\n",
    "        elif (line.find('<title') >= 0): df.loc[curr, 'title'] = line[7:-2]\n",
    "        elif (line.find('<location') >= 0): df.loc[curr, 'location'] = line[9:-2]\n",
    "        elif (line.find('<date') >= 0): df.loc[curr, 'date'] = line[6:-2]\n",
    "        elif (line.find('<comment') >= 0): df.loc[curr, 'comment'] = line[9:-2]\n",
    "#        else: b = b + 1\n",
    "        else: fo.write(line)\n",
    "    fo.close()\n",
    "    fileinput.close()\n",
    "\n",
    "for inde in df.index:\n",
    "    if 'Obama' in df.loc[inde, 'fname']: df.at[inde, 'Speaker'] = 'Obama'\n",
    "    if 'McCain' in df.loc[inde, 'fname']: df.at[inde, 'Speaker'] = 'McCain'\n",
    "df2 = pd.DataFrame(data=df, columns = ['Speaker', 'date', 'fname', 'title', 'location', 'comment'])\n",
    "df2 = df2.sort_index()\n",
    "df2.to_csv(\"posp_metadata.csv\", sep = ';')"
   ]
  },
  {
   "cell_type": "code",
   "execution_count": 5,
   "metadata": {},
   "outputs": [],
   "source": [
    "# move all M*.txt and O*.txt created to a dedicated subfolder"
   ]
  },
  {
   "cell_type": "code",
   "execution_count": null,
   "metadata": {},
   "outputs": [],
   "source": []
  }
 ],
 "metadata": {
  "kernelspec": {
   "display_name": "Python 3",
   "language": "python",
   "name": "python3"
  },
  "language_info": {
   "codemirror_mode": {
    "name": "ipython",
    "version": 3
   },
   "file_extension": ".py",
   "mimetype": "text/x-python",
   "name": "python",
   "nbconvert_exporter": "python",
   "pygments_lexer": "ipython3",
   "version": "3.5.5"
  }
 },
 "nbformat": 4,
 "nbformat_minor": 2
}
