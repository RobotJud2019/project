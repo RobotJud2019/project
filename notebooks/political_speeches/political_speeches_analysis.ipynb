{
 "cells": [
  {
   "cell_type": "markdown",
   "metadata": {},
   "source": [
    "### analysis of the political speches dataset. "
   ]
  },
  {
   "cell_type": "markdown",
   "metadata": {},
   "source": [
    "##### Dataset from Savoy, J: Lexical Analysis of US Political Speeches. Journal of Quantitative Linguistics 17, issue 2, 123-141, 2010"
   ]
  },
  {
   "cell_type": "code",
   "execution_count": 1,
   "metadata": {},
   "outputs": [],
   "source": [
    "import pickle"
   ]
  },
  {
   "cell_type": "code",
   "execution_count": 2,
   "metadata": {},
   "outputs": [],
   "source": [
    "import numpy as np\n",
    "import pandas as pd\n",
    "import matplotlib.pyplot as plt"
   ]
  },
  {
   "cell_type": "code",
   "execution_count": 3,
   "metadata": {},
   "outputs": [],
   "source": [
    "from scipy.stats import ttest_ind    # ttest_ind tests the equality of means\n",
    "from scipy.stats import chisquare    # chisquare tests the independence of 2 distributions"
   ]
  },
  {
   "cell_type": "markdown",
   "metadata": {
    "collapsed": true
   },
   "source": [
    "### political speeches dataset"
   ]
  },
  {
   "cell_type": "code",
   "execution_count": 75,
   "metadata": {},
   "outputs": [],
   "source": [
    "dfmo = pickle.load(open(\"/home/xhta/Robot/proj/posp/pj_demo_dfmo_full.20190629_163240.pkl\", \"rb\"))"
   ]
  },
  {
   "cell_type": "code",
   "execution_count": 76,
   "metadata": {},
   "outputs": [
    {
     "data": {
      "text/html": [
       "<div>\n",
       "<style scoped>\n",
       "    .dataframe tbody tr th:only-of-type {\n",
       "        vertical-align: middle;\n",
       "    }\n",
       "\n",
       "    .dataframe tbody tr th {\n",
       "        vertical-align: top;\n",
       "    }\n",
       "\n",
       "    .dataframe thead th {\n",
       "        text-align: right;\n",
       "    }\n",
       "</style>\n",
       "<table border=\"1\" class=\"dataframe\">\n",
       "  <thead>\n",
       "    <tr style=\"text-align: right;\">\n",
       "      <th></th>\n",
       "      <th>jahr</th>\n",
       "      <th>leng</th>\n",
       "      <th>datum</th>\n",
       "      <th>speaker</th>\n",
       "      <th>nwords</th>\n",
       "      <th>ntoks</th>\n",
       "      <th>nverbs</th>\n",
       "      <th>npast</th>\n",
       "      <th>npresent</th>\n",
       "      <th>nfuture</th>\n",
       "      <th>...</th>\n",
       "      <th>nffuture</th>\n",
       "      <th>doc</th>\n",
       "      <th>antpast</th>\n",
       "      <th>antpresent</th>\n",
       "      <th>antfuture</th>\n",
       "      <th>antfpast</th>\n",
       "      <th>antfpresent</th>\n",
       "      <th>antffuture</th>\n",
       "      <th>ldeont</th>\n",
       "      <th>lmodal</th>\n",
       "    </tr>\n",
       "  </thead>\n",
       "  <tbody>\n",
       "    <tr>\n",
       "      <th>M0001</th>\n",
       "      <td>0</td>\n",
       "      <td>13646</td>\n",
       "      <td>April 25, 2007</td>\n",
       "      <td>McCain</td>\n",
       "      <td>2441</td>\n",
       "      <td>385</td>\n",
       "      <td>422</td>\n",
       "      <td>25</td>\n",
       "      <td>155</td>\n",
       "      <td>26</td>\n",
       "      <td>...</td>\n",
       "      <td>22</td>\n",
       "      <td>\"Today, I announce my candidacy for President ...</td>\n",
       "      <td>0.121359</td>\n",
       "      <td>0.752427</td>\n",
       "      <td>0.126214</td>\n",
       "      <td>0.185185</td>\n",
       "      <td>0.733333</td>\n",
       "      <td>0.081481</td>\n",
       "      <td>0.0</td>\n",
       "      <td>1.0</td>\n",
       "    </tr>\n",
       "    <tr>\n",
       "      <th>M0002</th>\n",
       "      <td>0</td>\n",
       "      <td>18408</td>\n",
       "      <td>May 1, 2007</td>\n",
       "      <td>McCain</td>\n",
       "      <td>3095</td>\n",
       "      <td>561</td>\n",
       "      <td>468</td>\n",
       "      <td>42</td>\n",
       "      <td>195</td>\n",
       "      <td>6</td>\n",
       "      <td>...</td>\n",
       "      <td>28</td>\n",
       "      <td>\"Since the dawn of our republic, Americans hav...</td>\n",
       "      <td>0.172840</td>\n",
       "      <td>0.802469</td>\n",
       "      <td>0.024691</td>\n",
       "      <td>0.191558</td>\n",
       "      <td>0.717532</td>\n",
       "      <td>0.090909</td>\n",
       "      <td>0.0</td>\n",
       "      <td>17.0</td>\n",
       "    </tr>\n",
       "    <tr>\n",
       "      <th>M0003</th>\n",
       "      <td>0</td>\n",
       "      <td>17136</td>\n",
       "      <td>May 21, 2007</td>\n",
       "      <td>McCain</td>\n",
       "      <td>2880</td>\n",
       "      <td>460</td>\n",
       "      <td>505</td>\n",
       "      <td>41</td>\n",
       "      <td>152</td>\n",
       "      <td>32</td>\n",
       "      <td>...</td>\n",
       "      <td>38</td>\n",
       "      <td>\"When our founding fathers signed the document...</td>\n",
       "      <td>0.182222</td>\n",
       "      <td>0.675556</td>\n",
       "      <td>0.142222</td>\n",
       "      <td>0.136808</td>\n",
       "      <td>0.739414</td>\n",
       "      <td>0.123779</td>\n",
       "      <td>0.0</td>\n",
       "      <td>2.0</td>\n",
       "    </tr>\n",
       "    <tr>\n",
       "      <th>M0004</th>\n",
       "      <td>0</td>\n",
       "      <td>13463</td>\n",
       "      <td>June 18, 2007</td>\n",
       "      <td>McCain</td>\n",
       "      <td>2428</td>\n",
       "      <td>417</td>\n",
       "      <td>427</td>\n",
       "      <td>160</td>\n",
       "      <td>83</td>\n",
       "      <td>11</td>\n",
       "      <td>...</td>\n",
       "      <td>28</td>\n",
       "      <td>\"Thank you, Admiral Stewart, Secretary Peters,...</td>\n",
       "      <td>0.629921</td>\n",
       "      <td>0.326772</td>\n",
       "      <td>0.043307</td>\n",
       "      <td>0.496575</td>\n",
       "      <td>0.407534</td>\n",
       "      <td>0.095890</td>\n",
       "      <td>0.0</td>\n",
       "      <td>27.0</td>\n",
       "    </tr>\n",
       "    <tr>\n",
       "      <th>M0005</th>\n",
       "      <td>0</td>\n",
       "      <td>17063</td>\n",
       "      <td>June 20, 2007</td>\n",
       "      <td>McCain</td>\n",
       "      <td>2766</td>\n",
       "      <td>451</td>\n",
       "      <td>429</td>\n",
       "      <td>31</td>\n",
       "      <td>174</td>\n",
       "      <td>17</td>\n",
       "      <td>...</td>\n",
       "      <td>38</td>\n",
       "      <td>\"It is pretty difficult for a politician to re...</td>\n",
       "      <td>0.139640</td>\n",
       "      <td>0.783784</td>\n",
       "      <td>0.076577</td>\n",
       "      <td>0.163701</td>\n",
       "      <td>0.701068</td>\n",
       "      <td>0.135231</td>\n",
       "      <td>0.0</td>\n",
       "      <td>13.0</td>\n",
       "    </tr>\n",
       "  </tbody>\n",
       "</table>\n",
       "<p>5 rows × 22 columns</p>\n",
       "</div>"
      ],
      "text/plain": [
       "       jahr   leng           datum speaker  nwords  ntoks  nverbs  npast  \\\n",
       "M0001     0  13646  April 25, 2007  McCain    2441    385     422     25   \n",
       "M0002     0  18408     May 1, 2007  McCain    3095    561     468     42   \n",
       "M0003     0  17136    May 21, 2007  McCain    2880    460     505     41   \n",
       "M0004     0  13463   June 18, 2007  McCain    2428    417     427    160   \n",
       "M0005     0  17063   June 20, 2007  McCain    2766    451     429     31   \n",
       "\n",
       "       npresent  nfuture  ...  nffuture  \\\n",
       "M0001       155       26  ...        22   \n",
       "M0002       195        6  ...        28   \n",
       "M0003       152       32  ...        38   \n",
       "M0004        83       11  ...        28   \n",
       "M0005       174       17  ...        38   \n",
       "\n",
       "                                                     doc   antpast antpresent  \\\n",
       "M0001  \"Today, I announce my candidacy for President ...  0.121359   0.752427   \n",
       "M0002  \"Since the dawn of our republic, Americans hav...  0.172840   0.802469   \n",
       "M0003  \"When our founding fathers signed the document...  0.182222   0.675556   \n",
       "M0004  \"Thank you, Admiral Stewart, Secretary Peters,...  0.629921   0.326772   \n",
       "M0005  \"It is pretty difficult for a politician to re...  0.139640   0.783784   \n",
       "\n",
       "       antfuture  antfpast  antfpresent  antffuture  ldeont  lmodal  \n",
       "M0001   0.126214  0.185185     0.733333    0.081481     0.0     1.0  \n",
       "M0002   0.024691  0.191558     0.717532    0.090909     0.0    17.0  \n",
       "M0003   0.142222  0.136808     0.739414    0.123779     0.0     2.0  \n",
       "M0004   0.043307  0.496575     0.407534    0.095890     0.0    27.0  \n",
       "M0005   0.076577  0.163701     0.701068    0.135231     0.0    13.0  \n",
       "\n",
       "[5 rows x 22 columns]"
      ]
     },
     "execution_count": 76,
     "metadata": {},
     "output_type": "execute_result"
    }
   ],
   "source": [
    "dfmo.head()"
   ]
  },
  {
   "cell_type": "code",
   "execution_count": 77,
   "metadata": {},
   "outputs": [
    {
     "data": {
      "text/plain": [
       "Index(['jahr', 'leng', 'datum', 'speaker', 'nwords', 'ntoks', 'nverbs',\n",
       "       'npast', 'npresent', 'nfuture', 'nfpast', 'nfpresent', 'nffuture',\n",
       "       'doc', 'antpast', 'antpresent', 'antfuture', 'antfpast', 'antfpresent',\n",
       "       'antffuture', 'ldeont', 'lmodal'],\n",
       "      dtype='object')"
      ]
     },
     "execution_count": 77,
     "metadata": {},
     "output_type": "execute_result"
    }
   ],
   "source": [
    "dfmo.columns"
   ]
  },
  {
   "cell_type": "code",
   "execution_count": 78,
   "metadata": {},
   "outputs": [
    {
     "data": {
      "text/plain": [
       "'\"It is pretty difficult for a politician to resist an invitation to speak before a room full of broadcasters - especially during an election campaign. But I am not here to talk about politics but about our neighbors which have been too neglected for too long. We are all of the New World, united by a common history and a common quest for justice and freedom that began with our struggle for independence.\"Four and a half decades ago, John Kennedy described the people of Latin America as our \\'firm and ancient friends, united by history and experience and by our determination to advance the values of American civilization.\\' Never was this truer than today. With globalization, our hemisphere has grown closer, more integrated, and more interdependent. Latin America today is increasingly vital to the fortunes of the United States. Americans north and south share a common geography and a common destiny. I would like to share with you today my vision about where our hemisphere is headed, and how, as President, I would lead our region.\"The countries of Latin America are the natural partners of the United States, and yet it hardly feels that way today. Anti-Americanism is on the rise in much of the region. The attention of U.S. leaders and the media have shifted toward Iraq, Afghanistan, the broader Middle East and the war on terror. As we have devoted attention and energies to other regions, other, dangerous forces have moved into the breach. Hugo Chavez has used the cloak of electoral legitimacy to establish a one party dictatorship in Venezuela, breathed new oxygen into the decaying Castro regime in Cuba, allied with Iran and other American enemies, and supported populist, anti-American forces throughout the hemisphere. While the United States has been pre-occupied elsewhere, China has launched a diplomatic and economic offensive in the region, with uncertain intentions and outcomes. And there is a growing rejection among some Latin Amer icans of the free-market democracy th'"
      ]
     },
     "execution_count": 78,
     "metadata": {},
     "output_type": "execute_result"
    }
   ],
   "source": [
    "dfmo.loc[\"M0005\", 'doc'][0:2000]"
   ]
  },
  {
   "cell_type": "code",
   "execution_count": 79,
   "metadata": {},
   "outputs": [
    {
     "data": {
      "text/plain": [
       "count       251\n",
       "unique        2\n",
       "top       Obama\n",
       "freq        155\n",
       "Name: speaker, dtype: object"
      ]
     },
     "execution_count": 79,
     "metadata": {},
     "output_type": "execute_result"
    }
   ],
   "source": [
    "dfmo[\"speaker\"].describe()"
   ]
  },
  {
   "cell_type": "code",
   "execution_count": 80,
   "metadata": {},
   "outputs": [
    {
     "data": {
      "text/html": [
       "<div>\n",
       "<style scoped>\n",
       "    .dataframe tbody tr th:only-of-type {\n",
       "        vertical-align: middle;\n",
       "    }\n",
       "\n",
       "    .dataframe tbody tr th {\n",
       "        vertical-align: top;\n",
       "    }\n",
       "\n",
       "    .dataframe thead th {\n",
       "        text-align: right;\n",
       "    }\n",
       "</style>\n",
       "<table border=\"1\" class=\"dataframe\">\n",
       "  <thead>\n",
       "    <tr style=\"text-align: right;\">\n",
       "      <th></th>\n",
       "      <th>jahr</th>\n",
       "      <th>leng</th>\n",
       "      <th>datum</th>\n",
       "      <th>nwords</th>\n",
       "      <th>ntoks</th>\n",
       "      <th>nverbs</th>\n",
       "      <th>npast</th>\n",
       "      <th>npresent</th>\n",
       "      <th>nfuture</th>\n",
       "      <th>nfpast</th>\n",
       "      <th>...</th>\n",
       "      <th>nffuture</th>\n",
       "      <th>doc</th>\n",
       "      <th>antpast</th>\n",
       "      <th>antpresent</th>\n",
       "      <th>antfuture</th>\n",
       "      <th>antfpast</th>\n",
       "      <th>antfpresent</th>\n",
       "      <th>antffuture</th>\n",
       "      <th>ldeont</th>\n",
       "      <th>lmodal</th>\n",
       "    </tr>\n",
       "    <tr>\n",
       "      <th>speaker</th>\n",
       "      <th></th>\n",
       "      <th></th>\n",
       "      <th></th>\n",
       "      <th></th>\n",
       "      <th></th>\n",
       "      <th></th>\n",
       "      <th></th>\n",
       "      <th></th>\n",
       "      <th></th>\n",
       "      <th></th>\n",
       "      <th></th>\n",
       "      <th></th>\n",
       "      <th></th>\n",
       "      <th></th>\n",
       "      <th></th>\n",
       "      <th></th>\n",
       "      <th></th>\n",
       "      <th></th>\n",
       "      <th></th>\n",
       "      <th></th>\n",
       "      <th></th>\n",
       "    </tr>\n",
       "  </thead>\n",
       "  <tbody>\n",
       "    <tr>\n",
       "      <th>McCain</th>\n",
       "      <td>96</td>\n",
       "      <td>96</td>\n",
       "      <td>96</td>\n",
       "      <td>96</td>\n",
       "      <td>96</td>\n",
       "      <td>96</td>\n",
       "      <td>96</td>\n",
       "      <td>96</td>\n",
       "      <td>96</td>\n",
       "      <td>96</td>\n",
       "      <td>...</td>\n",
       "      <td>96</td>\n",
       "      <td>96</td>\n",
       "      <td>96</td>\n",
       "      <td>96</td>\n",
       "      <td>96</td>\n",
       "      <td>96</td>\n",
       "      <td>96</td>\n",
       "      <td>96</td>\n",
       "      <td>96</td>\n",
       "      <td>96</td>\n",
       "    </tr>\n",
       "    <tr>\n",
       "      <th>Obama</th>\n",
       "      <td>155</td>\n",
       "      <td>155</td>\n",
       "      <td>155</td>\n",
       "      <td>155</td>\n",
       "      <td>155</td>\n",
       "      <td>155</td>\n",
       "      <td>155</td>\n",
       "      <td>155</td>\n",
       "      <td>155</td>\n",
       "      <td>155</td>\n",
       "      <td>...</td>\n",
       "      <td>155</td>\n",
       "      <td>155</td>\n",
       "      <td>155</td>\n",
       "      <td>155</td>\n",
       "      <td>155</td>\n",
       "      <td>155</td>\n",
       "      <td>155</td>\n",
       "      <td>155</td>\n",
       "      <td>155</td>\n",
       "      <td>155</td>\n",
       "    </tr>\n",
       "  </tbody>\n",
       "</table>\n",
       "<p>2 rows × 21 columns</p>\n",
       "</div>"
      ],
      "text/plain": [
       "         jahr  leng  datum  nwords  ntoks  nverbs  npast  npresent  nfuture  \\\n",
       "speaker                                                                       \n",
       "McCain     96    96     96      96     96      96     96        96       96   \n",
       "Obama     155   155    155     155    155     155    155       155      155   \n",
       "\n",
       "         nfpast  ...  nffuture  doc  antpast  antpresent  antfuture  antfpast  \\\n",
       "speaker          ...                                                            \n",
       "McCain       96  ...        96   96       96          96         96        96   \n",
       "Obama       155  ...       155  155      155         155        155       155   \n",
       "\n",
       "         antfpresent  antffuture  ldeont  lmodal  \n",
       "speaker                                           \n",
       "McCain            96          96      96      96  \n",
       "Obama            155         155     155     155  \n",
       "\n",
       "[2 rows x 21 columns]"
      ]
     },
     "execution_count": 80,
     "metadata": {},
     "output_type": "execute_result"
    }
   ],
   "source": [
    "dfmo.groupby(\"speaker\").count()"
   ]
  },
  {
   "cell_type": "code",
   "execution_count": 81,
   "metadata": {},
   "outputs": [
    {
     "data": {
      "text/plain": [
       "count    251.000000\n",
       "mean       7.326693\n",
       "std        6.467522\n",
       "min        0.000000\n",
       "25%        3.000000\n",
       "50%        6.000000\n",
       "75%       10.000000\n",
       "max       48.000000\n",
       "Name: lmodal, dtype: float64"
      ]
     },
     "execution_count": 81,
     "metadata": {},
     "output_type": "execute_result"
    }
   ],
   "source": [
    "dfmo[\"lmodal\"].describe()"
   ]
  },
  {
   "cell_type": "code",
   "execution_count": 82,
   "metadata": {},
   "outputs": [
    {
     "data": {
      "text/html": [
       "<div>\n",
       "<style scoped>\n",
       "    .dataframe tbody tr th:only-of-type {\n",
       "        vertical-align: middle;\n",
       "    }\n",
       "\n",
       "    .dataframe tbody tr th {\n",
       "        vertical-align: top;\n",
       "    }\n",
       "\n",
       "    .dataframe thead th {\n",
       "        text-align: right;\n",
       "    }\n",
       "</style>\n",
       "<table border=\"1\" class=\"dataframe\">\n",
       "  <thead>\n",
       "    <tr style=\"text-align: right;\">\n",
       "      <th></th>\n",
       "      <th>jahr</th>\n",
       "      <th>leng</th>\n",
       "      <th>nwords</th>\n",
       "      <th>ntoks</th>\n",
       "      <th>nverbs</th>\n",
       "      <th>npast</th>\n",
       "      <th>npresent</th>\n",
       "      <th>nfuture</th>\n",
       "      <th>nfpast</th>\n",
       "      <th>nfpresent</th>\n",
       "      <th>nffuture</th>\n",
       "      <th>antpast</th>\n",
       "      <th>antpresent</th>\n",
       "      <th>antfuture</th>\n",
       "      <th>antfpast</th>\n",
       "      <th>antfpresent</th>\n",
       "      <th>antffuture</th>\n",
       "      <th>ldeont</th>\n",
       "      <th>lmodal</th>\n",
       "    </tr>\n",
       "    <tr>\n",
       "      <th>speaker</th>\n",
       "      <th></th>\n",
       "      <th></th>\n",
       "      <th></th>\n",
       "      <th></th>\n",
       "      <th></th>\n",
       "      <th></th>\n",
       "      <th></th>\n",
       "      <th></th>\n",
       "      <th></th>\n",
       "      <th></th>\n",
       "      <th></th>\n",
       "      <th></th>\n",
       "      <th></th>\n",
       "      <th></th>\n",
       "      <th></th>\n",
       "      <th></th>\n",
       "      <th></th>\n",
       "      <th></th>\n",
       "      <th></th>\n",
       "    </tr>\n",
       "  </thead>\n",
       "  <tbody>\n",
       "    <tr>\n",
       "      <th>McCain</th>\n",
       "      <td>0.0</td>\n",
       "      <td>12600.781250</td>\n",
       "      <td>2215.093750</td>\n",
       "      <td>368.416667</td>\n",
       "      <td>379.791667</td>\n",
       "      <td>43.635417</td>\n",
       "      <td>133.31250</td>\n",
       "      <td>21.645833</td>\n",
       "      <td>53.562500</td>\n",
       "      <td>174.739583</td>\n",
       "      <td>35.208333</td>\n",
       "      <td>0.209524</td>\n",
       "      <td>0.677362</td>\n",
       "      <td>0.113114</td>\n",
       "      <td>0.199057</td>\n",
       "      <td>0.665530</td>\n",
       "      <td>0.135413</td>\n",
       "      <td>0.0</td>\n",
       "      <td>7.947917</td>\n",
       "    </tr>\n",
       "    <tr>\n",
       "      <th>Obama</th>\n",
       "      <td>0.0</td>\n",
       "      <td>15236.522581</td>\n",
       "      <td>2807.477419</td>\n",
       "      <td>465.916129</td>\n",
       "      <td>518.703226</td>\n",
       "      <td>60.761290</td>\n",
       "      <td>191.43871</td>\n",
       "      <td>29.451613</td>\n",
       "      <td>74.154839</td>\n",
       "      <td>244.929032</td>\n",
       "      <td>42.548387</td>\n",
       "      <td>0.216861</td>\n",
       "      <td>0.681271</td>\n",
       "      <td>0.101868</td>\n",
       "      <td>0.207882</td>\n",
       "      <td>0.678454</td>\n",
       "      <td>0.113664</td>\n",
       "      <td>0.0</td>\n",
       "      <td>6.941935</td>\n",
       "    </tr>\n",
       "  </tbody>\n",
       "</table>\n",
       "</div>"
      ],
      "text/plain": [
       "         jahr          leng       nwords       ntoks      nverbs      npast  \\\n",
       "speaker                                                                       \n",
       "McCain    0.0  12600.781250  2215.093750  368.416667  379.791667  43.635417   \n",
       "Obama     0.0  15236.522581  2807.477419  465.916129  518.703226  60.761290   \n",
       "\n",
       "          npresent    nfuture     nfpast   nfpresent   nffuture   antpast  \\\n",
       "speaker                                                                     \n",
       "McCain   133.31250  21.645833  53.562500  174.739583  35.208333  0.209524   \n",
       "Obama    191.43871  29.451613  74.154839  244.929032  42.548387  0.216861   \n",
       "\n",
       "         antpresent  antfuture  antfpast  antfpresent  antffuture  ldeont  \\\n",
       "speaker                                                                     \n",
       "McCain     0.677362   0.113114  0.199057     0.665530    0.135413     0.0   \n",
       "Obama      0.681271   0.101868  0.207882     0.678454    0.113664     0.0   \n",
       "\n",
       "           lmodal  \n",
       "speaker            \n",
       "McCain   7.947917  \n",
       "Obama    6.941935  "
      ]
     },
     "execution_count": 82,
     "metadata": {},
     "output_type": "execute_result"
    }
   ],
   "source": [
    "dfmo.groupby(\"speaker\").mean()"
   ]
  },
  {
   "cell_type": "code",
   "execution_count": 83,
   "metadata": {},
   "outputs": [
    {
     "data": {
      "text/plain": [
       "speaker\n",
       "McCain    7.947917\n",
       "Obama     6.941935\n",
       "Name: lmodal, dtype: float64"
      ]
     },
     "execution_count": 83,
     "metadata": {},
     "output_type": "execute_result"
    }
   ],
   "source": [
    "dfmo['lmodal'].groupby(dfmo[\"speaker\"]).mean()"
   ]
  },
  {
   "cell_type": "code",
   "execution_count": 84,
   "metadata": {},
   "outputs": [],
   "source": [
    "dfmo['modal_ratio'] = dfmo['lmodal'] / dfmo['nverbs']"
   ]
  },
  {
   "cell_type": "code",
   "execution_count": 85,
   "metadata": {},
   "outputs": [
    {
     "data": {
      "text/plain": [
       "count    251.000000\n",
       "mean       0.015547\n",
       "std        0.011991\n",
       "min        0.000000\n",
       "25%        0.007424\n",
       "50%        0.012500\n",
       "75%        0.021098\n",
       "max        0.065574\n",
       "Name: modal_ratio, dtype: float64"
      ]
     },
     "execution_count": 85,
     "metadata": {},
     "output_type": "execute_result"
    }
   ],
   "source": [
    "dfmo['modal_ratio'].describe()"
   ]
  },
  {
   "cell_type": "code",
   "execution_count": 86,
   "metadata": {},
   "outputs": [],
   "source": [
    "dfmo_McCain = dfmo[ dfmo[\"speaker\"] == 'McCain' ]"
   ]
  },
  {
   "cell_type": "code",
   "execution_count": 87,
   "metadata": {},
   "outputs": [],
   "source": [
    "dfmo_Obama = dfmo[ dfmo[\"speaker\"] == 'Obama' ]"
   ]
  },
  {
   "cell_type": "code",
   "execution_count": 88,
   "metadata": {},
   "outputs": [
    {
     "data": {
      "text/plain": [
       "(155, 96)"
      ]
     },
     "execution_count": 88,
     "metadata": {},
     "output_type": "execute_result"
    }
   ],
   "source": [
    "len(dfmo_Obama), len(dfmo_McCain)"
   ]
  },
  {
   "cell_type": "code",
   "execution_count": 89,
   "metadata": {
    "scrolled": true
   },
   "outputs": [
    {
     "data": {
      "image/png": "[encoded data removed]",
      "text/plain": [
       "<Figure size 432x288 with 1 Axes>"
      ]
     },
     "metadata": {
      "needs_background": "light"
     },
     "output_type": "display_data"
    }
   ],
   "source": [
    "plt.hist(dfmo_McCain['modal_ratio'], bins = 40, alpha = 0.5, label = \"McCain\",  range = (0,0.07), color = 'g', density = 1)\n",
    "plt.hist(dfmo_Obama['modal_ratio'], bins = 40, alpha = 0.5, label = \"Obama\",  range = (0,0.07), color = 'r', density = 1)\n",
    "plt.title('fractions of verbs that are modal')\n",
    "plt.legend(loc='best')\n",
    "plt.show()"
   ]
  },
  {
   "cell_type": "code",
   "execution_count": 90,
   "metadata": {},
   "outputs": [],
   "source": [
    "from scipy.stats import ttest_ind, chisquare"
   ]
  },
  {
   "cell_type": "markdown",
   "metadata": {
    "collapsed": true
   },
   "source": [
    "##### excerpt from scipy.stats.ttest_ind :\n",
    "\n",
    "We can use this test, if we observe two independent samples from the same or different population .... \n",
    "The test measures wther the average (expected) value differs significantly across samples. \n",
    "If we observe a large p-value, for example larger than 0.05 or 0.1, then we cannot reject the null hypothesis of \n",
    "identical average. If the p-value is smaller than the threshold, e.g. 1% , r% or 10%, then we reject the null \n",
    "hypothesis of equal averages. The two samples does not need to have the same length.\n",
    "\n",
    "##### excerpt from scipy.chisquare1:\n",
    "Tests the null hypothesis that the categorical data has the given frequencies. (f_obs, f_exp, ddof = 0, axis = 0)\n",
    "The p-value is computed using a chi-squared distribution with k - 1- ddof degrees of freedom, where k = the number of observed frequencies."
   ]
  },
  {
   "cell_type": "code",
   "execution_count": 112,
   "metadata": {},
   "outputs": [
    {
     "data": {
      "text/plain": [
       "Ttest_indResult(statistic=-57.09492905140832, pvalue=1.2021268647135612e-218)"
      ]
     },
     "execution_count": 112,
     "metadata": {},
     "output_type": "execute_result"
    }
   ],
   "source": [
    "# past tense   vs   present tense    all speakers\n",
    "ttest_ind(dfmo['antpast'], dfmo['antpresent'], equal_var=False, nan_policy='omit')\n",
    "# results show strongly significant difference between past tense usage and present tense usage"
   ]
  },
  {
   "cell_type": "code",
   "execution_count": 113,
   "metadata": {},
   "outputs": [
    {
     "data": {
      "text/plain": [
       "Ttest_indResult(statistic=90.73799544999683, pvalue=1.6028586258298012e-279)"
      ]
     },
     "execution_count": 113,
     "metadata": {},
     "output_type": "execute_result"
    }
   ],
   "source": [
    "# present tense   vs   future tense    all speakers\n",
    "ttest_ind(dfmo['antpresent'], dfmo['antfuture'], equal_var=False, nan_policy='omit')\n",
    "# results show strongly significant difference between present tense usage and future tense usage"
   ]
  },
  {
   "cell_type": "code",
   "execution_count": null,
   "metadata": {},
   "outputs": [],
   "source": []
  },
  {
   "cell_type": "code",
   "execution_count": 120,
   "metadata": {},
   "outputs": [
    {
     "data": {
      "text/plain": [
       "Ttest_indResult(statistic=1.2045528280701834, pvalue=0.22897120869447626)"
      ]
     },
     "execution_count": 120,
     "metadata": {},
     "output_type": "execute_result"
    }
   ],
   "source": [
    "# POS tagging vs LIWC   past     both speakers\n",
    "ttest_ind(dfmo['antpast'], dfmo['antfpast'], equal_var=False, nan_policy='omit')\n",
    "# result indicates equal means found by POS tagging and LIWC"
   ]
  },
  {
   "cell_type": "code",
   "execution_count": 121,
   "metadata": {},
   "outputs": [
    {
     "data": {
      "text/plain": [
       "Ttest_indResult(statistic=0.9134598376970914, pvalue=0.36146064662445687)"
      ]
     },
     "execution_count": 121,
     "metadata": {},
     "output_type": "execute_result"
    }
   ],
   "source": [
    "# POS tagging vs LIWC   present     both speakers\n",
    "ttest_ind(dfmo['antpresent'], dfmo['antfpresent'], equal_var=False, nan_policy='omit')\n",
    "# result indicates equal means found by POS tagging and LIWC"
   ]
  },
  {
   "cell_type": "code",
   "execution_count": 122,
   "metadata": {},
   "outputs": [
    {
     "data": {
      "text/plain": [
       "Ttest_indResult(statistic=-3.5484293598562964, pvalue=0.0004249840569410666)"
      ]
     },
     "execution_count": 122,
     "metadata": {},
     "output_type": "execute_result"
    }
   ],
   "source": [
    "# POS tagging vs LIWC   future    both speakers\n",
    "ttest_ind(dfmo['antfuture'], dfmo['antffuture'], equal_var=False, nan_policy='omit')\n",
    "# result indicates equal means found by POS tagging and LIWC"
   ]
  },
  {
   "cell_type": "code",
   "execution_count": null,
   "metadata": {},
   "outputs": [],
   "source": []
  },
  {
   "cell_type": "code",
   "execution_count": null,
   "metadata": {},
   "outputs": [],
   "source": []
  },
  {
   "cell_type": "code",
   "execution_count": null,
   "metadata": {},
   "outputs": [],
   "source": []
  },
  {
   "cell_type": "code",
   "execution_count": 91,
   "metadata": {},
   "outputs": [
    {
     "data": {
      "text/plain": [
       "Ttest_indResult(statistic=-4.56032283856477, pvalue=1.0999375088641693e-05)"
      ]
     },
     "execution_count": 91,
     "metadata": {},
     "output_type": "execute_result"
    }
   ],
   "source": [
    "# Obama vs McCain  usage of modal (would , could, might)\n",
    "ttest_ind(dfmo_Obama['modal_ratio'], dfmo_McCain['modal_ratio'], equal_var = False, nan_policy='omit')\n",
    "# test statistics and p value indicate than the mean modal_ratio is significantly different in McCain's political speeches\n",
    "# vs Obama's speeches"
   ]
  },
  {
   "cell_type": "code",
   "execution_count": 92,
   "metadata": {},
   "outputs": [
    {
     "data": {
      "text/plain": [
       "Ttest_indResult(statistic=0.5124305273839909, pvalue=0.6091905680757264)"
      ]
     },
     "execution_count": 92,
     "metadata": {},
     "output_type": "execute_result"
    }
   ],
   "source": [
    "# past tense   Obama vs McCain\n",
    "ttest_ind(dfmo_Obama['antpast'], dfmo_McCain['antpast'], equal_var=False, nan_policy='omit')"
   ]
  },
  {
   "cell_type": "code",
   "execution_count": 93,
   "metadata": {},
   "outputs": [
    {
     "data": {
      "text/plain": [
       "Ttest_indResult(statistic=0.31705187375818283, pvalue=0.7516874694842609)"
      ]
     },
     "execution_count": 93,
     "metadata": {},
     "output_type": "execute_result"
    }
   ],
   "source": [
    "# present tense   Obama vs McCain\n",
    "ttest_ind(dfmo_Obama['antpresent'], dfmo_McCain['antpresent'], equal_var=False, nan_policy='omit')"
   ]
  },
  {
   "cell_type": "code",
   "execution_count": 94,
   "metadata": {},
   "outputs": [
    {
     "data": {
      "text/plain": [
       "Ttest_indResult(statistic=-1.50044661478685, pvalue=0.13552777192035292)"
      ]
     },
     "execution_count": 94,
     "metadata": {},
     "output_type": "execute_result"
    }
   ],
   "source": [
    "# future tense   Obama vs McCain\n",
    "ttest_ind(dfmo_Obama['antfuture'], dfmo_McCain['antfuture'], equal_var=False, nan_policy='omit')"
   ]
  },
  {
   "cell_type": "code",
   "execution_count": null,
   "metadata": {},
   "outputs": [],
   "source": []
  },
  {
   "cell_type": "code",
   "execution_count": 124,
   "metadata": {},
   "outputs": [],
   "source": [
    "spas = dfmo[ 'npast'].sum()\n",
    "sprs = dfmo[ 'npresent'].sum()\n",
    "sfus = dfmo[ 'nfuture'].sum()\n",
    "\n",
    "sAvepast, sAvepresent, sAvefuture = [spas, sprs, sfus]/(spas + sprs + sfus)\n",
    "\n",
    "lpas = dfmo[ 'nfpast'].sum()\n",
    "lprs = dfmo[ 'nfpresent'].sum()\n",
    "lfus = dfmo[ 'nffuture'].sum()\n",
    "\n",
    "lAvepast, lAvepresent, lAvefuture = [lpas, lprs, lfus]/(lpas + lprs + lfus)"
   ]
  },
  {
   "cell_type": "code",
   "execution_count": 125,
   "metadata": {},
   "outputs": [
    {
     "name": "stdout",
     "output_type": "stream",
     "text": [
      "political speeches, both speakers POS  0.2169448828940865 0.6771416272061989 0.10591348989971461\n"
     ]
    }
   ],
   "source": [
    "print(\"political speeches, both speakers POS \", sAvepast, sAvepresent, sAvefuture)"
   ]
  },
  {
   "cell_type": "code",
   "execution_count": 126,
   "metadata": {},
   "outputs": [
    {
     "data": {
      "text/plain": [
       "Power_divergenceResult(statistic=57.72905525846703, pvalue=2.9126944473126836e-13)"
      ]
     },
     "execution_count": 126,
     "metadata": {},
     "output_type": "execute_result"
    }
   ],
   "source": [
    "chisquare([22, 68, 10], [33, 33, 34])\n",
    "# test result indicates POS past/present/future tenses distribution not random"
   ]
  },
  {
   "cell_type": "code",
   "execution_count": 128,
   "metadata": {},
   "outputs": [
    {
     "name": "stdout",
     "output_type": "stream",
     "text": [
      "political speeches, both speakers LIWC  0.20449907805777504 0.6728826060233559 0.12261831591886908\n"
     ]
    }
   ],
   "source": [
    "print(\"political speeches, both speakers LIWC \", lAvepast, lAvepresent, lAvefuture)"
   ]
  },
  {
   "cell_type": "code",
   "execution_count": 129,
   "metadata": {},
   "outputs": [
    {
     "data": {
      "text/plain": [
       "Power_divergenceResult(statistic=53.12210338680927, pvalue=2.9152903563929526e-12)"
      ]
     },
     "execution_count": 129,
     "metadata": {},
     "output_type": "execute_result"
    }
   ],
   "source": [
    "chisquare([20, 67, 13], [33, 33, 34])\n",
    "# test result indicates LIWC past/present/future focus distribution not random"
   ]
  },
  {
   "cell_type": "code",
   "execution_count": null,
   "metadata": {},
   "outputs": [],
   "source": []
  },
  {
   "cell_type": "code",
   "execution_count": null,
   "metadata": {},
   "outputs": [],
   "source": []
  },
  {
   "cell_type": "code",
   "execution_count": 117,
   "metadata": {},
   "outputs": [],
   "source": [
    "opas = dfmo.loc[ dfmo['speaker'] == 'Obama', 'npast'].sum()\n",
    "oprs = dfmo.loc[ dfmo['speaker'] == 'Obama', 'npresent'].sum()\n",
    "ofus = dfmo.loc[ dfmo['speaker'] == 'Obama', 'nfuture'].sum()\n",
    "\n",
    "oAvepast, oAvepresent, oAvefuture = [opas, oprs, ofus]/(opas + oprs + ofus)\n",
    "\n",
    "mpas = dfmo.loc[ dfmo['speaker'] == 'McCain', 'npast'].sum()\n",
    "mprs = dfmo.loc[ dfmo['speaker'] == 'McCain', 'npresent'].sum()\n",
    "mfus = dfmo.loc[ dfmo['speaker'] == 'McCain', 'nfuture'].sum()\n",
    "\n",
    "mAvepast, mAvepresent, mAvefuture = [mpas, mprs, mfus]/(mpas + mprs + mfus)"
   ]
  },
  {
   "cell_type": "code",
   "execution_count": 118,
   "metadata": {},
   "outputs": [
    {
     "name": "stdout",
     "output_type": "stream",
     "text": [
      "POS tagging\n",
      "McCain: 0.21972200367164962 0.6712824547600315 0.10899554156831891 \n",
      "Obama: 0.21573208722741433 0.6797003848268279 0.10456752794575774\n"
     ]
    }
   ],
   "source": [
    "print(\"POS tagging\\nMcCain:\", mAvepast, mAvepresent, mAvefuture, \"\\nObama:\", oAvepast, oAvepresent, oAvefuture)"
   ]
  },
  {
   "cell_type": "code",
   "execution_count": 130,
   "metadata": {},
   "outputs": [
    {
     "data": {
      "image/png": "[encoded data removed]",
      "text/plain": [
       "<Figure size 432x288 with 1 Axes>"
      ]
     },
     "metadata": {
      "needs_background": "light"
     },
     "output_type": "display_data"
    }
   ],
   "source": [
    "modtplot = pd.DataFrame({'Ave1past':[mAvepast, oAvepast], 'Ave2present': [mAvepresent, oAvepresent], 'Ave3future':[mAvefuture, oAvefuture]}, index = ['McCain', 'Obama'])\n",
    "modtplot.plot.bar(rot = 0, sort_columns=False)\n",
    "plt.show()"
   ]
  },
  {
   "cell_type": "code",
   "execution_count": null,
   "metadata": {},
   "outputs": [],
   "source": []
  },
  {
   "cell_type": "code",
   "execution_count": null,
   "metadata": {},
   "outputs": [],
   "source": []
  },
  {
   "cell_type": "code",
   "execution_count": null,
   "metadata": {},
   "outputs": [],
   "source": []
  },
  {
   "cell_type": "code",
   "execution_count": 119,
   "metadata": {},
   "outputs": [
    {
     "data": {
      "text/plain": [
       "Power_divergenceResult(statistic=54.255793226381456, pvalue=1.6538807610477217e-12)"
      ]
     },
     "execution_count": 119,
     "metadata": {},
     "output_type": "execute_result"
    }
   ],
   "source": [
    "# McCain, POS tagging, i.e. antpast, antpresent, antfuture,  chisquare : observed vs expected\n",
    "chisquare([22, 67, 11], [33, 33, 34])\n",
    "# the p-value indicates that the observed distribution is not uniform, i.e. McCain uses past present and future tenses \\\n",
    "# deliberately, not equally likely   .... 1 - scipy.stats.chi2.cdf(57.0436, 2 ) = 4.1033e-13 = chisqprob (57.0436, 2) (old version of python)"
   ]
  },
  {
   "cell_type": "code",
   "execution_count": 108,
   "metadata": {},
   "outputs": [
    {
     "data": {
      "text/plain": [
       "Power_divergenceResult(statistic=57.72905525846703, pvalue=2.9126944473126836e-13)"
      ]
     },
     "execution_count": 108,
     "metadata": {},
     "output_type": "execute_result"
    }
   ],
   "source": [
    "# Obama, POS tagging, i.e. antpast, antpresent, antfuture,  chisquare : observed vs expected\n",
    "chisquare([22, 68, 10], [33, 33, 34])\n",
    "# the p-value indicates that the observed distribution is not uniform, i.e. Obama uses past present and future tenses\n",
    "# deliberately, not equally likely"
   ]
  },
  {
   "cell_type": "code",
   "execution_count": 114,
   "metadata": {},
   "outputs": [],
   "source": [
    "ofpas = dfmo.loc[ dfmo['speaker'] == 'Obama', 'nfpast'].sum()\n",
    "ofprs = dfmo.loc[ dfmo['speaker'] == 'Obama', 'nfpresent'].sum()\n",
    "offus = dfmo.loc[ dfmo['speaker'] == 'Obama', 'nffuture'].sum()\n",
    "oAvefpast, oAvefpresent, oAveffuture = [ofpas, ofprs, offus] / (ofpas + ofprs + offus)\n",
    "\n",
    "mfpas = dfmo.loc[ dfmo['speaker'] == 'McCain', 'nfpast'].sum()\n",
    "mfprs = dfmo.loc[ dfmo['speaker'] == 'McCain', 'nfpresent'].sum()\n",
    "mffus = dfmo.loc[ dfmo['speaker'] == 'McCain', 'nffuture'].sum()\n",
    "mAvefpast, mAvefpresent, mAveffuture = [mfpas, mfprs, mffus] / (mfpas + mfprs + mffus)"
   ]
  },
  {
   "cell_type": "code",
   "execution_count": 115,
   "metadata": {},
   "outputs": [
    {
     "name": "stdout",
     "output_type": "stream",
     "text": [
      "LIWC\n",
      "McCain: 0.20326520931335731 0.6631221093410286 0.1336126813456141 \n",
      "Obama: 0.20505592920985496 0.677287567123972 0.11765650366617308\n"
     ]
    }
   ],
   "source": [
    "print(\"LIWC\\nMcCain:\", mAvefpast, mAvefpresent, mAveffuture, \"\\nObama:\", oAvefpast, oAvefpresent, oAveffuture)"
   ]
  },
  {
   "cell_type": "code",
   "execution_count": 116,
   "metadata": {},
   "outputs": [
    {
     "data": {
      "text/plain": [
       "Power_divergenceResult(statistic=49.88591800356507, pvalue=1.4703155257890662e-11)"
      ]
     },
     "execution_count": 116,
     "metadata": {},
     "output_type": "execute_result"
    }
   ],
   "source": [
    "# McCain, LIWC, i.e. antfpast,antfpresent, antffuture,  chisquare : observed vs expected\n",
    "chisquare([20, 66, 14], [33, 33, 34])\n",
    "# the p-value indicates that the observed distribution is not uniform, i.e. McCain uses past present and future focus\n",
    "# deliberately, not equally likely"
   ]
  },
  {
   "cell_type": "code",
   "execution_count": null,
   "metadata": {},
   "outputs": [],
   "source": [
    "# see 2 more plots in doposp.ipynb"
   ]
  }
 ],
 "metadata": {
  "kernelspec": {
   "display_name": "Python 3",
   "language": "python",
   "name": "python3"
  },
  "language_info": {
   "codemirror_mode": {
    "name": "ipython",
    "version": 3
   },
   "file_extension": ".py",
   "mimetype": "text/x-python",
   "name": "python",
   "nbconvert_exporter": "python",
   "pygments_lexer": "ipython3",
   "version": "3.5.5"
  }
 },
 "nbformat": 4,
 "nbformat_minor": 1
}
