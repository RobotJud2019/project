{
 "cells": [
  {
   "cell_type": "code",
   "execution_count": 1,
   "metadata": {},
   "outputs": [],
   "source": [
    "import pickle"
   ]
  },
  {
   "cell_type": "code",
   "execution_count": 2,
   "metadata": {},
   "outputs": [],
   "source": [
    "import numpy as np\n",
    "import pandas as pd\n",
    "import matplotlib.pyplot as plt"
   ]
  },
  {
   "cell_type": "code",
   "execution_count": 3,
   "metadata": {},
   "outputs": [],
   "source": [
    "from scipy.stats import ttest_ind    # ttest_ind tests the equality of means\n",
    "from scipy.stats import chisquare    # chisquare tests the independence of 2 distributions"
   ]
  },
  {
   "cell_type": "markdown",
   "metadata": {},
   "source": [
    "### analysis of the cases corpus"
   ]
  },
  {
   "cell_type": "code",
   "execution_count": 4,
   "metadata": {},
   "outputs": [],
   "source": [
    "df = pickle.load(open(\"/home/xhta/Robot/proj/pj_df_full.20190629_095112.pkl\", \"rb\"))"
   ]
  },
  {
   "cell_type": "code",
   "execution_count": 5,
   "metadata": {},
   "outputs": [
    {
     "data": {
      "text/plain": [
       "5762"
      ]
     },
     "execution_count": 5,
     "metadata": {},
     "output_type": "execute_result"
    }
   ],
   "source": [
    "len(df)"
   ]
  },
  {
   "cell_type": "code",
   "execution_count": 6,
   "metadata": {},
   "outputs": [
    {
     "data": {
      "text/html": [
       "<div>\n",
       "<style scoped>\n",
       "    .dataframe tbody tr th:only-of-type {\n",
       "        vertical-align: middle;\n",
       "    }\n",
       "\n",
       "    .dataframe tbody tr th {\n",
       "        vertical-align: top;\n",
       "    }\n",
       "\n",
       "    .dataframe thead th {\n",
       "        text-align: right;\n",
       "    }\n",
       "</style>\n",
       "<table border=\"1\" class=\"dataframe\">\n",
       "  <thead>\n",
       "    <tr style=\"text-align: right;\">\n",
       "      <th></th>\n",
       "      <th>case_reversed</th>\n",
       "      <th>judge_id</th>\n",
       "      <th>year</th>\n",
       "      <th>log_cites</th>\n",
       "      <th>LastName</th>\n",
       "      <th>FirstName</th>\n",
       "      <th>Gender</th>\n",
       "      <th>Pres</th>\n",
       "      <th>Party</th>\n",
       "      <th>nlets</th>\n",
       "      <th>...</th>\n",
       "      <th>antpresent</th>\n",
       "      <th>antfuture</th>\n",
       "      <th>nfpast</th>\n",
       "      <th>nfpresent</th>\n",
       "      <th>nffuture</th>\n",
       "      <th>antfpast</th>\n",
       "      <th>antfpresent</th>\n",
       "      <th>antffuture</th>\n",
       "      <th>ldeont</th>\n",
       "      <th>lmodal</th>\n",
       "    </tr>\n",
       "    <tr>\n",
       "      <th>caseid</th>\n",
       "      <th></th>\n",
       "      <th></th>\n",
       "      <th></th>\n",
       "      <th></th>\n",
       "      <th></th>\n",
       "      <th></th>\n",
       "      <th></th>\n",
       "      <th></th>\n",
       "      <th></th>\n",
       "      <th></th>\n",
       "      <th></th>\n",
       "      <th></th>\n",
       "      <th></th>\n",
       "      <th></th>\n",
       "      <th></th>\n",
       "      <th></th>\n",
       "      <th></th>\n",
       "      <th></th>\n",
       "      <th></th>\n",
       "      <th></th>\n",
       "      <th></th>\n",
       "    </tr>\n",
       "  </thead>\n",
       "  <tbody>\n",
       "    <tr>\n",
       "      <th>X3JGGO</th>\n",
       "      <td>0</td>\n",
       "      <td>1653</td>\n",
       "      <td>1925</td>\n",
       "      <td>1.098612</td>\n",
       "      <td>Miller</td>\n",
       "      <td>Wilbur</td>\n",
       "      <td>1</td>\n",
       "      <td>Harry S Truman</td>\n",
       "      <td>Democratic</td>\n",
       "      <td>46558.0</td>\n",
       "      <td>...</td>\n",
       "      <td>0.363874</td>\n",
       "      <td>0.172775</td>\n",
       "      <td>280.0</td>\n",
       "      <td>308.0</td>\n",
       "      <td>101.0</td>\n",
       "      <td>0.406386</td>\n",
       "      <td>0.447025</td>\n",
       "      <td>0.146589</td>\n",
       "      <td>18.0</td>\n",
       "      <td>7.0</td>\n",
       "    </tr>\n",
       "    <tr>\n",
       "      <th>X3OH3J</th>\n",
       "      <td>0</td>\n",
       "      <td>1034</td>\n",
       "      <td>1924</td>\n",
       "      <td>1.609438</td>\n",
       "      <td>Hickenlooper</td>\n",
       "      <td>Smith</td>\n",
       "      <td>1</td>\n",
       "      <td>Warren G. Harding</td>\n",
       "      <td>Republican</td>\n",
       "      <td>16689.0</td>\n",
       "      <td>...</td>\n",
       "      <td>0.335025</td>\n",
       "      <td>0.005076</td>\n",
       "      <td>123.0</td>\n",
       "      <td>94.0</td>\n",
       "      <td>12.0</td>\n",
       "      <td>0.537118</td>\n",
       "      <td>0.410480</td>\n",
       "      <td>0.052402</td>\n",
       "      <td>0.0</td>\n",
       "      <td>8.0</td>\n",
       "    </tr>\n",
       "    <tr>\n",
       "      <th>X3U0KO</th>\n",
       "      <td>0</td>\n",
       "      <td>2303</td>\n",
       "      <td>1925</td>\n",
       "      <td>1.791759</td>\n",
       "      <td>Story</td>\n",
       "      <td>William</td>\n",
       "      <td>1</td>\n",
       "      <td>Ulysses Grant</td>\n",
       "      <td>Republican</td>\n",
       "      <td>5044.0</td>\n",
       "      <td>...</td>\n",
       "      <td>0.527273</td>\n",
       "      <td>0.036364</td>\n",
       "      <td>31.0</td>\n",
       "      <td>39.0</td>\n",
       "      <td>8.0</td>\n",
       "      <td>0.397436</td>\n",
       "      <td>0.500000</td>\n",
       "      <td>0.102564</td>\n",
       "      <td>0.0</td>\n",
       "      <td>3.0</td>\n",
       "    </tr>\n",
       "    <tr>\n",
       "      <th>X53HAD</th>\n",
       "      <td>0</td>\n",
       "      <td>1764</td>\n",
       "      <td>1924</td>\n",
       "      <td>0.000000</td>\n",
       "      <td>Nielsen</td>\n",
       "      <td>Leland</td>\n",
       "      <td>1</td>\n",
       "      <td>Richard M. Nixon</td>\n",
       "      <td>Republican</td>\n",
       "      <td>32994.0</td>\n",
       "      <td>...</td>\n",
       "      <td>0.524927</td>\n",
       "      <td>0.052786</td>\n",
       "      <td>152.0</td>\n",
       "      <td>331.0</td>\n",
       "      <td>49.0</td>\n",
       "      <td>0.285714</td>\n",
       "      <td>0.622180</td>\n",
       "      <td>0.092105</td>\n",
       "      <td>9.0</td>\n",
       "      <td>8.0</td>\n",
       "    </tr>\n",
       "    <tr>\n",
       "      <th>X9VC5V</th>\n",
       "      <td>0</td>\n",
       "      <td>493</td>\n",
       "      <td>1925</td>\n",
       "      <td>0.000000</td>\n",
       "      <td>Connally</td>\n",
       "      <td>Ben</td>\n",
       "      <td>1</td>\n",
       "      <td>Harry S Truman</td>\n",
       "      <td>Democratic</td>\n",
       "      <td>1276.0</td>\n",
       "      <td>...</td>\n",
       "      <td>0.181818</td>\n",
       "      <td>0.000000</td>\n",
       "      <td>15.0</td>\n",
       "      <td>7.0</td>\n",
       "      <td>0.0</td>\n",
       "      <td>0.681818</td>\n",
       "      <td>0.318182</td>\n",
       "      <td>0.000000</td>\n",
       "      <td>0.0</td>\n",
       "      <td>1.0</td>\n",
       "    </tr>\n",
       "  </tbody>\n",
       "</table>\n",
       "<p>5 rows × 29 columns</p>\n",
       "</div>"
      ],
      "text/plain": [
       "        case_reversed  judge_id  year  log_cites      LastName FirstName  \\\n",
       "caseid                                                                     \n",
       "X3JGGO              0      1653  1925   1.098612        Miller    Wilbur   \n",
       "X3OH3J              0      1034  1924   1.609438  Hickenlooper     Smith   \n",
       "X3U0KO              0      2303  1925   1.791759         Story   William   \n",
       "X53HAD              0      1764  1924   0.000000       Nielsen    Leland   \n",
       "X9VC5V              0       493  1925   0.000000      Connally       Ben   \n",
       "\n",
       "        Gender               Pres       Party    nlets  ...  antpresent  \\\n",
       "caseid                                                  ...               \n",
       "X3JGGO       1     Harry S Truman  Democratic  46558.0  ...    0.363874   \n",
       "X3OH3J       1  Warren G. Harding  Republican  16689.0  ...    0.335025   \n",
       "X3U0KO       1      Ulysses Grant  Republican   5044.0  ...    0.527273   \n",
       "X53HAD       1   Richard M. Nixon  Republican  32994.0  ...    0.524927   \n",
       "X9VC5V       1     Harry S Truman  Democratic   1276.0  ...    0.181818   \n",
       "\n",
       "        antfuture nfpast  nfpresent  nffuture  antfpast  antfpresent  \\\n",
       "caseid                                                                 \n",
       "X3JGGO   0.172775  280.0      308.0     101.0  0.406386     0.447025   \n",
       "X3OH3J   0.005076  123.0       94.0      12.0  0.537118     0.410480   \n",
       "X3U0KO   0.036364   31.0       39.0       8.0  0.397436     0.500000   \n",
       "X53HAD   0.052786  152.0      331.0      49.0  0.285714     0.622180   \n",
       "X9VC5V   0.000000   15.0        7.0       0.0  0.681818     0.318182   \n",
       "\n",
       "        antffuture  ldeont  lmodal  \n",
       "caseid                              \n",
       "X3JGGO    0.146589    18.0     7.0  \n",
       "X3OH3J    0.052402     0.0     8.0  \n",
       "X3U0KO    0.102564     0.0     3.0  \n",
       "X53HAD    0.092105     9.0     8.0  \n",
       "X9VC5V    0.000000     0.0     1.0  \n",
       "\n",
       "[5 rows x 29 columns]"
      ]
     },
     "execution_count": 6,
     "metadata": {},
     "output_type": "execute_result"
    }
   ],
   "source": [
    "df.head()"
   ]
  },
  {
   "cell_type": "code",
   "execution_count": 7,
   "metadata": {},
   "outputs": [
    {
     "data": {
      "text/plain": [
       "Index(['case_reversed', 'judge_id', 'year', 'log_cites', 'LastName',\n",
       "       'FirstName', 'Gender', 'Pres', 'Party', 'nlets', 'nsents', 'nwords',\n",
       "       'doc', 'ntoks', 'nverbs', 'npast', 'npresent', 'nfuture', 'antpast',\n",
       "       'antpresent', 'antfuture', 'nfpast', 'nfpresent', 'nffuture',\n",
       "       'antfpast', 'antfpresent', 'antffuture', 'ldeont', 'lmodal'],\n",
       "      dtype='object')"
      ]
     },
     "execution_count": 7,
     "metadata": {},
     "output_type": "execute_result"
    }
   ],
   "source": [
    "df.columns\n",
    "# npast, npresent, nfuture : absolute numbers of past, present, future tenses from POS tagging\n",
    "# nfpast, nfpresent, nffuture : absolute number of focus past, focus present, focus future from LIWC\n",
    "# antpast, antpresent, antfuture : fractions of past, present, future \n",
    "# antfpast, antfpresent, antffutre : fractions of focus past, focus present, focus future"
   ]
  },
  {
   "cell_type": "markdown",
   "metadata": {},
   "source": [
    "### only the Republican and the democratic parties are considered, the rest (Federalist, Whig, Jeffersonian Republican, partiless) are mainly historical "
   ]
  },
  {
   "cell_type": "code",
   "execution_count": 8,
   "metadata": {},
   "outputs": [],
   "source": [
    "df_republican = df[ df[\"Party\"] == \"Republican\"]\n",
    "df_democratic = df[ df[\"Party\"] == \"Democratic\"]"
   ]
  },
  {
   "cell_type": "code",
   "execution_count": 9,
   "metadata": {},
   "outputs": [
    {
     "data": {
      "text/plain": [
       "2597"
      ]
     },
     "execution_count": 9,
     "metadata": {},
     "output_type": "execute_result"
    }
   ],
   "source": [
    "len(df_republican)"
   ]
  },
  {
   "cell_type": "code",
   "execution_count": 10,
   "metadata": {},
   "outputs": [
    {
     "data": {
      "text/plain": [
       "2040"
      ]
     },
     "execution_count": 10,
     "metadata": {},
     "output_type": "execute_result"
    }
   ],
   "source": [
    "len(df_democratic)"
   ]
  },
  {
   "cell_type": "markdown",
   "metadata": {},
   "source": [
    "### POS tagging: the fractions of past, present, future tenses, all parties"
   ]
  },
  {
   "cell_type": "code",
   "execution_count": 82,
   "metadata": {},
   "outputs": [],
   "source": [
    "spas = df[\"npast\"].sum()\t\t\t# spacy \n",
    "sprs = df[\"npresent\"].sum()\n",
    "sfus = df[\"nfuture\"].sum()\n",
    "\n",
    "sAvepast, sAvepresent, sAvezfuture = [spas, sprs, sfus]/(spas + sprs + sfus)"
   ]
  },
  {
   "cell_type": "markdown",
   "metadata": {},
   "source": [
    "### LIWC, the fractions of past forucs, present focus and future focus, all parties"
   ]
  },
  {
   "cell_type": "code",
   "execution_count": 83,
   "metadata": {},
   "outputs": [],
   "source": [
    "lpas = df[\"nfpast\"].sum()\t\t# LIWC         \n",
    "lprs = df[\"nfpresent\"].sum()\n",
    "lfus = df[\"nffuture\"].sum()\n",
    "\n",
    "lAvepast, lAvepresent, lAvezfuture = [lpas, lprs, lfus]/(lpas + lprs + lfus)"
   ]
  },
  {
   "cell_type": "markdown",
   "metadata": {},
   "source": [
    "#### make a plot showing the proportions of past, present and future tenses averaged across the entire corpus"
   ]
  },
  {
   "cell_type": "code",
   "execution_count": 84,
   "metadata": {},
   "outputs": [
    {
     "data": {
      "image/png": "[encoded data removed]",
      "text/plain": [
       "<Figure size 432x288 with 1 Axes>"
      ]
     },
     "metadata": {
      "needs_background": "light"
     },
     "output_type": "display_data"
    }
   ],
   "source": [
    "modfplot = pd.DataFrame({'Avepast' : [lAvepast, sAvepast], 'Avepresent': [lAvepresent, sAvepresent], 'Avezfuture': [lAvezfuture, sAvezfuture]}, index =\n",
    " ['LIWC', 'Spacy'] )\n",
    "modfplot.plot.bar(rot=0)\n",
    "plt.legend(loc='best')\n",
    "plt.show()"
   ]
  },
  {
   "cell_type": "markdown",
   "metadata": {},
   "source": [
    "### histograms, timing orientation\n"
   ]
  },
  {
   "cell_type": "code",
   "execution_count": 16,
   "metadata": {},
   "outputs": [
    {
     "data": {
      "image/png": "[encoded data removed]",
      "text/plain": [
       "<Figure size 432x288 with 1 Axes>"
      ]
     },
     "metadata": {
      "needs_background": "light"
     },
     "output_type": "display_data"
    }
   ],
   "source": [
    "plt.hist(df[\"antpast\"], 50, density=1, facecolor = 'blue', alpha = 0.75, label='past tense')\n",
    "plt.hist(df[\"antpresent\"], 50, density=1, facecolor = 'orange', alpha = 0.75, label = 'present tense')\n",
    "plt.hist(df[\"antfuture\"], 50, density=1, facecolor = 'green', alpha = 0.75, label = 'future tense')\n",
    "plt.title(\"POS tagging, all cases\")\n",
    "plt.legend(loc='best')\n",
    "plt.show()"
   ]
  },
  {
   "cell_type": "code",
   "execution_count": 18,
   "metadata": {},
   "outputs": [
    {
     "data": {
      "image/png": "[encoded data removed]",
      "text/plain": [
       "<Figure size 432x288 with 1 Axes>"
      ]
     },
     "metadata": {
      "needs_background": "light"
     },
     "output_type": "display_data"
    }
   ],
   "source": [
    "plt.hist(df[\"antfpast\"], 50, density=1, facecolor = 'blue', alpha = 0.75, label='past focus')\n",
    "plt.hist(df[\"antfpresent\"], 50, density=1, facecolor = 'orange', alpha = 0.75, label='present focus')\n",
    "plt.hist(df[\"antffuture\"], 50, density=1, facecolor = 'green', alpha = 0.75, label='future focus')\n",
    "plt.title(\"LIWC, all cases\")\n",
    "plt.legend(loc='best')\n",
    "plt.show()"
   ]
  },
  {
   "cell_type": "code",
   "execution_count": 19,
   "metadata": {},
   "outputs": [
    {
     "data": {
      "image/png": "[encoded data removed]",
      "text/plain": [
       "<Figure size 432x288 with 1 Axes>"
      ]
     },
     "metadata": {
      "needs_background": "light"
     },
     "output_type": "display_data"
    }
   ],
   "source": [
    "plt.hist(df_republican[\"antpast\"], bins='auto', density=1, facecolor = 'blue', alpha = 0.75, histtype = 'step', label='past tense')\n",
    "plt.hist(df_republican[\"antpresent\"], bins='auto', density=1, facecolor = 'orange', alpha = 0.75, histtype = 'step', label='present tense')\n",
    "#plt.hist(df_republican[\"antfuture\"], bins='auto', density=1, facecolor = 'green', alpha = 0.75, histtype = 'step', label='future tense')\n",
    "plt.title(\"POS tagging, cases, republican, blue = past, orange = present\")\n",
    "plt.legend(loc='best')\n",
    "plt.show()\n",
    "# future tense left out to avoid the spike at 0"
   ]
  },
  {
   "cell_type": "code",
   "execution_count": 22,
   "metadata": {},
   "outputs": [
    {
     "data": {
      "image/png": "[encoded data removed]",
      "text/plain": [
       "<Figure size 432x288 with 1 Axes>"
      ]
     },
     "metadata": {
      "needs_background": "light"
     },
     "output_type": "display_data"
    }
   ],
   "source": [
    "plt.hist(df_democratic[\"antpast\"], bins='auto', density=1, facecolor = 'blue', alpha = 0.75, histtype = 'step', label='past tense')\n",
    "plt.hist(df_democratic[\"antpresent\"], bins='auto', density=1, facecolor = 'orange', alpha = 0.75, histtype = 'step', label='present tense')\n",
    "#plt.hist(df_democratic[\"antfuture\"], bins='auto', density=1, facecolor = 'green', alpha = 0.75, histtype = 'step', label='future tense')\n",
    "plt.title(\"POS tagging, cases, democratic, blue = past, orange = present\")\n",
    "plt.legend(loc='best')\n",
    "plt.show()\n",
    "# future tense left out to avoid the spike at 0"
   ]
  },
  {
   "cell_type": "markdown",
   "metadata": {},
   "source": [
    "\n",
    "### histogram, deontic future and modal verbs\n"
   ]
  },
  {
   "cell_type": "code",
   "execution_count": 24,
   "metadata": {},
   "outputs": [
    {
     "data": {
      "image/png": "[encoded data removed]",
      "text/plain": [
       "<Figure size 432x288 with 1 Axes>"
      ]
     },
     "metadata": {
      "needs_background": "light"
     },
     "output_type": "display_data"
    }
   ],
   "source": [
    "# considering only cases with at least 1 deontic future, to avoid the spike at 0\n",
    "df['deontic_ratio'] = df['ldeont'] / df['nwords']\n",
    "plt.hist(df.loc[df[\"deontic_ratio\"] > 0, \"deontic_ratio\"], bins='auto', density=1, facecolor = 'blue', alpha = 0.75, histtype = 'step')\n",
    "plt.title(\"deontic ratio (# deontic future / # words), all cases with >=1 deont\")\n",
    "plt.show()"
   ]
  },
  {
   "cell_type": "code",
   "execution_count": 25,
   "metadata": {},
   "outputs": [
    {
     "data": {
      "image/png": "[encoded data removed]",
      "text/plain": [
       "<Figure size 432x288 with 1 Axes>"
      ]
     },
     "metadata": {
      "needs_background": "light"
     },
     "output_type": "display_data"
    }
   ],
   "source": [
    "plt.hist(df.loc[df[\"ldeont\"] > 0, \"ldeont\"], bins='auto', density=1, facecolor = 'blue', alpha = 0.75)\n",
    "plt.title(\"# deontic futures, all cases with >=1 deont\")\n",
    "plt.show()"
   ]
  },
  {
   "cell_type": "code",
   "execution_count": 26,
   "metadata": {},
   "outputs": [
    {
     "data": {
      "image/png": "[encoded data removed]",
      "text/plain": [
       "<Figure size 432x288 with 1 Axes>"
      ]
     },
     "metadata": {
      "needs_background": "light"
     },
     "output_type": "display_data"
    }
   ],
   "source": [
    "df['modal_ratio'] = df['lmodal'] / df['nwords']\n",
    "plt.hist(df.loc[df[\"modal_ratio\"] > 0, \"modal_ratio\"], bins='auto', density=1, facecolor = 'blue', alpha = 0.75, histtype = 'step')\n",
    "plt.title(\"modal ratio (# modal / # words), all cases with >=1 modal\")\n",
    "plt.show()"
   ]
  },
  {
   "cell_type": "code",
   "execution_count": 27,
   "metadata": {},
   "outputs": [
    {
     "data": {
      "image/png": "[encoded data removed]",
      "text/plain": [
       "<Figure size 432x288 with 1 Axes>"
      ]
     },
     "metadata": {
      "needs_background": "light"
     },
     "output_type": "display_data"
    }
   ],
   "source": [
    "plt.hist(df.loc[df[\"lmodal\"] > 0, \"lmodal\"], bins='auto', density=1, facecolor = 'blue', alpha = 0.75, histtype = 'step')\n",
    "plt.title(\"# modal future, all cases with >=1 modal\")\n",
    "plt.show()"
   ]
  },
  {
   "cell_type": "code",
   "execution_count": null,
   "metadata": {
    "collapsed": true
   },
   "outputs": [],
   "source": []
  },
  {
   "cell_type": "markdown",
   "metadata": {
    "collapsed": true
   },
   "source": [
    "##### excerpt from scipy.stats.ttest_ind :\n",
    "\n",
    "We can use this test, if we observe two independent samples from the same or different population .... \n",
    "The test measures wther the average (expected) value differs significantly across samples. \n",
    "If we observe a large p-value, for example larger than 0.05 or 0.1, then we cannot reject the null hypothesis of \n",
    "identical average. If the p-value is smaller than the threshold, e.g. 1% , r% or 10%, then we reject the null \n",
    "hypothesis of equal averages. The two samples does not need to have the same length.\n",
    "\n",
    "##### excerpt from scipy.chisquare1:\n",
    "Tests the null hypothesis that the categorical data has the given frequencies. (f_obs, f_exp, ddof = 0, axis = 0)\n",
    "The p-value is computed using a chi-squared distribution with k - 1- ddof degrees of freedom, where k = the number of observed frequencies."
   ]
  },
  {
   "cell_type": "code",
   "execution_count": 85,
   "metadata": {},
   "outputs": [
    {
     "name": "stdout",
     "output_type": "stream",
     "text": [
      "0.48633199147164446 0.4944106035785858 0.019257404949769755\n"
     ]
    }
   ],
   "source": [
    "# calculate the proportions of past, present and future tenses averaged across the entire corpus\n",
    "# see above                 POS tagging\n",
    "print(sAvepast, sAvepresent, sAvezfuture)\n"
   ]
  },
  {
   "cell_type": "code",
   "execution_count": 86,
   "metadata": {},
   "outputs": [
    {
     "data": {
      "text/plain": [
       "Power_divergenceResult(statistic=45.632798573975045, pvalue=1.2330017493455464e-10)"
      ]
     },
     "execution_count": 86,
     "metadata": {},
     "output_type": "execute_result"
    }
   ],
   "source": [
    "# chisquared test   observed data vs expected (=uniformly distributed) data   POS tagging  entire cases corpus\n",
    "#chisquare([100*sAvepast, 100*sAvepresent, 100*sAvefuture], [33, 33, 34])\n",
    "chisquare([49, 49, 2], [33, 33, 34])\n",
    "# high test statistic and low p-value indicate that the observed distribution is unequal to the expected, uniform distribution\n",
    "# hence the use of past, present and future tenses in the case corpus is deliberate"
   ]
  },
  {
   "cell_type": "code",
   "execution_count": 87,
   "metadata": {},
   "outputs": [
    {
     "name": "stdout",
     "output_type": "stream",
     "text": [
      "0.40126752767022084 0.5258992993042367 0.07283317302554237\n"
     ]
    }
   ],
   "source": [
    "# calculate the proportions of past, present and future focus averaged across the entire corpus\n",
    "# see above                   LIWC\n",
    "print(lAvepast, lAvepresent, lAvezfuture)"
   ]
  },
  {
   "cell_type": "code",
   "execution_count": 88,
   "metadata": {},
   "outputs": [
    {
     "data": {
      "text/plain": [
       "Power_divergenceResult(statistic=35.11728474285506, pvalue=2.3679826082951493e-08)"
      ]
     },
     "execution_count": 88,
     "metadata": {},
     "output_type": "execute_result"
    }
   ],
   "source": [
    "# chisquared test   observed data vs expected (=uniformly distributed) data   LIWC  entire cases corpus\n",
    "chisquare([100*lAvepast, 100*lAvepresent, 100*lAvefuture], [33, 33, 34])\n",
    "# high test statistic and low p-value indicate that the observed distribution is unequal to the expected, uniform distribution\n",
    "# hence the use of past, present and future focus in the case corpus is deliberate"
   ]
  },
  {
   "cell_type": "code",
   "execution_count": null,
   "metadata": {
    "collapsed": true
   },
   "outputs": [],
   "source": [
    "# test results show that distribution of time orientation in the cases corpus is statistically significantly not uniform"
   ]
  },
  {
   "cell_type": "code",
   "execution_count": null,
   "metadata": {
    "collapsed": true
   },
   "outputs": [],
   "source": []
  },
  {
   "cell_type": "code",
   "execution_count": 11,
   "metadata": {
    "collapsed": true
   },
   "outputs": [],
   "source": [
    "# POS tagging  antpast, antpresent, antfuture"
   ]
  },
  {
   "cell_type": "code",
   "execution_count": 38,
   "metadata": {},
   "outputs": [
    {
     "data": {
      "text/plain": [
       "Ttest_indResult(statistic=3.9810333139896397, pvalue=6.903741440270563e-05)"
      ]
     },
     "execution_count": 38,
     "metadata": {},
     "output_type": "execute_result"
    }
   ],
   "source": [
    "ttest_ind(df[\"antpast\"], df[\"antpresent\"])\n",
    "# high t-statistic and low p-value indicate the mean of past tenses and present tenses are not equal"
   ]
  },
  {
   "cell_type": "code",
   "execution_count": 81,
   "metadata": {},
   "outputs": [
    {
     "data": {
      "text/plain": [
       "Ttest_indResult(statistic=210.58070597007398, pvalue=0.0)"
      ]
     },
     "execution_count": 81,
     "metadata": {},
     "output_type": "execute_result"
    }
   ],
   "source": [
    "ttest_ind(df[\"antpresent\"], df[\"antfuture\"])\n",
    "# high t-statistic and low p-value indicate the mean of present tenses and future tenses are not equal"
   ]
  },
  {
   "cell_type": "code",
   "execution_count": 14,
   "metadata": {
    "collapsed": true
   },
   "outputs": [],
   "source": [
    "# LIWC  antfpast, antfpresent, antffuture   vs  POS tagging antpast, antpresent, antfuture"
   ]
  },
  {
   "cell_type": "code",
   "execution_count": 39,
   "metadata": {},
   "outputs": [
    {
     "data": {
      "text/plain": [
       "Ttest_indResult(statistic=-28.8494721330526, pvalue=9.031728047365847e-177)"
      ]
     },
     "execution_count": 39,
     "metadata": {},
     "output_type": "execute_result"
    }
   ],
   "source": [
    "ttest_ind(df[\"antfpast\"], df[\"antpast\"])\n",
    "# high t-statistic and low p-value indicate the mean of past tenses (POS) and past focus (LIWC) are not equal"
   ]
  },
  {
   "cell_type": "code",
   "execution_count": 40,
   "metadata": {},
   "outputs": [
    {
     "data": {
      "text/plain": [
       "Ttest_indResult(statistic=16.251280671509075, pvalue=9.823219810691702e-59)"
      ]
     },
     "execution_count": 40,
     "metadata": {},
     "output_type": "execute_result"
    }
   ],
   "source": [
    "ttest_ind(df[\"antfpresent\"], df[\"antpresent\"])  \n",
    "# high t-statistic and low p-value indicate the mean of present tenses (POS) and present focus (LIWC) are not equal"
   ]
  },
  {
   "cell_type": "code",
   "execution_count": 42,
   "metadata": {},
   "outputs": [
    {
     "data": {
      "text/plain": [
       "Ttest_indResult(statistic=57.424724422704024, pvalue=0.0)"
      ]
     },
     "execution_count": 42,
     "metadata": {},
     "output_type": "execute_result"
    }
   ],
   "source": [
    "ttest_ind(df[\"antffuture\"], df[\"antfuture\"])\n",
    "# high t-statistic and low p-value indicate the mean of future tenses (POS) and future focus (LIWC) are not equal"
   ]
  },
  {
   "cell_type": "code",
   "execution_count": 43,
   "metadata": {},
   "outputs": [],
   "source": [
    "# POS tagging    past, present, future over the years"
   ]
  },
  {
   "cell_type": "code",
   "execution_count": 44,
   "metadata": {},
   "outputs": [
    {
     "data": {
      "image/png": "[encoded data removed]",
      "text/plain": [
       "<Figure size 432x288 with 1 Axes>"
      ]
     },
     "metadata": {
      "needs_background": "light"
     },
     "output_type": "display_data"
    }
   ],
   "source": [
    "import matplotlib.pyplot as plt\n",
    "axpast = df[df[\"year\"] != 0 ].groupby('year')['antpast'].mean().plot(color='red', label='past tense')\n",
    "axpresent = df[df[\"year\"] != 0].groupby('year')['antpresent'].mean().plot(color='green', label='present tense')\n",
    "axfuture = df[df[\"year\"] !=0].groupby('year')['antfuture'].mean().plot(color='blue', label='future tense')\n",
    "plt.legend(loc='best')\n",
    "plt.show()\t"
   ]
  },
  {
   "cell_type": "code",
   "execution_count": 45,
   "metadata": {},
   "outputs": [],
   "source": [
    "pasttense_before1970 = df [df[\"year\"] < 1970][\"antpast\"]\n",
    "pasttense_after1970 = df [df[\"year\"] >= 1970][\"antpast\"]"
   ]
  },
  {
   "cell_type": "code",
   "execution_count": 26,
   "metadata": {},
   "outputs": [
    {
     "data": {
      "text/plain": [
       "Ttest_indResult(statistic=9.648791508483363, pvalue=7.27435956407142e-22)"
      ]
     },
     "execution_count": 26,
     "metadata": {},
     "output_type": "execute_result"
    }
   ],
   "source": [
    "# indicates means before 1970 statististically significantly differs from after 1970\n",
    "ttest_ind(pasttense_before1970, pasttense_after1970)"
   ]
  },
  {
   "cell_type": "code",
   "execution_count": 27,
   "metadata": {
    "collapsed": true
   },
   "outputs": [],
   "source": [
    "#  LIWC    past, present, future over the years"
   ]
  },
  {
   "cell_type": "code",
   "execution_count": 46,
   "metadata": {},
   "outputs": [
    {
     "data": {
      "image/png": "[encoded data removed]",
      "text/plain": [
       "<Figure size 432x288 with 1 Axes>"
      ]
     },
     "metadata": {
      "needs_background": "light"
     },
     "output_type": "display_data"
    }
   ],
   "source": [
    "import matplotlib.pyplot as plt\n",
    "axpast = df[df[\"year\"] != 0 ].groupby('year')['antfpast'].mean().plot(color='red', label='past focus')\n",
    "axpresent = df[df[\"year\"] != 0].groupby('year')['antfpresent'].mean().plot(color='green', label='present focus')\n",
    "axfuture = df[df[\"year\"] !=0].groupby('year')['antffuture'].mean().plot(color='blue', label='future focus')\n",
    "plt.legend(loc='best')\n",
    "plt.show()\t"
   ]
  },
  {
   "cell_type": "code",
   "execution_count": 47,
   "metadata": {},
   "outputs": [],
   "source": [
    "pastfocus_before1970 = df [df[\"year\"] < 1970][\"antfpast\"]\n",
    "pastfocus_after1970 = df [df[\"year\"] >= 1970][\"antfpast\"]"
   ]
  },
  {
   "cell_type": "code",
   "execution_count": 48,
   "metadata": {},
   "outputs": [
    {
     "data": {
      "text/plain": [
       "Ttest_indResult(statistic=10.291460917234133, pvalue=1.256953354749462e-24)"
      ]
     },
     "execution_count": 48,
     "metadata": {},
     "output_type": "execute_result"
    }
   ],
   "source": [
    "# indicates means before 1970 statististically significantly differs from after 1970\n",
    "ttest_ind(pastfocus_before1970, pastfocus_after1970)"
   ]
  },
  {
   "cell_type": "markdown",
   "metadata": {},
   "source": [
    "### republican vs democratic"
   ]
  },
  {
   "cell_type": "code",
   "execution_count": 50,
   "metadata": {},
   "outputs": [],
   "source": [
    "df_republican = df[ df[\"Party\"] == \"Republican\"]\n",
    "df_democratic = df[ df[\"Party\"] == \"Democratic\"]"
   ]
  },
  {
   "cell_type": "code",
   "execution_count": 89,
   "metadata": {},
   "outputs": [],
   "source": [
    "# POS tagging    past tense, present tense, future tense    rep \n",
    "rpas = df_republican['npast'].sum()\n",
    "rprs = df_republican['npresent'].sum()\n",
    "rfus = df_republican ['nfuture'].sum()\n",
    "\n",
    "rAvepast, rAvepresent, rAvefuture = [rpas, rprs, rfus]/(rpas + rprs + rfus)"
   ]
  },
  {
   "cell_type": "code",
   "execution_count": 90,
   "metadata": {},
   "outputs": [
    {
     "data": {
      "text/plain": [
       "Power_divergenceResult(statistic=45.88852470731267, pvalue=1.085009319421516e-10)"
      ]
     },
     "execution_count": 90,
     "metadata": {},
     "output_type": "execute_result"
    }
   ],
   "source": [
    "# chisquared test      observed data vs expected (=uniformly distributed) data    rep     POS tagging\n",
    "chisquare([100*rAvepast, 100*rAvepresent, 100*rAvefuture], [33, 33, 34])\n",
    "# use of past, present and future tenses by republican judges not uniformly distributed"
   ]
  },
  {
   "cell_type": "code",
   "execution_count": 91,
   "metadata": {},
   "outputs": [],
   "source": [
    "dpas = df_democratic['npast'].sum()\n",
    "dprs = df_democratic['npresent'].sum()\n",
    "dfus = df_democratic['nfuture'].sum()\n",
    "\n",
    "dAvepast, dAvepresent, dAvefuture = [dpas, dprs, dfus]/(dpas + dprs + dfus)"
   ]
  },
  {
   "cell_type": "code",
   "execution_count": 92,
   "metadata": {},
   "outputs": [
    {
     "data": {
      "text/plain": [
       "Power_divergenceResult(statistic=45.87832798138105, pvalue=1.0905552162376727e-10)"
      ]
     },
     "execution_count": 92,
     "metadata": {},
     "output_type": "execute_result"
    }
   ],
   "source": [
    "# chisquared test      observed data vs expected (=uniformly distributed) data    dem     POS tagging\n",
    "chisquare([100*dAvepast, 100*dAvepresent, 100*dAvefuture], [33, 33, 34])\n",
    "# use of past, present and future tenses by democratic judges not uniformly distributed"
   ]
  },
  {
   "cell_type": "code",
   "execution_count": null,
   "metadata": {
    "collapsed": true
   },
   "outputs": [],
   "source": []
  },
  {
   "cell_type": "code",
   "execution_count": 56,
   "metadata": {},
   "outputs": [
    {
     "data": {
      "text/plain": [
       "Ttest_indResult(statistic=1.4863221647624705, pvalue=0.13726194142666256)"
      ]
     },
     "execution_count": 56,
     "metadata": {},
     "output_type": "execute_result"
    }
   ],
   "source": [
    "# POS tagging  past tense    rep vs dem\n",
    "ttest_ind(df_republican[\"antpast\"], df_democratic[\"antpast\"])\n",
    "# test result indicating use of past tense not significantly different between republican and democratic judges"
   ]
  },
  {
   "cell_type": "code",
   "execution_count": 35,
   "metadata": {},
   "outputs": [
    {
     "data": {
      "text/plain": [
       "Ttest_indResult(statistic=-1.5542463287572683, pvalue=0.12019394412787038)"
      ]
     },
     "execution_count": 35,
     "metadata": {},
     "output_type": "execute_result"
    }
   ],
   "source": [
    "# POS tagging  present tense  rep vs dem\n",
    "ttest_ind(df_republican[\"antpresent\"], df_democratic[\"antpresent\"])\n",
    "# test result indicating use of present tense not significantly different between republican and democratic judges"
   ]
  },
  {
   "cell_type": "code",
   "execution_count": 57,
   "metadata": {},
   "outputs": [
    {
     "data": {
      "text/plain": [
       "Ttest_indResult(statistic=0.8914861232937964, pvalue=0.3727147081497669)"
      ]
     },
     "execution_count": 57,
     "metadata": {},
     "output_type": "execute_result"
    }
   ],
   "source": [
    "# POS tagging  future tense  rep vs dem\n",
    "ttest_ind(df_republican[\"antfuture\"], df_democratic[\"antfuture\"])\n",
    "# test result indicating use of future tense not significantly different between republican and democratic judges"
   ]
  },
  {
   "cell_type": "code",
   "execution_count": 38,
   "metadata": {},
   "outputs": [
    {
     "data": {
      "text/plain": [
       "Ttest_indResult(statistic=1.1871225805247378, pvalue=0.23524010971524925)"
      ]
     },
     "execution_count": 38,
     "metadata": {},
     "output_type": "execute_result"
    }
   ],
   "source": [
    "# LIWC  past focus   rep vs dem\n",
    "ttest_ind(df_republican[\"antfpast\"], df_democratic[\"antfpast\"])\n",
    "# test result indicating use of past focus not significantly different between republican and democratic judges"
   ]
  },
  {
   "cell_type": "code",
   "execution_count": 58,
   "metadata": {},
   "outputs": [
    {
     "data": {
      "text/plain": [
       "Ttest_indResult(statistic=-1.8136488402454323, pvalue=0.06979644819482464)"
      ]
     },
     "execution_count": 58,
     "metadata": {},
     "output_type": "execute_result"
    }
   ],
   "source": [
    "# LIWC  present focus  rep vs dem\n",
    "ttest_ind(df_republican[\"antfpresent\"], df_democratic[\"antfpresent\"])\n",
    "# test result indicating use of present focus not significantly different between republican and democratic judges"
   ]
  },
  {
   "cell_type": "code",
   "execution_count": 59,
   "metadata": {},
   "outputs": [
    {
     "data": {
      "text/plain": [
       "Ttest_indResult(statistic=1.5543266654359942, pvalue=0.12017478973887423)"
      ]
     },
     "execution_count": 59,
     "metadata": {},
     "output_type": "execute_result"
    }
   ],
   "source": [
    "# LIWC  future focus  rep vs dem\n",
    "ttest_ind(df_republican[\"antffuture\"], df_democratic[\"antffuture\"])\n",
    "# test result indicating use of future focus not significantly different between republican and democratic judges"
   ]
  },
  {
   "cell_type": "code",
   "execution_count": 93,
   "metadata": {},
   "outputs": [
    {
     "data": {
      "image/png": "[encoded data removed]",
      "text/plain": [
       "<Figure size 432x288 with 1 Axes>"
      ]
     },
     "metadata": {
      "needs_background": "light"
     },
     "output_type": "display_data"
    }
   ],
   "source": [
    "# POS tagging    past tense, present tense, future tense    rep vs dem\n",
    "modfplot = pd.DataFrame({'Ave1past' : [rAvepast, dAvepast], 'Ave2present': [rAvepresent, dAvepresent], 'Avef3future': [rAvefuture, dAvefuture]}, index = ['rep', 'dem'] )\n",
    "modfplot.plot.bar(rot=0)\n",
    "plt.show()"
   ]
  },
  {
   "cell_type": "code",
   "execution_count": 94,
   "metadata": {},
   "outputs": [
    {
     "data": {
      "image/png": "[encoded data removed]",
      "text/plain": [
       "<Figure size 432x288 with 1 Axes>"
      ]
     },
     "metadata": {
      "needs_background": "light"
     },
     "output_type": "display_data"
    }
   ],
   "source": [
    "# LIWC   past focus, present focus, future focus    rep vs dem\n",
    "rfpas = df_republican['nfpast'].sum()\n",
    "rfprs = df_republican['nfpresent'].sum()\n",
    "rffus = df_republican ['nffuture'].sum()\n",
    "\n",
    "rAvefpast, rAvefpresent, rAveffuture = [rfpas, rfprs, rffus]/(rfpas + rfprs + rffus)\n",
    "\n",
    "dfpas = df_democratic['nfpast'].sum()\n",
    "dfprs = df_democratic['nfpresent'].sum()\n",
    "dffus = df_democratic['nffuture'].sum()\n",
    "\n",
    "dAvefpast, dAvefpresent, dAveffuture = [dfpas, dfprs, dffus]/(dfpas + dfprs + dffus)\n",
    "\n",
    "modfplot = pd.DataFrame({'Avef1past' : [rAvefpast, dAvefpast], 'Avef2present': [rAvefpresent, dAvefpresent], 'Avef3future': [rAveffuture, dAveffuture]}, index = ['rep', 'dem'] )\n",
    "modfplot.plot.bar(rot=0)\n",
    "plt.show()"
   ]
  },
  {
   "cell_type": "code",
   "execution_count": 95,
   "metadata": {},
   "outputs": [
    {
     "data": {
      "text/plain": [
       "Power_divergenceResult(statistic=33.85030521178655, pvalue=4.461692320230134e-08)"
      ]
     },
     "execution_count": 95,
     "metadata": {},
     "output_type": "execute_result"
    }
   ],
   "source": [
    "# chisquared test      observed data vs expected (=uniformly distributed) data    rep     LIWC\n",
    "chisquare([100*rAvefpast, 100*rAvefpresent, 100*rAveffuture], [33, 33, 34])\n",
    "# use of past, present and future focus by republican judges not uniformly distributed"
   ]
  },
  {
   "cell_type": "code",
   "execution_count": 96,
   "metadata": {},
   "outputs": [
    {
     "data": {
      "text/plain": [
       "Power_divergenceResult(statistic=34.60614352071076, pvalue=3.05753484046541e-08)"
      ]
     },
     "execution_count": 96,
     "metadata": {},
     "output_type": "execute_result"
    }
   ],
   "source": [
    "# chisquared test      observed data vs expected (=uniformly distributed) data    dem     LIWC\n",
    "chisquare([100*dAvefpast, 100*dAvefpresent, 100*dAveffuture], [33, 33, 34])\n",
    "# use of past, present and future focus by democratic judges not uniformly distributed"
   ]
  },
  {
   "cell_type": "code",
   "execution_count": null,
   "metadata": {
    "collapsed": true
   },
   "outputs": [],
   "source": []
  }
 ],
 "metadata": {
  "kernelspec": {
   "display_name": "Python 3",
   "language": "python",
   "name": "python3"
  },
  "language_info": {
   "codemirror_mode": {
    "name": "ipython",
    "version": 3
   },
   "file_extension": ".py",
   "mimetype": "text/x-python",
   "name": "python",
   "nbconvert_exporter": "python",
   "pygments_lexer": "ipython3",
   "version": "3.5.5"
  }
 },
 "nbformat": 4,
 "nbformat_minor": 2
}
